{
  "nbformat": 4,
  "nbformat_minor": 0,
  "metadata": {
    "colab": {
      "name": "boston_housing.ipynb",
      "provenance": [],
      "collapsed_sections": [
        "2L-bgrfWs3A2"
      ],
      "toc_visible": true,
      "authorship_tag": "ABX9TyNaoLbMWJcI4EaIe3Qd0/z0",
      "include_colab_link": true
    },
    "kernelspec": {
      "name": "python3",
      "display_name": "Python 3"
    }
  },
  "cells": [
    {
      "cell_type": "markdown",
      "metadata": {
        "id": "view-in-github",
        "colab_type": "text"
      },
      "source": [
        "<a href=\"https://colab.research.google.com/github/Richish/deep_learning_with_python/blob/master/boston_housing.ipynb\" target=\"_parent\"><img src=\"https://colab.research.google.com/assets/colab-badge.svg\" alt=\"Open In Colab\"/></a>"
      ]
    },
    {
      "cell_type": "markdown",
      "metadata": {
        "id": "yCOYF07PrSSO",
        "colab_type": "text"
      },
      "source": [
        "# Load data\n"
      ]
    },
    {
      "cell_type": "code",
      "metadata": {
        "id": "OgYzDmLoqj_n",
        "colab_type": "code",
        "colab": {
          "base_uri": "https://localhost:8080/",
          "height": 114
        },
        "outputId": "8dfc746d-6ffe-4529-f5bf-447c8667924a"
      },
      "source": [
        "from keras.datasets import boston_housing\n",
        "\n",
        "(train_data, train_targets), (test_data, test_targets)=boston_housing.load_data()"
      ],
      "execution_count": null,
      "outputs": [
        {
          "output_type": "stream",
          "text": [
            "Using TensorFlow backend.\n"
          ],
          "name": "stderr"
        },
        {
          "output_type": "display_data",
          "data": {
            "text/html": [
              "<p style=\"color: red;\">\n",
              "The default version of TensorFlow in Colab will soon switch to TensorFlow 2.x.<br>\n",
              "We recommend you <a href=\"https://www.tensorflow.org/guide/migrate\" target=\"_blank\">upgrade</a> now \n",
              "or ensure your notebook will continue to use TensorFlow 1.x via the <code>%tensorflow_version 1.x</code> magic:\n",
              "<a href=\"https://colab.research.google.com/notebooks/tensorflow_version.ipynb\" target=\"_blank\">more info</a>.</p>\n"
            ],
            "text/plain": [
              "<IPython.core.display.HTML object>"
            ]
          },
          "metadata": {
            "tags": []
          }
        },
        {
          "output_type": "stream",
          "text": [
            "Downloading data from https://s3.amazonaws.com/keras-datasets/boston_housing.npz\n",
            "57344/57026 [==============================] - 0s 3us/step\n"
          ],
          "name": "stdout"
        }
      ]
    },
    {
      "cell_type": "code",
      "metadata": {
        "id": "aXLrlyXPrX8p",
        "colab_type": "code",
        "colab": {
          "base_uri": "https://localhost:8080/",
          "height": 68
        },
        "outputId": "c0a2e50e-63c4-465e-9a1b-843d53f2d6cd"
      },
      "source": [
        "print(train_data.shape, test_data.shape)\n",
        "print(train_targets.shape, test_targets.shape)\n",
        "print(type(train_data), type(train_targets))"
      ],
      "execution_count": null,
      "outputs": [
        {
          "output_type": "stream",
          "text": [
            "(404, 13) (102, 13)\n",
            "(404,) (102,)\n",
            "<class 'numpy.ndarray'> <class 'numpy.ndarray'>\n"
          ],
          "name": "stdout"
        }
      ]
    },
    {
      "cell_type": "code",
      "metadata": {
        "id": "CgwsVJ_IsENQ",
        "colab_type": "code",
        "colab": {
          "base_uri": "https://localhost:8080/",
          "height": 34
        },
        "outputId": "223c523e-33a1-460e-e30b-fd763a1a35f9"
      },
      "source": [
        "#print(train_targets)\n",
        "print(train_targets.min(), train_targets.max(), train_targets.mean())"
      ],
      "execution_count": null,
      "outputs": [
        {
          "output_type": "stream",
          "text": [
            "5.0 50.0 22.395049504950492\n"
          ],
          "name": "stdout"
        }
      ]
    },
    {
      "cell_type": "markdown",
      "metadata": {
        "id": "2L-bgrfWs3A2",
        "colab_type": "text"
      },
      "source": [
        "# Data Normalization(Feature normalization)"
      ]
    },
    {
      "cell_type": "code",
      "metadata": {
        "id": "guC2oy6Bs9kv",
        "colab_type": "code",
        "colab": {
          "base_uri": "https://localhost:8080/"
        },
        "outputId": "6f23ca96-55ac-43d9-b3e1-c12177b09ee9"
      },
      "source": [
        "# find mean of each feature in train data\n",
        "mean=train_data.mean(axis=0)\n",
        "mean"
      ],
      "execution_count": null,
      "outputs": [
        {
          "output_type": "execute_result",
          "data": {
            "text/plain": [
              "array([3.74511057e+00, 1.14801980e+01, 1.11044307e+01, 6.18811881e-02,\n",
              "       5.57355941e-01, 6.26708168e+00, 6.90106436e+01, 3.74027079e+00,\n",
              "       9.44059406e+00, 4.05898515e+02, 1.84759901e+01, 3.54783168e+02,\n",
              "       1.27408168e+01])"
            ]
          },
          "metadata": {
            "tags": []
          },
          "execution_count": 5
        }
      ]
    },
    {
      "cell_type": "code",
      "metadata": {
        "id": "__q_iLsytWUs",
        "colab_type": "code",
        "colab": {
          "base_uri": "https://localhost:8080/"
        },
        "outputId": "3d102efc-ae9a-440d-8b43-6620504b0d97"
      },
      "source": [
        "#std deviation of each feature in train data\n",
        "std=train_data.std(axis=0)\n",
        "std"
      ],
      "execution_count": null,
      "outputs": [
        {
          "output_type": "execute_result",
          "data": {
            "text/plain": [
              "array([9.22929073e+00, 2.37382770e+01, 6.80287253e+00, 2.40939633e-01,\n",
              "       1.17147847e-01, 7.08908627e-01, 2.79060634e+01, 2.02770050e+00,\n",
              "       8.68758849e+00, 1.66168506e+02, 2.19765689e+00, 9.39946015e+01,\n",
              "       7.24556085e+00])"
            ]
          },
          "metadata": {
            "tags": []
          },
          "execution_count": 6
        }
      ]
    },
    {
      "cell_type": "code",
      "metadata": {
        "id": "NdSToXq7toyO",
        "colab_type": "code",
        "colab": {
          "base_uri": "https://localhost:8080/"
        },
        "outputId": "8929186c-efaa-4f96-fa8b-8770bd128e60"
      },
      "source": [
        "# normalized train data: subtract mean and divide by std dev.\n",
        "train_data -= mean\n",
        "train_data /= std\n",
        "train_data"
      ],
      "execution_count": null,
      "outputs": [
        {
          "output_type": "execute_result",
          "data": {
            "text/plain": [
              "array([[-0.27224633, -0.48361547, -0.43576161, ...,  1.14850044,\n",
              "         0.44807713,  0.8252202 ],\n",
              "       [-0.40342651,  2.99178419, -1.33391162, ..., -1.71818909,\n",
              "         0.43190599, -1.32920239],\n",
              "       [ 0.1249402 , -0.48361547,  1.0283258 , ...,  0.78447637,\n",
              "         0.22061726, -1.30850006],\n",
              "       ...,\n",
              "       [-0.40202987,  0.99079651, -0.7415148 , ..., -0.71712291,\n",
              "         0.07943894, -0.67776904],\n",
              "       [-0.17292018, -0.48361547,  1.24588095, ..., -1.71818909,\n",
              "        -0.98764362,  0.42083466],\n",
              "       [-0.40422614,  2.04394792, -1.20161456, ..., -1.30866202,\n",
              "         0.23317118, -1.15392266]])"
            ]
          },
          "metadata": {
            "tags": []
          },
          "execution_count": 7
        }
      ]
    },
    {
      "cell_type": "code",
      "metadata": {
        "id": "MkJR01Cot_AX",
        "colab_type": "code",
        "colab": {
          "base_uri": "https://localhost:8080/"
        },
        "outputId": "76d6b77c-e097-42ff-d151-64d743f0bbda"
      },
      "source": [
        "# normalized test data: test data is also normalized by using same mean and std dev as test.\n",
        "# It must always be same cannot normalize using different values/factors for test data as that will be wrong.\n",
        "test_data -= mean\n",
        "test_data /= std\n",
        "test_data"
      ],
      "execution_count": null,
      "outputs": [
        {
          "output_type": "execute_result",
          "data": {
            "text/plain": [
              "array([[ 1.55369355, -0.48361547,  1.0283258 , ...,  0.78447637,\n",
              "        -3.48459553,  2.25092074],\n",
              "       [-0.39242675, -0.48361547, -0.16087773, ..., -0.30759583,\n",
              "         0.42733126,  0.47880119],\n",
              "       [-0.39982927, -0.48361547, -0.86940196, ...,  0.78447637,\n",
              "         0.44807713, -0.41415936],\n",
              "       ...,\n",
              "       [-0.20709507, -0.48361547,  1.24588095, ..., -1.71818909,\n",
              "         0.37051949, -1.49344089],\n",
              "       [-0.36698601, -0.48361547, -0.72093526, ..., -0.48960787,\n",
              "         0.39275481, -0.41829982],\n",
              "       [-0.0889679 , -0.48361547,  1.24588095, ..., -1.71818909,\n",
              "        -1.21946544, -0.40449827]])"
            ]
          },
          "metadata": {
            "tags": []
          },
          "execution_count": 8
        }
      ]
    },
    {
      "cell_type": "markdown",
      "metadata": {
        "id": "vXYqJzjdu54n",
        "colab_type": "text"
      },
      "source": [
        "# Build the model/network"
      ]
    },
    {
      "cell_type": "code",
      "metadata": {
        "id": "RMW12Kznu9oy",
        "colab_type": "code",
        "colab": {}
      },
      "source": [
        "from keras import layers, models\n",
        "\n",
        "def build_model():\n",
        "  \"\"\"\n",
        "  function builds the model, compiles the model and returns that model\n",
        "  \"\"\"\n",
        "  \n",
        "  layer_1= layers.Dense(units=64, activation=\"relu\", input_shape=(train_data.shape[1],))\n",
        "  layer_2= layers.Dense(units=64, activation=\"relu\")\n",
        "  layer_3=layers.Dense(units=1) # single unit and no activation in end layer for logistic regression\n",
        "  # since activation function constraints the output of the layer.\n",
        "  model=models.Sequential(layers=[layer_1,layer_2, layer_3])\n",
        "  model.compile(optimizer=\"rmsprop\", loss=\"mse\",metrics=[\"mae\"])\n",
        "  # mae is mean absolute error- it is absolute difference between predictions and target\n",
        "  return model"
      ],
      "execution_count": null,
      "outputs": []
    },
    {
      "cell_type": "markdown",
      "metadata": {
        "id": "-mv3GlxHxza_",
        "colab_type": "text"
      },
      "source": [
        "# k-fold validation\n"
      ]
    },
    {
      "cell_type": "code",
      "metadata": {
        "id": "bV4HCrtXx3is",
        "colab_type": "code",
        "colab": {}
      },
      "source": [
        "# since the training examples are very less, if we split data in a straightforward way into cross validation and training set.\n",
        "# the loss in each iteration will depend largely on what portion of data was in cv set.\n",
        "# to avoid this we use k-fold cross validation.\n",
        "# Here we divide the data into 'k'(usually 4-5) partitions(folds).\n",
        "# In each iteration we take iterate with taking 1 partition as cv set and remaining k-1 partitions as training set.\n",
        "# hence in each epoch, we actually do 'k' iterations.\n",
        "# and for each epoch we take average loss for such calculations\n",
        "\n"
      ],
      "execution_count": null,
      "outputs": []
    },
    {
      "cell_type": "code",
      "metadata": {
        "id": "DmPxcR4SzwX8",
        "colab_type": "code",
        "colab": {
          "base_uri": "https://localhost:8080/",
          "height": 598
        },
        "outputId": "7e5af35a-430f-43ba-9bad-46a277f5ce6f"
      },
      "source": [
        "import numpy as np\n",
        "k=4\n",
        "num_epochs=100\n",
        "fold_samples_count=len(train_data)//k # training samples in each fold\n",
        "print(fold_samples_count)\n",
        "all_scores=[]\n",
        "for i in range(k):\n",
        "  # for each fold\n",
        "  print(\"processing fold# {}\".format(i))\n",
        "  # cv set\n",
        "  val_data=train_data[i*fold_samples_count:(i+1)*fold_samples_count]\n",
        "  val_targets=train_targets[i*fold_samples_count:(i+1)*fold_samples_count]\n",
        "  # partial train set\n",
        "  partial_train_data=np.concatenate([train_data[:i*fold_samples_count], train_data[(i+1) * fold_samples_count:]], axis=0)\n",
        "  \n",
        "  partial_train_targets=np.concatenate((train_targets[:i*fold_samples_count],\n",
        "                                    train_targets[(i+1)*fold_samples_count:]), axis=0)\n",
        "  model=build_model()\n",
        "  model.fit(x=partial_train_data, y=partial_train_targets, epochs=num_epochs,batch_size=1,verbose=0)\n",
        "\n",
        "  # evaluate the model on cv set\n",
        "  mse, mae = model.evaluate(x=val_data, y=val_targets, verbose=0)\n",
        "  print(mse, mae)\n",
        "  all_scores.append(mae)\n",
        "  \n",
        "  "
      ],
      "execution_count": null,
      "outputs": [
        {
          "output_type": "stream",
          "text": [
            "101\n",
            "processing fold# 0\n",
            "WARNING:tensorflow:From /usr/local/lib/python3.6/dist-packages/keras/backend/tensorflow_backend.py:66: The name tf.get_default_graph is deprecated. Please use tf.compat.v1.get_default_graph instead.\n",
            "\n",
            "WARNING:tensorflow:From /usr/local/lib/python3.6/dist-packages/keras/backend/tensorflow_backend.py:541: The name tf.placeholder is deprecated. Please use tf.compat.v1.placeholder instead.\n",
            "\n",
            "WARNING:tensorflow:From /usr/local/lib/python3.6/dist-packages/keras/backend/tensorflow_backend.py:4432: The name tf.random_uniform is deprecated. Please use tf.random.uniform instead.\n",
            "\n",
            "WARNING:tensorflow:From /usr/local/lib/python3.6/dist-packages/keras/optimizers.py:793: The name tf.train.Optimizer is deprecated. Please use tf.compat.v1.train.Optimizer instead.\n",
            "\n",
            "WARNING:tensorflow:From /usr/local/lib/python3.6/dist-packages/keras/backend/tensorflow_backend.py:1033: The name tf.assign_add is deprecated. Please use tf.compat.v1.assign_add instead.\n",
            "\n",
            "WARNING:tensorflow:From /usr/local/lib/python3.6/dist-packages/keras/backend/tensorflow_backend.py:1020: The name tf.assign is deprecated. Please use tf.compat.v1.assign instead.\n",
            "\n",
            "WARNING:tensorflow:From /usr/local/lib/python3.6/dist-packages/keras/backend/tensorflow_backend.py:3005: The name tf.Session is deprecated. Please use tf.compat.v1.Session instead.\n",
            "\n",
            "WARNING:tensorflow:From /usr/local/lib/python3.6/dist-packages/keras/backend/tensorflow_backend.py:190: The name tf.get_default_session is deprecated. Please use tf.compat.v1.get_default_session instead.\n",
            "\n",
            "WARNING:tensorflow:From /usr/local/lib/python3.6/dist-packages/keras/backend/tensorflow_backend.py:197: The name tf.ConfigProto is deprecated. Please use tf.compat.v1.ConfigProto instead.\n",
            "\n",
            "WARNING:tensorflow:From /usr/local/lib/python3.6/dist-packages/keras/backend/tensorflow_backend.py:207: The name tf.global_variables is deprecated. Please use tf.compat.v1.global_variables instead.\n",
            "\n",
            "WARNING:tensorflow:From /usr/local/lib/python3.6/dist-packages/keras/backend/tensorflow_backend.py:216: The name tf.is_variable_initialized is deprecated. Please use tf.compat.v1.is_variable_initialized instead.\n",
            "\n",
            "WARNING:tensorflow:From /usr/local/lib/python3.6/dist-packages/keras/backend/tensorflow_backend.py:223: The name tf.variables_initializer is deprecated. Please use tf.compat.v1.variables_initializer instead.\n",
            "\n",
            "9.270633215951447 2.120475185979711\n",
            "processing fold# 1\n",
            "10.845404011188167 2.6205178038908703\n",
            "processing fold# 2\n",
            "18.810379321032233 2.816401743652797\n",
            "processing fold# 3\n",
            "12.821828315753748 2.4607781124587107\n"
          ],
          "name": "stdout"
        }
      ]
    },
    {
      "cell_type": "code",
      "metadata": {
        "id": "ijczg70_5XsY",
        "colab_type": "code",
        "colab": {
          "base_uri": "https://localhost:8080/",
          "height": 51
        },
        "outputId": "2627934d-013f-4df2-f89f-2e65c77c98a2"
      },
      "source": [
        "print(all_scores)\n",
        "print(np.mean(all_scores))"
      ],
      "execution_count": null,
      "outputs": [
        {
          "output_type": "stream",
          "text": [
            "[2.120475185979711, 2.6205178038908703, 2.816401743652797, 2.4607781124587107]\n",
            "2.5045432114955224\n"
          ],
          "name": "stdout"
        }
      ]
    },
    {
      "cell_type": "markdown",
      "metadata": {
        "id": "LcqJ9PkEGwwg",
        "colab_type": "text"
      },
      "source": [
        "# Creating history object"
      ]
    },
    {
      "cell_type": "code",
      "metadata": {
        "id": "ZF9IBfnZGzvm",
        "colab_type": "code",
        "colab": {
          "base_uri": "https://localhost:8080/",
          "height": 170
        },
        "outputId": "f090a16f-207b-4369-b270-1a9374fbb12b"
      },
      "source": [
        "k=4\n",
        "num_epochs=500\n",
        "fold_samples_count=len(train_data)//k # training samples in each fold\n",
        "print(fold_samples_count)\n",
        "all_mae_histories=[]\n",
        "\n",
        "for i in range(k):\n",
        "  print(\"processing k= {}\".format(i))\n",
        "  cv_data=train_data[i*fold_samples_count:(i+1)*fold_samples_count]\n",
        "  cv_targets=train_targets[i*fold_samples_count:(i+1)*fold_samples_count]\n",
        "  #get part train data\n",
        "  part_train_data=np.concatenate([train_data[:i*fold_samples_count], train_data[(i+1)*fold_samples_count:]], axis=0)\n",
        "  part_train_targets=np.concatenate([train_targets[:i*fold_samples_count], train_targets[(i+1)*fold_samples_count:]], axis=0)\n",
        "\n",
        "  # build model\n",
        "  model=build_model()\n",
        "  history=model.fit(x=part_train_data, y=partial_train_targets, batch_size=20, epochs=num_epochs, verbose=0, validation_data=(cv_data, cv_targets), use_multiprocessing=False)\n",
        "  print(history.history.keys())\n",
        "  mae_history=history.history[\"val_mean_absolute_error\"]\n",
        "  all_mae_histories.append(mae_history)"
      ],
      "execution_count": null,
      "outputs": [
        {
          "output_type": "stream",
          "text": [
            "101\n",
            "processing k= 0\n",
            "dict_keys(['val_loss', 'val_mean_absolute_error', 'loss', 'mean_absolute_error'])\n",
            "processing k= 1\n",
            "dict_keys(['val_loss', 'val_mean_absolute_error', 'loss', 'mean_absolute_error'])\n",
            "processing k= 2\n",
            "dict_keys(['val_loss', 'val_mean_absolute_error', 'loss', 'mean_absolute_error'])\n",
            "processing k= 3\n",
            "dict_keys(['val_loss', 'val_mean_absolute_error', 'loss', 'mean_absolute_error'])\n"
          ],
          "name": "stdout"
        }
      ]
    },
    {
      "cell_type": "code",
      "metadata": {
        "id": "LEEG-IN7Kg6U",
        "colab_type": "code",
        "colab": {
          "base_uri": "https://localhost:8080/",
          "height": 34
        },
        "outputId": "74e63766-3ad0-41e0-8d94-5b03acb8100a"
      },
      "source": [
        "all_mae_histories[0]\n",
        "len(all_mae_histories)"
      ],
      "execution_count": null,
      "outputs": [
        {
          "output_type": "execute_result",
          "data": {
            "text/plain": [
              "4"
            ]
          },
          "metadata": {
            "tags": []
          },
          "execution_count": 13
        }
      ]
    },
    {
      "cell_type": "markdown",
      "metadata": {
        "id": "dYlCauD4LKlQ",
        "colab_type": "text"
      },
      "source": [
        "# Mean k-fold validation scores\n"
      ]
    },
    {
      "cell_type": "code",
      "metadata": {
        "id": "z-EZXiSFLQC9",
        "colab_type": "code",
        "colab": {
          "base_uri": "https://localhost:8080/",
          "height": 1000
        },
        "outputId": "4c97d625-26c6-416b-fbf4-e0f37b13c010"
      },
      "source": [
        "mean_mae_histories=np.mean(all_mae_histories, axis=0)\n",
        "mean_mae_histories"
      ],
      "execution_count": null,
      "outputs": [
        {
          "output_type": "execute_result",
          "data": {
            "text/plain": [
              "array([19.91100913, 17.21820099, 14.052949  , 10.94545154,  8.65613312,\n",
              "        7.08376024,  5.99345895,  5.50845631,  5.26665242,  5.17013444,\n",
              "        4.98641549,  4.88542988,  4.89191432,  4.94703403,  4.85409978,\n",
              "        4.90553923,  4.85108393,  4.82020093,  4.83880535,  4.79908476,\n",
              "        4.63999781,  4.68375015,  4.72630482,  4.77563344,  4.52803127,\n",
              "        4.7048793 ,  4.75762138,  4.67543115,  4.62343432,  4.60210934,\n",
              "        4.7082274 ,  4.78880097,  4.64211069,  4.68594995,  4.73605764,\n",
              "        4.77099302,  4.80554261,  4.95244934,  4.64464689,  4.56265907,\n",
              "        4.59246591,  4.69794136,  4.55746168,  4.69605915,  4.60157758,\n",
              "        4.66982343,  4.67149773,  4.70911906,  4.49064261,  4.6031132 ,\n",
              "        4.51323657,  4.68952822,  4.60692883,  4.59230916,  4.48875177,\n",
              "        4.64936486,  4.7002095 ,  4.58210793,  4.61806344,  4.68836234,\n",
              "        4.61722306,  4.68212072,  4.65988027,  4.59303095,  4.72292826,\n",
              "        4.55313271,  4.64614354,  4.66930262,  4.54050049,  4.70254404,\n",
              "        4.57212381,  4.75953068,  4.69174645,  4.61089792,  4.78210577,\n",
              "        4.79206365,  4.66671311,  4.65166565,  4.64015225,  4.60333184,\n",
              "        4.72919397,  4.53572682,  4.84506374,  4.65341597,  4.64099318,\n",
              "        4.79651952,  4.74163544,  4.59390636,  4.70053232,  4.48896067,\n",
              "        4.67215365,  4.75433529,  4.66841499,  4.53467788,  4.62197407,\n",
              "        4.61089571,  4.75661865,  4.78531057,  4.7259565 ,  4.62971788,\n",
              "        4.72358381,  4.6143928 ,  4.6821951 ,  4.65269511,  4.6602117 ,\n",
              "        4.55149784,  4.82568921,  4.82170033,  4.67390954,  4.70672543,\n",
              "        4.61750239,  5.00816749,  4.72259568,  4.83524152,  4.79757652,\n",
              "        4.81682134,  4.68802442,  4.58688551,  4.59374249,  4.77254251,\n",
              "        4.65066873,  4.58945761,  4.59859028,  4.63196132,  4.76211701,\n",
              "        4.8417733 ,  4.66620845,  4.82408074,  4.80445456,  4.67713537,\n",
              "        4.97200902,  4.77482114,  4.70113424,  4.78722702,  4.92212632,\n",
              "        4.77683374,  4.80311377,  4.733505  ,  4.89679804,  4.89542979,\n",
              "        4.88895096,  4.92090608,  4.80356334,  4.97870417,  4.77640928,\n",
              "        4.87182606,  5.06405782,  4.98226303,  4.86344836,  5.00426086,\n",
              "        4.81726792,  4.85752188,  4.96537256,  4.93519059,  4.74640775,\n",
              "        4.7666066 ,  5.0824622 ,  4.91843027,  4.65920331,  4.76899691,\n",
              "        5.09931159,  4.92555691,  4.86639801,  4.90633272,  4.95811572,\n",
              "        4.90881085,  4.74915004,  4.90619997,  4.95774914,  4.74604818,\n",
              "        4.81945408,  5.05660601,  4.82177636,  5.07569612,  4.90672019,\n",
              "        4.90748365,  4.87354621,  4.7250472 ,  4.95215094,  4.98817058,\n",
              "        4.78681716,  4.90592835,  5.05177789,  5.04559854,  4.90568356,\n",
              "        4.91077421,  4.90433944,  4.8849832 ,  4.80728463,  4.94187833,\n",
              "        5.00821891,  5.03449986,  5.15431539,  4.95736385,  5.20114427,\n",
              "        4.9527787 ,  5.06628781,  5.07880144,  5.08017745,  4.97430189,\n",
              "        5.10570233,  4.98834813,  5.14546923,  5.05718601,  5.05999713,\n",
              "        5.20987402,  5.28228971,  4.92528231,  5.10005597,  5.21227747,\n",
              "        4.94893303,  4.98691094,  4.97077861,  4.90654293,  4.9537858 ,\n",
              "        5.20526953,  5.14143079,  5.29769013,  5.03506827,  4.94307992,\n",
              "        5.3803403 ,  5.16638723,  4.99819498,  5.08293204,  5.15200159,\n",
              "        4.98135791,  5.04730424,  5.22705959,  5.24887048,  5.04063412,\n",
              "        5.27829105,  5.03982935,  5.06334573,  5.15371654,  5.1478906 ,\n",
              "        5.34173849,  5.14299664,  5.32364082,  4.97469961,  5.49400721,\n",
              "        5.16451544,  4.99572471,  5.35028828,  5.28323387,  5.31064977,\n",
              "        5.11494957,  5.18634364,  5.38429618,  5.32127709,  5.34529854,\n",
              "        5.40216627,  5.24719019,  5.1709938 ,  5.35461043,  5.25424573,\n",
              "        5.34477215,  5.46297676,  5.23362974,  5.5590883 ,  5.35283499,\n",
              "        5.15964351,  5.19855794,  5.10157408,  5.47671857,  5.56607147,\n",
              "        5.17332676,  5.27533831,  5.06861456,  5.58013673,  5.26532562,\n",
              "        5.28973103,  5.45598262,  5.19046872,  5.48609749,  5.38390222,\n",
              "        5.52232181,  5.43735367,  5.16011774,  5.33515528,  5.27363978,\n",
              "        5.52747128,  5.23396368,  5.74681025,  5.39838398,  5.31823873,\n",
              "        5.40940428,  5.35459829,  5.53299691,  5.45405299,  5.23991929,\n",
              "        5.40027057,  5.47974876,  5.29400562,  5.2074257 ,  5.46607391,\n",
              "        5.47156969,  5.35207815,  5.37051415,  5.5398705 ,  5.48750404,\n",
              "        5.60900868,  5.61711601,  5.53225026,  5.37846906,  5.60561977,\n",
              "        5.53663286,  5.5781266 ,  5.57942039,  5.48722824,  5.54117732,\n",
              "        5.42012983,  5.52628268,  5.32964342,  5.30849096,  5.47019824,\n",
              "        5.60594425,  5.76197454,  5.65254866,  5.55214313,  5.59981087,\n",
              "        5.73766263,  5.56459612,  5.40850606,  5.45035651,  5.54942081,\n",
              "        5.41545105,  5.53078299,  5.74228309,  5.49545632,  5.64045415,\n",
              "        5.37266813,  5.73907271,  5.54384841,  5.59180809,  5.61330034,\n",
              "        5.40564354,  5.58115312,  5.36291815,  5.74030732,  5.4448604 ,\n",
              "        5.61667861,  5.73649635,  5.55289029,  5.79043278,  5.80124667,\n",
              "        5.21963208,  5.52330363,  5.47061763,  5.52861844,  5.76772622,\n",
              "        5.63974409,  5.62049556,  5.68015925,  5.58167734,  5.52119769,\n",
              "        5.5678905 ,  5.68521609,  5.66876791,  5.76006669,  5.58521144,\n",
              "        5.5714243 ,  5.59163398,  5.6138399 ,  5.57197488,  5.56837424,\n",
              "        5.34306796,  5.79506169,  5.52225916,  5.66672881,  5.62539152,\n",
              "        5.56680061,  5.85756834,  5.81720927,  5.84960891,  5.96201289,\n",
              "        5.37589776,  5.77847715,  5.89980444,  5.74527219,  5.76612585,\n",
              "        6.14057188,  6.02409865,  5.78070651,  5.76938006,  5.57059432,\n",
              "        5.62830929,  5.95227106,  5.88905242,  5.98965228,  5.89957504,\n",
              "        5.55045072,  5.93019952,  5.90242663,  5.88048015,  5.80085402,\n",
              "        6.00435901,  5.75182487,  5.80008376,  5.68791296,  6.08292066,\n",
              "        5.77950582,  5.76001241,  5.70033569,  5.87625341,  5.7664348 ,\n",
              "        5.8063655 ,  5.623821  ,  5.86775333,  5.59999511,  5.95918611,\n",
              "        6.07268114,  6.05456913,  5.92643931,  6.00093406,  5.91029205,\n",
              "        5.89474357,  5.9781492 ,  5.90156689,  5.84035707,  6.0811632 ,\n",
              "        6.03507381,  6.16264183,  5.80822099,  6.05068167,  5.81342603,\n",
              "        5.99357954,  5.90475143,  6.19446821,  5.93838764,  6.02481905,\n",
              "        5.72969621,  5.80365389,  5.9835082 ,  5.98198329,  5.79266334,\n",
              "        5.91719771,  6.08086879,  6.25655527,  5.88426653,  5.87227541,\n",
              "        5.71928332,  5.70456894,  5.88607286,  5.77422671,  6.21494919,\n",
              "        6.38855015,  5.9650064 ,  6.0689281 ,  6.15054445,  6.04876435,\n",
              "        6.28869299,  5.8713851 ,  6.16007214,  6.11532551,  6.1755047 ,\n",
              "        6.00813574,  6.12144477,  5.95901087,  6.26028208,  6.02067265,\n",
              "        6.07486831,  6.18714519,  6.21356591,  6.00765017,  6.13032294,\n",
              "        6.07123803,  6.13456776,  6.04515628,  5.88246861,  6.01617885,\n",
              "        6.02598828,  5.98618234,  5.90419653,  6.10542255,  5.94491193,\n",
              "        6.08161008,  6.10376288,  5.88685358,  6.11489985,  6.10577133,\n",
              "        6.26850036,  5.88493697,  5.7609791 ,  5.78752822,  6.07492591,\n",
              "        6.20154909,  6.09305054,  5.87454115,  5.86514918,  6.09069408,\n",
              "        6.01594458,  6.23718516,  5.869569  ,  6.17167404,  6.10083981,\n",
              "        6.09953126,  6.12926051,  6.17220818,  5.99515925,  6.30047918])"
            ]
          },
          "metadata": {
            "tags": []
          },
          "execution_count": 14
        }
      ]
    },
    {
      "cell_type": "markdown",
      "metadata": {
        "id": "lmEypYM8NZjC",
        "colab_type": "text"
      },
      "source": [
        "# Plot validation scores vs epochs"
      ]
    },
    {
      "cell_type": "code",
      "metadata": {
        "id": "VzdF4UnCMGiL",
        "colab_type": "code",
        "colab": {
          "base_uri": "https://localhost:8080/",
          "height": 279
        },
        "outputId": "47836e74-e647-40b4-8843-45bca557e107"
      },
      "source": [
        "import matplotlib.pyplot as plt\n",
        "\n",
        "plt.plot(range(1,len(mean_mae_histories)+1), mean_mae_histories)\n",
        "plt.xlabel(\"epochs\")\n",
        "plt.ylabel(\"mean absolute error\")\n",
        "plt.show()"
      ],
      "execution_count": null,
      "outputs": [
        {
          "output_type": "display_data",
          "data": {
            "image/png": "[encoded data removed]",
            "text/plain": [
              "<Figure size 432x288 with 1 Axes>"
            ]
          },
          "metadata": {
            "tags": []
          }
        }
      ]
    },
    {
      "cell_type": "markdown",
      "metadata": {
        "id": "RViRB6AMQ7H7",
        "colab_type": "text"
      },
      "source": [
        "# Smoothen the curve"
      ]
    },
    {
      "cell_type": "code",
      "metadata": {
        "id": "VUlAqBUVQ9s-",
        "colab_type": "code",
        "colab": {}
      },
      "source": [
        "# getting plot of moving average of last points\n",
        "\n",
        "def smooth_curve(points, factor=0.9):\n",
        "  smoothened_points=[]\n",
        "  for point in points:\n",
        "    if smoothened_points:\n",
        "      previous=smoothened_points[-1]\n",
        "      smoothened_points.append(previous*factor+point*(1-factor))\n",
        "    else:\n",
        "      smoothened_points.append(point)\n",
        "  return smoothened_points"
      ],
      "execution_count": null,
      "outputs": []
    },
    {
      "cell_type": "code",
      "metadata": {
        "id": "eRqbIHYtSDsH",
        "colab_type": "code",
        "colab": {
          "base_uri": "https://localhost:8080/"
        },
        "outputId": "2687f07d-2b2b-4b91-cf6f-4949060253f6"
      },
      "source": [
        "smooth_mae_history=smooth_curve(mean_mae_histories[10:])\n",
        "smooth_mae_history"
      ],
      "execution_count": null,
      "outputs": [
        {
          "output_type": "execute_result",
          "data": {
            "text/plain": [
              "[4.986415485344311,\n",
              " 4.976316924378423,\n",
              " 4.967876663514883,\n",
              " 4.965792400013102,\n",
              " 4.954623138132426,\n",
              " 4.949714747727767,\n",
              " 4.939851666208657,\n",
              " 4.927886592778579,\n",
              " 4.918978468475376,\n",
              " 4.906989097881385,\n",
              " 4.880289968899231,\n",
              " 4.860635986559923,\n",
              " 4.84720286957669,\n",
              " 4.840045926516925,\n",
              " 4.808844460993532,\n",
              " 4.798447944464972,\n",
              " 4.794365288290751,\n",
              " 4.78247187446377,\n",
              " 4.766568119424961,\n",
              " 4.750122241498249,\n",
              " 4.745932757657734,\n",
              " 4.750219578554123,\n",
              " 4.739408690174018,\n",
              " 4.734062816268137,\n",
              " 4.734262298435496,\n",
              " 4.737935370383374,\n",
              " 4.744696094410982,\n",
              " 4.765471418796972,\n",
              " 4.7533889659265345,\n",
              " 4.734315976810326,\n",
              " 4.720130970187401,\n",
              " 4.717912009631486,\n",
              " 4.701866977097645,\n",
              " 4.701286194769057,\n",
              " 4.691315333466709,\n",
              " 4.689166143057243,\n",
              " 4.687399301962101,\n",
              " 4.689571277318972,\n",
              " 4.669678410957442,\n",
              " 4.663021890138242,\n",
              " 4.6480433578769755,\n",
              " 4.652191843830288,\n",
              " 4.647665542457217,\n",
              " 4.642129904546346,\n",
              " 4.62679209064421,\n",
              " 4.6290493676729145,\n",
              " 4.6361653811002554,\n",
              " 4.630759636098274,\n",
              " 4.629490016530176,\n",
              " 4.635377248752698,\n",
              " 4.6335618300911845,\n",
              " 4.638417719293983,\n",
              " 4.640563974823909,\n",
              " 4.635810671950468,\n",
              " 4.644522430482601,\n",
              " 4.635383458777459,\n",
              " 4.636459467165511,\n",
              " 4.639743782381937,\n",
              " 4.629819453122945,\n",
              " 4.637091912284664,\n",
              " 4.6305951021358425,\n",
              " 4.643488659805665,\n",
              " 4.648314439267872,\n",
              " 4.644572787687094,\n",
              " 4.658326085844513,\n",
              " 4.671699842665984,\n",
              " 4.671201169664557,\n",
              " 4.6692476181493925,\n",
              " 4.666338081471087,\n",
              " 4.660037457764516,\n",
              " 4.666953108822862,\n",
              " 4.653830480047425,\n",
              " 4.672953806345159,\n",
              " 4.671000022502883,\n",
              " 4.667999337982659,\n",
              " 4.680851355738191,\n",
              " 4.686929764460411,\n",
              " 4.67762742449623,\n",
              " 4.679917913644735,\n",
              " 4.660822189493565,\n",
              " 4.661955335538598,\n",
              " 4.671193330526076,\n",
              " 4.670915496287476,\n",
              " 4.6572917345052085,\n",
              " 4.653759968220063,\n",
              " 4.649473542085606,\n",
              " 4.660188052960343,\n",
              " 4.6727003047199425,\n",
              " 4.678025923792504,\n",
              " 4.673195119054798,\n",
              " 4.678233988071314,\n",
              " 4.671849869136775,\n",
              " 4.672884392622566,\n",
              " 4.670865464649245,\n",
              " 4.6698000881867205,\n",
              " 4.657969863786665,\n",
              " 4.674741798601037,\n",
              " 4.689437651723712,\n",
              " 4.687884840927788,\n",
              " 4.689768900049109,\n",
              " 4.682542249000989,\n",
              " 4.715104772974913,\n",
              " 4.715853863193106,\n",
              " 4.727792628831657,\n",
              " 4.734771017546637,\n",
              " 4.742976049466596,\n",
              " 4.737480886220786,\n",
              " 4.722421348963267,\n",
              " 4.709553463166445,\n",
              " 4.715852368056076,\n",
              " 4.709334004451518,\n",
              " 4.6973463646388725,\n",
              " 4.687470756368016,\n",
              " 4.681919812937895,\n",
              " 4.689939532461252,\n",
              " 4.70512290920389,\n",
              " 4.701231462827072,\n",
              " 4.713516390177388,\n",
              " 4.72261020672024,\n",
              " 4.718062723358825,\n",
              " 4.743457353404688,\n",
              " 4.746593732044049,\n",
              " 4.742047782394848,\n",
              " 4.746565706549981,\n",
              " 4.7641217675737995,\n",
              " 4.765392964423451,\n",
              " 4.769165044958781,\n",
              " 4.765599040815214,\n",
              " 4.778718940440324,\n",
              " 4.790390025457306,\n",
              " 4.800246118604578,\n",
              " 4.812312114377805,\n",
              " 4.811437236927572,\n",
              " 4.828163930631437,\n",
              " 4.822988465468475,\n",
              " 4.827872224778344,\n",
              " 4.851490784527978,\n",
              " 4.864568009468478,\n",
              " 4.864456044775561,\n",
              " 4.878436526638805,\n",
              " 4.872319665809992,\n",
              " 4.870839887326126,\n",
              " 4.880293155070416,\n",
              " 4.885782898829568,\n",
              " 4.871845384381653,\n",
              " 4.861321506413374,\n",
              " 4.88343557599247,\n",
              " 4.886935045328687,\n",
              " 4.864161871778215,\n",
              " 4.854645375275657,\n",
              " 4.8791119965315035,\n",
              " 4.883756488106408,\n",
              " 4.882020640170081,\n",
              " 4.88445184786142,\n",
              " 4.891818235008533,\n",
              " 4.893517496313348,\n",
              " 4.8790807502225055,\n",
              " 4.881792671832935,\n",
              " 4.889388319018186,\n",
              " 4.875054305252753,\n",
              " 4.869494282236101,\n",
              " 4.888205454839963,\n",
              " 4.881562545176752,\n",
              " 4.90097590255782,\n",
              " 4.901550330924446,\n",
              " 4.902143662686568,\n",
              " 4.899283917856608,\n",
              " 4.881860246074245,\n",
              " 4.888889315202242,\n",
              " 4.898817441456817,\n",
              " 4.887617413191426,\n",
              " 4.889448506609325,\n",
              " 4.905681444871675,\n",
              " 4.919673154382068,\n",
              " 4.918274195410627,\n",
              " 4.917524196604687,\n",
              " 4.916205720806,\n",
              " 4.913083468809207,\n",
              " 4.902503585181458,\n",
              " 4.906441059486207,\n",
              " 4.91661884493512,\n",
              " 4.928406946210143,\n",
              " 4.950997790492016,\n",
              " 4.951634396070657,\n",
              " 4.976585383029233,\n",
              " 4.974204714309666,\n",
              " 4.983413024376768,\n",
              " 4.992951865775084,\n",
              " 5.001674423837889,\n",
              " 4.99893717074731,\n",
              " 5.009613686375533,\n",
              " 5.007487130969269,\n",
              " 5.021285340990404,\n",
              " 5.024875407995419,\n",
              " 5.02838757973861,\n",
              " 5.04653622409528,\n",
              " 5.070111572487228,\n",
              " 5.055628646547698,\n",
              " 5.060071378733664,\n",
              " 5.0752919877671445,\n",
              " 5.062656092356421,\n",
              " 5.055081577160468,\n",
              " 5.046651280607118,\n",
              " 5.032640445455632,\n",
              " 5.024754980743789,\n",
              " 5.04280643569621,\n",
              " 5.052668870760644,\n",
              " 5.077170996990281,\n",
              " 5.072960724409626,\n",
              " 5.059972644214554,\n",
              " 5.092009410145587,\n",
              " 5.09944719164519,\n",
              " 5.089321970023477,\n",
              " 5.088682977045416,\n",
              " 5.095014838206019,\n",
              " 5.083649145824058,\n",
              " 5.080014655556095,\n",
              " 5.094719149448025,\n",
              " 5.1101342826391125,\n",
              " 5.103184266597734,\n",
              " 5.120694945013003,\n",
              " 5.112608385133004,\n",
              " 5.107682119237074,\n",
              " 5.112285561488662,\n",
              " 5.115846065068475,\n",
              " 5.138435307875194,\n",
              " 5.138891441490627,\n",
              " 5.157366378969817,\n",
              " 5.139099702125909,\n",
              " 5.174590453123383,\n",
              " 5.173582951911739,\n",
              " 5.155797127829333,\n",
              " 5.17524624329906,\n",
              " 5.186045005534447,\n",
              " 5.198505482249183,\n",
              " 5.190149890654556,\n",
              " 5.189769265509482,\n",
              " 5.209221957312424,\n",
              " 5.220427470308953,\n",
              " 5.232914577089416,\n",
              " 5.249839746831928,\n",
              " 5.249574791132104,\n",
              " 5.2417166922759995,\n",
              " 5.253006066179633,\n",
              " 5.25313003229858,\n",
              " 5.2622942439527725,\n",
              " 5.282362495813883,\n",
              " 5.277489220125538,\n",
              " 5.305649128444088,\n",
              " 5.310367714316506,\n",
              " 5.295295293962926,\n",
              " 5.285621558434595,\n",
              " 5.267216810455622,\n",
              " 5.288166985912555,\n",
              " 5.315957434103749,\n",
              " 5.301694366834944,\n",
              " 5.299058761606189,\n",
              " 5.276014341523448,\n",
              " 5.306426579892902,\n",
              " 5.302316484319991,\n",
              " 5.301057939165745,\n",
              " 5.3165504072664875,\n",
              " 5.303942238272796,\n",
              " 5.322157763842945,\n",
              " 5.328332209384896,\n",
              " 5.347731169055967,\n",
              " 5.35669341962318,\n",
              " 5.337035851374607,\n",
              " 5.336847794406155,\n",
              " 5.330526993247599,\n",
              " 5.350221421720183,\n",
              " 5.338595647386052,\n",
              " 5.379417107151627,\n",
              " 5.381313794293451,\n",
              " 5.3750062881479455,\n",
              " 5.378446086877244,\n",
              " 5.3760613072744645,\n",
              " 5.39175486772839,\n",
              " 5.397984680076162,\n",
              " 5.382178141373028,\n",
              " 5.383987384534064,\n",
              " 5.393563521738523,\n",
              " 5.383607731624432,\n",
              " 5.365989528871669,\n",
              " 5.375997966945346,\n",
              " 5.385555139406227,\n",
              " 5.382207440210989,\n",
              " 5.381038110925136,\n",
              " 5.396921350125138,\n",
              " 5.4059796190786775,\n",
              " 5.426282524982334,\n",
              " 5.445365873939713,\n",
              " 5.4540543128180525,\n",
              " 5.446495787886637,\n",
              " 5.462408186380583,\n",
              " 5.469830653630592,\n",
              " 5.480660248314857,\n",
              " 5.490536262670963,\n",
              " 5.49020545994345,\n",
              " 5.4953026457138705,\n",
              " 5.487785363817828,\n",
              " 5.491635095309677,\n",
              " 5.4754359281981735,\n",
              " 5.458741431232784,\n",
              " 5.459887112052541,\n",
              " 5.474492825482163,\n",
              " 5.503240996470557,\n",
              " 5.518171762365998,\n",
              " 5.521568899598709,\n",
              " 5.529393096577526,\n",
              " 5.550220050088411,\n",
              " 5.551657656792867,\n",
              " 5.537342496936606,\n",
              " 5.528643898657647,\n",
              " 5.530721589790067,\n",
              " 5.519194535319413,\n",
              " 5.520353381017159,\n",
              " 5.542546352084117,\n",
              " 5.537837349370264,\n",
              " 5.548099029027378,\n",
              " 5.530555939298973,\n",
              " 5.551407616367134,\n",
              " 5.5506516955634995,\n",
              " 5.554767334782645,\n",
              " 5.560620634833303,\n",
              " 5.545122924981247,\n",
              " 5.548725944379569,\n",
              " 5.530145164972305,\n",
              " 5.5511613801672475,\n",
              " 5.540531282558591,\n",
              " 5.5481460153914,\n",
              " 5.566981048553451,\n",
              " 5.565571973065006,\n",
              " 5.588058054122176,\n",
              " 5.609376915849295,\n",
              " 5.570402432529009,\n",
              " 5.56569255219092,\n",
              " 5.556185059923216,\n",
              " 5.553428397653776,\n",
              " 5.574858179959088,\n",
              " 5.5813467705472455,\n",
              " 5.585261649034966,\n",
              " 5.594751409024273,\n",
              " 5.593444001654213,\n",
              " 5.586219370452973,\n",
              " 5.584386483651545,\n",
              " 5.594469444215033,\n",
              " 5.6018992908127805,\n",
              " 5.617716030832651,\n",
              " 5.6144655722103085,\n",
              " 5.610161444529931,\n",
              " 5.608308697686535,\n",
              " 5.608861818167893,\n",
              " 5.605173124531585,\n",
              " 5.601493236035647,\n",
              " 5.575650708666515,\n",
              " 5.597591807251209,\n",
              " 5.590058542982557,\n",
              " 5.5977255699712245,\n",
              " 5.600492165317776,\n",
              " 5.597123009399272,\n",
              " 5.6231675421778995,\n",
              " 5.642571714462073,\n",
              " 5.663275433776382,\n",
              " 5.693149178980819,\n",
              " 5.661424037244611,\n",
              " 5.673129348227553,\n",
              " 5.695796857038227,\n",
              " 5.700744389888683,\n",
              " 5.707282536269718,\n",
              " 5.750611471101708,\n",
              " 5.777960189351986,\n",
              " 5.778234821485333,\n",
              " 5.777349345766189,\n",
              " 5.756673843209851,\n",
              " 5.7438373876535875,\n",
              " 5.764680755379167,\n",
              " 5.7771179222512865,\n",
              " 5.798371358456273,\n",
              " 5.808491726599836,\n",
              " 5.782687625862759,\n",
              " 5.797438815672838,\n",
              " 5.8079375975740195,\n",
              " 5.815191853307234,\n",
              " 5.813758069700391,\n",
              " 5.832818163418524,\n",
              " 5.824718833837405,\n",
              " 5.822255326688493,\n",
              " 5.808821090006009,\n",
              " 5.8362310472301395,\n",
              " 5.8305585240907725,\n",
              " 5.823503912393096,\n",
              " 5.811187090536936,\n",
              " 5.817693722497349,\n",
              " 5.812567829944209,\n",
              " 5.811947596889992,\n",
              " 5.793134937561221,\n",
              " 5.800596776553398,\n",
              " 5.78053660992752,\n",
              " 5.798401560423487,\n",
              " 5.825829518518316,\n",
              " 5.848703479302061,\n",
              " 5.856477062024209,\n",
              " 5.87092276231963,\n",
              " 5.8748596912682975,\n",
              " 5.8768480796142555,\n",
              " 5.886978191341744,\n",
              " 5.888437061700352,\n",
              " 5.883629062994629,\n",
              " 5.903382476323211,\n",
              " 5.916551609365271,\n",
              " 5.941160630934966,\n",
              " 5.927866666450714,\n",
              " 5.940148166935009,\n",
              " 5.927475952961863,\n",
              " 5.934086311775927,\n",
              " 5.931152823308614,\n",
              " 5.957484362473791,\n",
              " 5.955574689935528,\n",
              " 5.962499125774419,\n",
              " 5.939218833731666,\n",
              " 5.925662339530893,\n",
              " 5.931446925080531,\n",
              " 5.936500561440474,\n",
              " 5.922116838876445,\n",
              " 5.921624925656377,\n",
              " 5.9375493125093675,\n",
              " 5.969449908656569,\n",
              " 5.960931571256334,\n",
              " 5.952065955043896,\n",
              " 5.928787691179013,\n",
              " 5.90636581614253,\n",
              " 5.904336520046734,\n",
              " 5.8913255390768455,\n",
              " 5.9236879039357495,\n",
              " 5.970174128947509,\n",
              " 5.969657356393129,\n",
              " 5.979584430291194,\n",
              " 5.996680432481586,\n",
              " 6.001888824508553,\n",
              " 6.030569241190923,\n",
              " 6.01465082658614,\n",
              " 6.02919295794496,\n",
              " 6.03780621266952,\n",
              " 6.051576061381769,\n",
              " 6.047232028901468,\n",
              " 6.054653302835789,\n",
              " 6.045089059921279,\n",
              " 6.066608361906371,\n",
              " 6.062014791131869,\n",
              " 6.063300143334355,\n",
              " 6.075684647713218,\n",
              " 6.089472773845528,\n",
              " 6.081290513460551,\n",
              " 6.086193756496458,\n",
              " 6.084698184231046,\n",
              " 6.089685141454339,\n",
              " 6.085232255368217,\n",
              " 6.064955891020114,\n",
              " 6.060078187026144,\n",
              " 6.056669195987745,\n",
              " 6.0496205101830025,\n",
              " 6.03507811183916,\n",
              " 6.042112555528085,\n",
              " 6.032392493293408,\n",
              " 6.037314251495866,\n",
              " 6.043959113915193,\n",
              " 6.028248560448409,\n",
              " 6.036913689416341,\n",
              " 6.043799453389033,\n",
              " 6.066269544161338,\n",
              " 6.0481362869871855,\n",
              " 6.019420568645462,\n",
              " 5.996231334231988,\n",
              " 6.004100792175699,\n",
              " 6.023845621582154,\n",
              " 6.0307661133142805,\n",
              " 6.015143616792927,\n",
              " 6.000144173516505,\n",
              " 6.009199164213352,\n",
              " 6.009873706268168,\n",
              " 6.032604851830625,\n",
              " 6.016301266356603,\n",
              " 6.031838543395304,\n",
              " 6.038738670371462,\n",
              " 6.044817929203009,\n",
              " 6.053262187214808,\n",
              " 6.065156786899612,\n",
              " 6.058157033041079,\n",
              " 6.082389247575114]"
            ]
          },
          "metadata": {
            "tags": []
          },
          "execution_count": 17
        }
      ]
    },
    {
      "cell_type": "code",
      "metadata": {
        "id": "TZCDjzofSmJ1",
        "colab_type": "code",
        "colab": {
          "base_uri": "https://localhost:8080/",
          "height": 477
        },
        "outputId": "0a594839-1c01-44c9-9f62-7882f86b8c74"
      },
      "source": [
        "plt.plot(range(1,len(smooth_mae_history)+1), smooth_mae_history)\n",
        "plt.xlabel(\"epochs\")\n",
        "plt.ylabel(\"mean absolute error\")\n",
        "plt.Legend()\n",
        "plt.show()"
      ],
      "execution_count": null,
      "outputs": [
        {
          "output_type": "error",
          "ename": "AttributeError",
          "evalue": "ignored",
          "traceback": [
            "\u001b[0;31m---------------------------------------------------------------------------\u001b[0m",
            "\u001b[0;31mAttributeError\u001b[0m                            Traceback (most recent call last)",
            "\u001b[0;32m<ipython-input-18-1eb97844617f>\u001b[0m in \u001b[0;36m<module>\u001b[0;34m()\u001b[0m\n\u001b[1;32m      2\u001b[0m \u001b[0mplt\u001b[0m\u001b[0;34m.\u001b[0m\u001b[0mxlabel\u001b[0m\u001b[0;34m(\u001b[0m\u001b[0;34m\"epochs\"\u001b[0m\u001b[0;34m)\u001b[0m\u001b[0;34m\u001b[0m\u001b[0;34m\u001b[0m\u001b[0m\n\u001b[1;32m      3\u001b[0m \u001b[0mplt\u001b[0m\u001b[0;34m.\u001b[0m\u001b[0mylabel\u001b[0m\u001b[0;34m(\u001b[0m\u001b[0;34m\"mean absolute error\"\u001b[0m\u001b[0;34m)\u001b[0m\u001b[0;34m\u001b[0m\u001b[0;34m\u001b[0m\u001b[0m\n\u001b[0;32m----> 4\u001b[0;31m \u001b[0mplt\u001b[0m\u001b[0;34m.\u001b[0m\u001b[0mLegend\u001b[0m\u001b[0;34m(\u001b[0m\u001b[0;34m)\u001b[0m\u001b[0;34m\u001b[0m\u001b[0;34m\u001b[0m\u001b[0m\n\u001b[0m\u001b[1;32m      5\u001b[0m \u001b[0mplt\u001b[0m\u001b[0;34m.\u001b[0m\u001b[0mshow\u001b[0m\u001b[0;34m(\u001b[0m\u001b[0;34m)\u001b[0m\u001b[0;34m\u001b[0m\u001b[0;34m\u001b[0m\u001b[0m\n",
            "\u001b[0;31mAttributeError\u001b[0m: module 'matplotlib.pyplot' has no attribute 'Legend'"
          ]
        },
        {
          "output_type": "display_data",
          "data": {
            "image/png": "[encoded data removed]",
            "text/plain": [
              "<Figure size 432x288 with 1 Axes>"
            ]
          },
          "metadata": {
            "tags": []
          }
        }
      ]
    },
    {
      "cell_type": "markdown",
      "metadata": {
        "id": "ElRaDAojTMs8",
        "colab_type": "text"
      },
      "source": [
        "Therefore overfitting after 80 epochs"
      ]
    },
    {
      "cell_type": "markdown",
      "metadata": {
        "id": "LmCyoNlCTnpl",
        "colab_type": "text"
      },
      "source": [
        "# Final model\n"
      ]
    },
    {
      "cell_type": "code",
      "metadata": {
        "id": "_oPRwwTTTuEg",
        "colab_type": "code",
        "colab": {}
      },
      "source": [
        "model=build_model()\n",
        "model.fit(x=train_data, y=train_targets, epochs=80, batch_size=16, verbose=0)"
      ],
      "execution_count": null,
      "outputs": []
    },
    {
      "cell_type": "code",
      "metadata": {
        "id": "aJYmHwx9UIod",
        "colab_type": "code",
        "colab": {}
      },
      "source": [
        "test_mse_score, test_mae_score=model.evaluate(x=test_data, y=test_targets)\n",
        "test_mse_score, test_mae_score"
      ],
      "execution_count": null,
      "outputs": []
    },
    {
      "cell_type": "markdown",
      "metadata": {
        "id": "6xuxhkwsu87F",
        "colab_type": "text"
      },
      "source": [
        ""
      ]
    }
  ]
}