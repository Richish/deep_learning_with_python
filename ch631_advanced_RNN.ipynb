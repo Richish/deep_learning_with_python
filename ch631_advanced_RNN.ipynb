{
  "nbformat": 4,
  "nbformat_minor": 0,
  "metadata": {
    "kernelspec": {
      "name": "python3",
      "display_name": "Python 3"
    },
    "toc": {
      "base_numbering": 1,
      "nav_menu": {},
      "number_sections": true,
      "sideBar": true,
      "skip_h1_title": false,
      "title_cell": "Table of Contents",
      "title_sidebar": "Contents",
      "toc_cell": false,
      "toc_position": {},
      "toc_section_display": true,
      "toc_window_display": true
    },
    "varInspector": {
      "cols": {
        "lenName": 16,
        "lenType": 16,
        "lenVar": 40
      },
      "kernels_config": {
        "python": {
          "delete_cmd_postfix": "",
          "delete_cmd_prefix": "del ",
          "library": "var_list.py",
          "varRefreshCmd": "print(var_dic_list())"
        },
        "r": {
          "delete_cmd_postfix": ") ",
          "delete_cmd_prefix": "rm(",
          "library": "var_list.r",
          "varRefreshCmd": "cat(var_dic_list()) "
        }
      },
      "types_to_exclude": [
        "module",
        "function",
        "builtin_function_or_method",
        "instance",
        "_Feature"
      ],
      "window_display": false
    },
    "colab": {
      "name": "ch631_advanced_RNN.ipynb",
      "provenance": [],
      "collapsed_sections": [],
      "toc_visible": true,
      "include_colab_link": true
    },
    "accelerator": "TPU"
  },
  "cells": [
    {
      "cell_type": "markdown",
      "metadata": {
        "id": "view-in-github",
        "colab_type": "text"
      },
      "source": [
        "<a href=\"https://colab.research.google.com/github/Richish/deep_learning_with_python/blob/master/ch631_advanced_RNN.ipynb\" target=\"_parent\"><img src=\"https://colab.research.google.com/assets/colab-badge.svg\" alt=\"Open In Colab\"/></a>"
      ]
    },
    {
      "cell_type": "markdown",
      "metadata": {
        "ExecuteTime": {
          "end_time": "2020-05-15T16:22:41.830987Z",
          "start_time": "2020-05-15T16:22:41.828922Z"
        },
        "id": "FHAPgbBaXCqG",
        "colab_type": "text"
      },
      "source": [
        "# Advanced RNN - Temperature prediction from timeseries data"
      ]
    },
    {
      "cell_type": "markdown",
      "metadata": {
        "id": "Tq8MNYujXCqH",
        "colab_type": "text"
      },
      "source": [
        "takes 7 years of weather data taken at 10 minute interval.\n",
        "Has 14 different readings like temp., air pressure, humidity etc."
      ]
    },
    {
      "cell_type": "code",
      "metadata": {
        "ExecuteTime": {
          "end_time": "2020-05-16T02:39:38.115856Z",
          "start_time": "2020-05-16T02:39:37.509470Z"
        },
        "id": "nZeUHQqNXCqI",
        "colab_type": "code",
        "colab": {}
      },
      "source": [
        "import pandas as pd\n",
        "import numpy as np\n",
        "from matplotlib import pyplot as plt"
      ],
      "execution_count": null,
      "outputs": []
    },
    {
      "cell_type": "code",
      "metadata": {
        "id": "X1QvMZ-fXvDe",
        "colab_type": "code",
        "colab": {
          "base_uri": "https://localhost:8080/",
          "height": 238
        },
        "outputId": "3c33d42f-bbf6-4159-cc4d-50ba2b1c557a"
      },
      "source": [
        "!wget https://s3.amazonaws.com/keras-datasets/jena_climate_2009_2016.csv.zip\n",
        "!unzip jena_climate_2009_2016.csv.zip"
      ],
      "execution_count": null,
      "outputs": [
        {
          "output_type": "stream",
          "text": [
            "--2020-05-16 07:58:17--  https://s3.amazonaws.com/keras-datasets/jena_climate_2009_2016.csv.zip\n",
            "Resolving s3.amazonaws.com (s3.amazonaws.com)... 52.217.32.110\n",
            "Connecting to s3.amazonaws.com (s3.amazonaws.com)|52.217.32.110|:443... connected.\n",
            "HTTP request sent, awaiting response... 200 OK\n",
            "Length: 13568290 (13M) [application/zip]\n",
            "Saving to: ‘jena_climate_2009_2016.csv.zip’\n",
            "\n",
            "\r          jena_clim   0%[                    ]       0  --.-KB/s               \r         jena_clima  14%[=>                  ]   1.81M  8.96MB/s               \rjena_climate_2009_2 100%[===================>]  12.94M  40.2MB/s    in 0.3s    \n",
            "\n",
            "2020-05-16 07:58:18 (40.2 MB/s) - ‘jena_climate_2009_2016.csv.zip’ saved [13568290/13568290]\n",
            "\n",
            "Archive:  jena_climate_2009_2016.csv.zip\n",
            "  inflating: jena_climate_2009_2016.csv  \n"
          ],
          "name": "stdout"
        }
      ]
    },
    {
      "cell_type": "markdown",
      "metadata": {
        "id": "kMLyCXzfXCqM",
        "colab_type": "text"
      },
      "source": [
        "## loading the data"
      ]
    },
    {
      "cell_type": "code",
      "metadata": {
        "ExecuteTime": {
          "end_time": "2020-05-16T02:39:38.834247Z",
          "start_time": "2020-05-16T02:39:38.117202Z"
        },
        "id": "SDQtK4WgXCqM",
        "colab_type": "code",
        "colab": {
          "base_uri": "https://localhost:8080/",
          "height": 391
        },
        "outputId": "6f0dabab-1198-4c28-9fbc-67ec7d56cae0"
      },
      "source": [
        "\n",
        "data_file=\"jena_climate_2009_2016.csv\"\n",
        "\n",
        "df=pd.read_csv(data_file)\n",
        "\n",
        "df.info()\n",
        "\n"
      ],
      "execution_count": null,
      "outputs": [
        {
          "output_type": "stream",
          "text": [
            "<class 'pandas.core.frame.DataFrame'>\n",
            "RangeIndex: 420551 entries, 0 to 420550\n",
            "Data columns (total 15 columns):\n",
            " #   Column           Non-Null Count   Dtype  \n",
            "---  ------           --------------   -----  \n",
            " 0   Date Time        420551 non-null  object \n",
            " 1   p (mbar)         420551 non-null  float64\n",
            " 2   T (degC)         420551 non-null  float64\n",
            " 3   Tpot (K)         420551 non-null  float64\n",
            " 4   Tdew (degC)      420551 non-null  float64\n",
            " 5   rh (%)           420551 non-null  float64\n",
            " 6   VPmax (mbar)     420551 non-null  float64\n",
            " 7   VPact (mbar)     420551 non-null  float64\n",
            " 8   VPdef (mbar)     420551 non-null  float64\n",
            " 9   sh (g/kg)        420551 non-null  float64\n",
            " 10  H2OC (mmol/mol)  420551 non-null  float64\n",
            " 11  rho (g/m**3)     420551 non-null  float64\n",
            " 12  wv (m/s)         420551 non-null  float64\n",
            " 13  max. wv (m/s)    420551 non-null  float64\n",
            " 14  wd (deg)         420551 non-null  float64\n",
            "dtypes: float64(14), object(1)\n",
            "memory usage: 48.1+ MB\n"
          ],
          "name": "stdout"
        }
      ]
    },
    {
      "cell_type": "code",
      "metadata": {
        "id": "HZg93lM7Xrz6",
        "colab_type": "code",
        "colab": {}
      },
      "source": [
        ""
      ],
      "execution_count": null,
      "outputs": []
    },
    {
      "cell_type": "code",
      "metadata": {
        "ExecuteTime": {
          "end_time": "2020-05-16T02:39:39.092015Z",
          "start_time": "2020-05-16T02:39:38.836006Z"
        },
        "id": "Ta0LVgkdXCqQ",
        "colab_type": "code",
        "colab": {
          "base_uri": "https://localhost:8080/",
          "height": 34
        },
        "outputId": "e40291b0-08ba-437c-cc4d-a37411d00199"
      },
      "source": [
        "# converting dataframe to 2d numpy array\n",
        "float_data=df.to_numpy()\n",
        "float_data.shape\n"
      ],
      "execution_count": null,
      "outputs": [
        {
          "output_type": "execute_result",
          "data": {
            "text/plain": [
              "(420551, 15)"
            ]
          },
          "metadata": {
            "tags": []
          },
          "execution_count": 9
        }
      ]
    },
    {
      "cell_type": "code",
      "metadata": {
        "ExecuteTime": {
          "end_time": "2020-05-16T02:39:39.097155Z",
          "start_time": "2020-05-16T02:39:39.093522Z"
        },
        "id": "pQYNFYnAXCqT",
        "colab_type": "code",
        "colab": {
          "base_uri": "https://localhost:8080/",
          "height": 51
        },
        "outputId": "324ae681-7eed-4d15-8cfd-45d8d27b8693"
      },
      "source": [
        "float_data[0]"
      ],
      "execution_count": null,
      "outputs": [
        {
          "output_type": "execute_result",
          "data": {
            "text/plain": [
              "array(['01.01.2009 00:10:00', 996.52, -8.02, 265.4, -8.9, 93.3, 3.33,\n",
              "       3.11, 0.22, 1.94, 3.12, 1307.75, 1.03, 1.75, 152.3], dtype=object)"
            ]
          },
          "metadata": {
            "tags": []
          },
          "execution_count": 5
        }
      ]
    },
    {
      "cell_type": "markdown",
      "metadata": {
        "id": "Bfq4b9mrXCqW",
        "colab_type": "text"
      },
      "source": [
        "## plotting temperature timeseries"
      ]
    },
    {
      "cell_type": "code",
      "metadata": {
        "ExecuteTime": {
          "end_time": "2020-05-16T02:39:39.467119Z",
          "start_time": "2020-05-16T02:39:39.098689Z"
        },
        "scrolled": true,
        "id": "cOMhK02ZXCqX",
        "colab_type": "code",
        "colab": {
          "base_uri": "https://localhost:8080/",
          "height": 285
        },
        "outputId": "7d231d17-7eb1-4b02-fb8b-fa5cfe58edc6"
      },
      "source": [
        "temp=float_data[:,2]\n",
        "time=float_data[:,0]\n",
        "plt.plot(range(len(temp)), temp)\n",
        "print(\"plotted\")\n",
        "plt.show()"
      ],
      "execution_count": null,
      "outputs": [
        {
          "output_type": "stream",
          "text": [
            "plotted\n"
          ],
          "name": "stdout"
        },
        {
          "output_type": "display_data",
          "data": {
            "image/png": "[encoded data removed]",
            "text/plain": [
              "<Figure size 432x288 with 1 Axes>"
            ]
          },
          "metadata": {
            "tags": [],
            "needs_background": "light"
          }
        }
      ]
    },
    {
      "cell_type": "markdown",
      "metadata": {
        "id": "q1ap4XN5XCqa",
        "colab_type": "text"
      },
      "source": [
        "### plotting temp data for first 10 days"
      ]
    },
    {
      "cell_type": "code",
      "metadata": {
        "ExecuteTime": {
          "end_time": "2020-05-16T02:39:39.576620Z",
          "start_time": "2020-05-16T02:39:39.468200Z"
        },
        "id": "7tpxop4oXCqa",
        "colab_type": "code",
        "colab": {
          "base_uri": "https://localhost:8080/",
          "height": 282
        },
        "outputId": "449b4578-c5fb-4077-c0f3-3052d99cba5d"
      },
      "source": [
        "plt.plot(range(1440), temp[:1440])\n",
        "print(\"plotted\")\n",
        "plt.show()"
      ],
      "execution_count": null,
      "outputs": [
        {
          "output_type": "stream",
          "text": [
            "plotted\n"
          ],
          "name": "stdout"
        },
        {
          "output_type": "display_data",
          "data": {
            "image/png": "[encoded data removed]",
            "text/plain": [
              "<Figure size 432x288 with 1 Axes>"
            ]
          },
          "metadata": {
            "tags": [],
            "needs_background": "light"
          }
        }
      ]
    },
    {
      "cell_type": "markdown",
      "metadata": {
        "id": "CyAQWc6eXCqd",
        "colab_type": "text"
      },
      "source": [
        "## Preparing data"
      ]
    },
    {
      "cell_type": "markdown",
      "metadata": {
        "id": "S5nxwJydXCqf",
        "colab_type": "text"
      },
      "source": [
        "The exact formulation of the problem will be as follows: given data going as far back\n",
        "as lookback timesteps (a timestep is 10 minutes) and sampled every steps timesteps,\n",
        "can you predict the temperature in delay timesteps? You’ll use the following parameter\n",
        "values:\n",
        " lookback = 720—Observations will go back 5 days.\n",
        " steps = 6—Observations will be sampled at one data point per hour.\n",
        " delay = 144—Targets will be 24 hours in the future.\n",
        "To get started, you need to do two things:\n",
        " Preprocess the data to a format a neural network can ingest. This is easy: the\n",
        "data is already numerical, so you don’t need to do any vectorization. But each\n",
        "timeseries in the data is on a different scale (for example, temperature is typically\n",
        "between -20 and +30, but atmospheric pressure, measured in mbar, is\n",
        "around 1,000). You’ll normalize each timeseries independently so that they all\n",
        "take small values on a similar scale.\n",
        " Write a Python generator that takes the current array of float data and yields\n",
        "batches of data from the recent past, along with a target temperature in the\n",
        "future. Because the samples in the dataset are highly redundant (sample N and\n",
        "sample N + 1 will have most of their timesteps in common), it would be wasteful\n",
        "to explicitly allocate every sample. Instead, you’ll generate the samples on the\n",
        "fly using the original data.\n",
        "You’ll preprocess the data by subtracting the mean of each timeseries and dividing by\n",
        "the standard deviation. You’re going to use the first 200,000 timesteps as training data,\n",
        "so compute the mean and standard deviation only on this fraction of the data."
      ]
    },
    {
      "cell_type": "markdown",
      "metadata": {
        "id": "EOdx-jruXCqf",
        "colab_type": "text"
      },
      "source": [
        "### Normalizing data by using mean and stddev."
      ]
    },
    {
      "cell_type": "code",
      "metadata": {
        "ExecuteTime": {
          "end_time": "2020-05-16T02:39:39.579590Z",
          "start_time": "2020-05-16T02:39:39.577715Z"
        },
        "id": "bu0DRim0XCqg",
        "colab_type": "code",
        "colab": {}
      },
      "source": [
        "#mean = float_data[:200_000,1:].mean(axis=0)\n",
        "#mean.shape, mean\n",
        "#float_data[:,1:] -= mean\n",
        "#std = float_data[:200000,1:].std(axis=0)\n",
        "#mean, std\n",
        "#float_data[:,1:] /= std\n",
        "#float_data[:2]"
      ],
      "execution_count": null,
      "outputs": []
    },
    {
      "cell_type": "code",
      "metadata": {
        "ExecuteTime": {
          "end_time": "2020-05-16T02:39:39.617398Z",
          "start_time": "2020-05-16T02:39:39.582173Z"
        },
        "id": "t4xyxzQiXCqi",
        "colab_type": "code",
        "colab": {
          "base_uri": "https://localhost:8080/",
          "height": 102
        },
        "outputId": "ad51408d-1f1b-4f26-8e21-7ad7afb91df5"
      },
      "source": [
        "# remove datetime column\n",
        "df=df.drop(columns='Date Time')\n",
        "df.keys()"
      ],
      "execution_count": null,
      "outputs": [
        {
          "output_type": "execute_result",
          "data": {
            "text/plain": [
              "Index(['p (mbar)', 'T (degC)', 'Tpot (K)', 'Tdew (degC)', 'rh (%)',\n",
              "       'VPmax (mbar)', 'VPact (mbar)', 'VPdef (mbar)', 'sh (g/kg)',\n",
              "       'H2OC (mmol/mol)', 'rho (g/m**3)', 'wv (m/s)', 'max. wv (m/s)',\n",
              "       'wd (deg)'],\n",
              "      dtype='object')"
            ]
          },
          "metadata": {
            "tags": []
          },
          "execution_count": 10
        }
      ]
    },
    {
      "cell_type": "code",
      "metadata": {
        "ExecuteTime": {
          "end_time": "2020-05-16T02:39:39.810408Z",
          "start_time": "2020-05-16T02:39:39.619294Z"
        },
        "id": "aTrQ3KvoXCql",
        "colab_type": "code",
        "colab": {
          "base_uri": "https://localhost:8080/",
          "height": 221
        },
        "outputId": "ede50fa1-dfc7-4f3d-c0ba-77af1fd3b8f8"
      },
      "source": [
        "mean=df.loc[:200_000].mean()\n",
        "std=df.loc[:200_000].std()\n",
        "df-=mean\n",
        "df/=std\n",
        "df.head()"
      ],
      "execution_count": null,
      "outputs": [
        {
          "output_type": "execute_result",
          "data": {
            "text/html": [
              "<div>\n",
              "<style scoped>\n",
              "    .dataframe tbody tr th:only-of-type {\n",
              "        vertical-align: middle;\n",
              "    }\n",
              "\n",
              "    .dataframe tbody tr th {\n",
              "        vertical-align: top;\n",
              "    }\n",
              "\n",
              "    .dataframe thead th {\n",
              "        text-align: right;\n",
              "    }\n",
              "</style>\n",
              "<table border=\"1\" class=\"dataframe\">\n",
              "  <thead>\n",
              "    <tr style=\"text-align: right;\">\n",
              "      <th></th>\n",
              "      <th>p (mbar)</th>\n",
              "      <th>T (degC)</th>\n",
              "      <th>Tpot (K)</th>\n",
              "      <th>Tdew (degC)</th>\n",
              "      <th>rh (%)</th>\n",
              "      <th>VPmax (mbar)</th>\n",
              "      <th>VPact (mbar)</th>\n",
              "      <th>VPdef (mbar)</th>\n",
              "      <th>sh (g/kg)</th>\n",
              "      <th>H2OC (mmol/mol)</th>\n",
              "      <th>rho (g/m**3)</th>\n",
              "      <th>wv (m/s)</th>\n",
              "      <th>max. wv (m/s)</th>\n",
              "      <th>wd (deg)</th>\n",
              "    </tr>\n",
              "  </thead>\n",
              "  <tbody>\n",
              "    <tr>\n",
              "      <th>0</th>\n",
              "      <td>0.900147</td>\n",
              "      <td>-1.931360</td>\n",
              "      <td>-1.982112</td>\n",
              "      <td>-1.862801</td>\n",
              "      <td>1.072851</td>\n",
              "      <td>-1.307423</td>\n",
              "      <td>-1.473759</td>\n",
              "      <td>-0.798685</td>\n",
              "      <td>-1.476269</td>\n",
              "      <td>-1.478157</td>\n",
              "      <td>2.123752</td>\n",
              "      <td>-0.729505</td>\n",
              "      <td>-0.780679</td>\n",
              "      <td>-0.276138</td>\n",
              "    </tr>\n",
              "    <tr>\n",
              "      <th>1</th>\n",
              "      <td>0.906043</td>\n",
              "      <td>-1.975415</td>\n",
              "      <td>-2.025671</td>\n",
              "      <td>-1.915831</td>\n",
              "      <td>1.078829</td>\n",
              "      <td>-1.320428</td>\n",
              "      <td>-1.495198</td>\n",
              "      <td>-0.800751</td>\n",
              "      <td>-1.495026</td>\n",
              "      <td>-1.499323</td>\n",
              "      <td>2.172000</td>\n",
              "      <td>-0.931241</td>\n",
              "      <td>-0.887944</td>\n",
              "      <td>-0.463176</td>\n",
              "    </tr>\n",
              "    <tr>\n",
              "      <th>2</th>\n",
              "      <td>0.901326</td>\n",
              "      <td>-1.986711</td>\n",
              "      <td>-2.036840</td>\n",
              "      <td>-1.920017</td>\n",
              "      <td>1.108720</td>\n",
              "      <td>-1.323029</td>\n",
              "      <td>-1.497580</td>\n",
              "      <td>-0.802817</td>\n",
              "      <td>-1.498778</td>\n",
              "      <td>-1.501675</td>\n",
              "      <td>2.182355</td>\n",
              "      <td>-1.276144</td>\n",
              "      <td>-1.261227</td>\n",
              "      <td>-0.053308</td>\n",
              "    </tr>\n",
              "    <tr>\n",
              "      <th>3</th>\n",
              "      <td>0.898968</td>\n",
              "      <td>-1.964119</td>\n",
              "      <td>-2.013385</td>\n",
              "      <td>-1.886525</td>\n",
              "      <td>1.126655</td>\n",
              "      <td>-1.316527</td>\n",
              "      <td>-1.483288</td>\n",
              "      <td>-0.804883</td>\n",
              "      <td>-1.483772</td>\n",
              "      <td>-1.487564</td>\n",
              "      <td>2.157643</td>\n",
              "      <td>-1.178530</td>\n",
              "      <td>-1.317005</td>\n",
              "      <td>0.251495</td>\n",
              "    </tr>\n",
              "    <tr>\n",
              "      <th>4</th>\n",
              "      <td>0.898968</td>\n",
              "      <td>-1.959600</td>\n",
              "      <td>-2.010034</td>\n",
              "      <td>-1.882338</td>\n",
              "      <td>1.120677</td>\n",
              "      <td>-1.315226</td>\n",
              "      <td>-1.480906</td>\n",
              "      <td>-0.804883</td>\n",
              "      <td>-1.483772</td>\n",
              "      <td>-1.485212</td>\n",
              "      <td>2.153171</td>\n",
              "      <td>-1.191545</td>\n",
              "      <td>-1.261227</td>\n",
              "      <td>0.439688</td>\n",
              "    </tr>\n",
              "  </tbody>\n",
              "</table>\n",
              "</div>"
            ],
            "text/plain": [
              "   p (mbar)  T (degC)  Tpot (K)  ...  wv (m/s)  max. wv (m/s)  wd (deg)\n",
              "0  0.900147 -1.931360 -1.982112  ... -0.729505      -0.780679 -0.276138\n",
              "1  0.906043 -1.975415 -2.025671  ... -0.931241      -0.887944 -0.463176\n",
              "2  0.901326 -1.986711 -2.036840  ... -1.276144      -1.261227 -0.053308\n",
              "3  0.898968 -1.964119 -2.013385  ... -1.178530      -1.317005  0.251495\n",
              "4  0.898968 -1.959600 -2.010034  ... -1.191545      -1.261227  0.439688\n",
              "\n",
              "[5 rows x 14 columns]"
            ]
          },
          "metadata": {
            "tags": []
          },
          "execution_count": 11
        }
      ]
    },
    {
      "cell_type": "code",
      "metadata": {
        "ExecuteTime": {
          "end_time": "2020-05-16T02:39:39.815031Z",
          "start_time": "2020-05-16T02:39:39.811745Z"
        },
        "id": "zpRA1oV8XCqn",
        "colab_type": "code",
        "colab": {
          "base_uri": "https://localhost:8080/",
          "height": 34
        },
        "outputId": "bcd656d5-cc3d-4d7e-973a-6543c8bb275b"
      },
      "source": [
        "float_data=df.to_numpy()\n",
        "float_data.shape"
      ],
      "execution_count": null,
      "outputs": [
        {
          "output_type": "execute_result",
          "data": {
            "text/plain": [
              "(420551, 14)"
            ]
          },
          "metadata": {
            "tags": []
          },
          "execution_count": 12
        }
      ]
    },
    {
      "cell_type": "markdown",
      "metadata": {
        "id": "Ro4AfMql_cv9",
        "colab_type": "text"
      },
      "source": [
        "# New Section"
      ]
    },
    {
      "cell_type": "markdown",
      "metadata": {
        "id": "yVaEYIDDXCqr",
        "colab_type": "text"
      },
      "source": [
        "### Datagenerator to yield a tuple (samples, targets)\n",
        "where samples is one batch of input data and targets is the corresponding array of\n",
        "target temperatures."
      ]
    },
    {
      "cell_type": "markdown",
      "metadata": {
        "id": "8RR93yQ8XCqs",
        "colab_type": "text"
      },
      "source": [
        " Generator takes following parameters:\n",
        "1. data—The original array of floating-point data, which you normalized in listing 6.32.\n",
        "2. lookback—How many timesteps back the input data should go.\n",
        "3. delay—How many timesteps in the future the target should be.\n",
        "4. min_index and max_index—Indices in the data array that delimit which timesteps\n",
        "to draw from. This is useful for keeping a segment of the data for validation\n",
        "and another for testing.\n",
        "5. shuffle—Whether to shuffle the samples or draw them in chronological order.\n",
        "6. batch_size—The number of samples per batch.\n",
        "7. step—The period, in timesteps, at which you sample data. You’ll set it to 6 in\n",
        "order to draw one data point every hour."
      ]
    },
    {
      "cell_type": "code",
      "metadata": {
        "ExecuteTime": {
          "end_time": "2020-05-16T02:39:39.819504Z",
          "start_time": "2020-05-16T02:39:39.816374Z"
        },
        "id": "FUp6FSWpXCqs",
        "colab_type": "code",
        "colab": {
          "base_uri": "https://localhost:8080/",
          "height": 34
        },
        "outputId": "9aa7e49d-f148-4579-ad27-c1816fd2d4f1"
      },
      "source": [
        "10//1.7"
      ],
      "execution_count": null,
      "outputs": [
        {
          "output_type": "execute_result",
          "data": {
            "text/plain": [
              "5.0"
            ]
          },
          "metadata": {
            "tags": []
          },
          "execution_count": 12
        }
      ]
    },
    {
      "cell_type": "code",
      "metadata": {
        "id": "Z6qdyyYiS_oJ",
        "colab_type": "code",
        "colab": {}
      },
      "source": [
        ""
      ],
      "execution_count": null,
      "outputs": []
    },
    {
      "cell_type": "code",
      "metadata": {
        "id": "Cocc8D6HIkS3",
        "colab_type": "code",
        "colab": {}
      },
      "source": [
        ""
      ],
      "execution_count": null,
      "outputs": []
    },
    {
      "cell_type": "code",
      "metadata": {
        "ExecuteTime": {
          "end_time": "2020-05-16T02:39:39.828627Z",
          "start_time": "2020-05-16T02:39:39.820876Z"
        },
        "id": "nt57jZ_EXCqv",
        "colab_type": "code",
        "colab": {}
      },
      "source": [
        "def generator(data, lookback, delay, min_index, max_index, shuffle=False, batch_size=128, step=6):\n",
        "    \"\"\"\n",
        "    data: np.array > of full data set.\n",
        "    lookback: no. of datapoints to look back in each sample.\n",
        "    delay: no. of datapoints after current sample for which prediction is to be made, or which corresponds to y\n",
        "    min_index: consider datapoints starting from this index only\n",
        "    max_index: Take datapoint upto max this index only\n",
        "    shuffle: shuffle the data before taking a batch out of data and yielding that\n",
        "    batch_size: no. of samples to be yielded in a single batch\n",
        "    step: not all data points will be considered, only datapoints at frequency- 'step' will be considered. \n",
        "            since data points aare at 10 min interval so step=6 implies only hourly data will be considered.\n",
        "    return: a tuple of (samples, data_samples_at_delay). Samples is a 2d np array of shape: (batch_size, lookback, data.shape[-1]). Basically a a batch of samples, \n",
        "            where each sample contains a np array of shape(lookback, data.shape[-1])\n",
        "            data_samples_at_delay is a 2d np array of shape: (batch_size, 1)- 1 since we only need temperature as output\n",
        "    \"\"\"\n",
        "    if max_index is None:\n",
        "        max_index = len(data) - delay - 1\n",
        "    i = min_index + lookback # which rows that will contain the end of sample data, delay will be relative to this row.\n",
        "    while True:\n",
        "        if shuffle:\n",
        "            # rows will be equal to batch_size\n",
        "            rows=np.random.randint(i, max_index, size=batch_size) # basically row indexes.\n",
        "        else: # not shuffled\n",
        "            if i+batch_size>max_index: # if reached end, need to rotate and go to beginning to get new batch\n",
        "                i=min_index+lookback\n",
        "            rows=np.arange(i, min(i+batch_size,max_index))\n",
        "            i+=len(rows) # move pointer to where end of next batch would be\n",
        "        # initializing samples and targets to 0s.\n",
        "        samples=np.zeros((len(rows), lookback//step, data.shape[-1]))\n",
        "        targets=np.zeros((len(rows),))\n",
        "        # setting the value of samples and targets for each sample/target in a batch of batch_size\n",
        "        for j, row in enumerate(rows):\n",
        "            indeces=np.arange(row-lookback, row, step)\n",
        "            samples[j]=data[indeces]\n",
        "            targets[j]=data[row+delay][1] # we only need the temperature as output/label\n",
        "        yield samples, targets\n",
        "\n",
        "        \n",
        "        \n",
        "            \n",
        "            \n",
        "            \n",
        "            \n",
        "# generator(float_data, lookback=24*5*6, delay=24*6, min_index=0, max_index=200_000)"
      ],
      "execution_count": null,
      "outputs": []
    },
    {
      "cell_type": "markdown",
      "metadata": {
        "ExecuteTime": {
          "end_time": "2020-05-16T01:38:27.132739Z",
          "start_time": "2020-05-16T01:38:27.129014Z"
        },
        "id": "S5_Lff9ZXCqx",
        "colab_type": "text"
      },
      "source": [
        "### Preparing the training, validation, and test generators"
      ]
    },
    {
      "cell_type": "code",
      "metadata": {
        "id": "jEZyPQjbI1fC",
        "colab_type": "code",
        "colab": {}
      },
      "source": [
        ""
      ],
      "execution_count": null,
      "outputs": []
    },
    {
      "cell_type": "code",
      "metadata": {
        "ExecuteTime": {
          "end_time": "2020-05-16T02:39:39.832571Z",
          "start_time": "2020-05-16T02:39:39.829998Z"
        },
        "id": "PypMRHLbXCqy",
        "colab_type": "code",
        "colab": {}
      },
      "source": [
        "lookback = 24*5*6 # 5 days data\n",
        "step = 6\n",
        "delay = 24*6 # 1 day's delay/prediction\n",
        "batch_size = 128 # training batch size"
      ],
      "execution_count": null,
      "outputs": []
    },
    {
      "cell_type": "code",
      "metadata": {
        "ExecuteTime": {
          "end_time": "2020-05-16T02:39:39.836791Z",
          "start_time": "2020-05-16T02:39:39.833921Z"
        },
        "id": "pmYTiB9wXCq0",
        "colab_type": "code",
        "colab": {}
      },
      "source": [
        "train_gen = generator(float_data,\n",
        "                lookback=lookback,\n",
        "                delay=delay,\n",
        "                min_index=0,\n",
        "                max_index=200_000,\n",
        "                shuffle=True,\n",
        "                step=step,\n",
        "                batch_size=batch_size)"
      ],
      "execution_count": null,
      "outputs": []
    },
    {
      "cell_type": "code",
      "metadata": {
        "ExecuteTime": {
          "end_time": "2020-05-16T02:39:39.840900Z",
          "start_time": "2020-05-16T02:39:39.838099Z"
        },
        "id": "GamT3n0TXCq4",
        "colab_type": "code",
        "colab": {}
      },
      "source": [
        "val_gen = generator(float_data,\n",
        "                lookback=lookback,\n",
        "                delay=delay,\n",
        "                min_index=200_001,\n",
        "                max_index=300_000,\n",
        "                shuffle=True,\n",
        "                step=step,\n",
        "                batch_size=batch_size)"
      ],
      "execution_count": null,
      "outputs": []
    },
    {
      "cell_type": "code",
      "metadata": {
        "ExecuteTime": {
          "end_time": "2020-05-16T02:39:39.844946Z",
          "start_time": "2020-05-16T02:39:39.842169Z"
        },
        "id": "K-iHQGVlXCq7",
        "colab_type": "code",
        "colab": {}
      },
      "source": [
        "test_gen = generator(float_data,\n",
        "                lookback=lookback,\n",
        "                delay=delay,\n",
        "                min_index=300_001,\n",
        "                max_index=None,\n",
        "                shuffle=True,\n",
        "                step=step,\n",
        "                batch_size=batch_size)"
      ],
      "execution_count": null,
      "outputs": []
    },
    {
      "cell_type": "code",
      "metadata": {
        "id": "9taPWwj5JLMS",
        "colab_type": "code",
        "colab": {}
      },
      "source": [
        ""
      ],
      "execution_count": null,
      "outputs": []
    },
    {
      "cell_type": "code",
      "metadata": {
        "ExecuteTime": {
          "end_time": "2020-05-16T02:39:39.848615Z",
          "start_time": "2020-05-16T02:39:39.846296Z"
        },
        "id": "gUxmg8X5XCq9",
        "colab_type": "code",
        "colab": {}
      },
      "source": [
        "val_steps = (300000 - 200001 - lookback) # how many val steps to look at whole data\n",
        "test_steps = (len(float_data) - 300001 - lookback) # how many test steps to look at whole data"
      ],
      "execution_count": null,
      "outputs": []
    },
    {
      "cell_type": "markdown",
      "metadata": {
        "id": "dxhdcF30XCq_",
        "colab_type": "text"
      },
      "source": [
        "## A common-sense, non-machine-learning baseline"
      ]
    },
    {
      "cell_type": "markdown",
      "metadata": {
        "id": "ZXCCzmbTXCrA",
        "colab_type": "text"
      },
      "source": [
        "common sense says that  current temperature must be pretty close to last day's temperature\n",
        "so making a common sense model for that to be used as baseline"
      ]
    },
    {
      "cell_type": "code",
      "metadata": {
        "ExecuteTime": {
          "end_time": "2020-05-16T02:39:39.987773Z",
          "start_time": "2020-05-16T02:39:39.849899Z"
        },
        "id": "Vwk_Aw3bXCrA",
        "colab_type": "code",
        "colab": {
          "base_uri": "https://localhost:8080/",
          "height": 34
        },
        "outputId": "04d9584f-9eff-4780-bc97-bbe322166f08"
      },
      "source": [
        "def evaluate_naive_method():\n",
        "    batch_maes=[] # mae is mean absolute error= np.mean(np.abs(preds - targets))\n",
        "    for step in range(val_steps):\n",
        "        samples, targets = next(val_gen)\n",
        "        preds = samples[:, -1, 1]\n",
        "        mae = np.mean(np.abs(preds - targets))\n",
        "        batch_maes.append(mae)\n",
        "    return (np.mean(batch_maes))\n",
        "mae=evaluate_naive_method()\n",
        "mae*std[1]"
      ],
      "execution_count": null,
      "outputs": [
        {
          "output_type": "execute_result",
          "data": {
            "text/plain": [
              "2.5718628310115936"
            ]
          },
          "metadata": {
            "tags": []
          },
          "execution_count": 19
        }
      ]
    },
    {
      "cell_type": "markdown",
      "metadata": {
        "id": "9h0POLOaXCrC",
        "colab_type": "text"
      },
      "source": [
        "This gives mae of 0.27315097027540164 which corresponds to 0.27*std[1]=2.26deg celcius.\n",
        "Let's build a ml model to do better than this"
      ]
    },
    {
      "cell_type": "markdown",
      "metadata": {
        "id": "ejxsxYaAXCrD",
        "colab_type": "text"
      },
      "source": [
        "## A basic machine-learning approach"
      ]
    },
    {
      "cell_type": "markdown",
      "metadata": {
        "id": "3CEmmfjMXCrD",
        "colab_type": "text"
      },
      "source": [
        "Trying a simple densely connected model before trying a more computationally expensive RNN"
      ]
    },
    {
      "cell_type": "code",
      "metadata": {
        "ExecuteTime": {
          "end_time": "2020-05-16T02:39:42.432929Z",
          "start_time": "2020-05-16T02:39:39.989123Z"
        },
        "id": "DTDDHOXwXCrE",
        "colab_type": "code",
        "colab": {
          "base_uri": "https://localhost:8080/",
          "height": 255
        },
        "outputId": "976478e0-c56c-4793-a85e-d2067ebc8c91"
      },
      "source": [
        "from keras.models import Sequential\n",
        "from keras import layers\n",
        "from keras.optimizers import RMSprop\n",
        "model = Sequential()\n",
        "model.add(layers.Flatten(input_shape=(lookback // step, float_data.shape[-1])))\n",
        "model.add(layers.Dense(32, activation='relu'))\n",
        "model.add(layers.Dense(1))\n",
        "model.summary()"
      ],
      "execution_count": null,
      "outputs": [
        {
          "output_type": "stream",
          "text": [
            "Model: \"sequential_2\"\n",
            "_________________________________________________________________\n",
            "Layer (type)                 Output Shape              Param #   \n",
            "=================================================================\n",
            "flatten_2 (Flatten)          (None, 1680)              0         \n",
            "_________________________________________________________________\n",
            "dense_3 (Dense)              (None, 32)                53792     \n",
            "_________________________________________________________________\n",
            "dense_4 (Dense)              (None, 1)                 33        \n",
            "=================================================================\n",
            "Total params: 53,825\n",
            "Trainable params: 53,825\n",
            "Non-trainable params: 0\n",
            "_________________________________________________________________\n"
          ],
          "name": "stdout"
        }
      ]
    },
    {
      "cell_type": "code",
      "metadata": {
        "ExecuteTime": {
          "start_time": "2020-05-16T02:39:37.558Z"
        },
        "id": "wkibFyenXCrG",
        "colab_type": "code",
        "colab": {
          "base_uri": "https://localhost:8080/",
          "height": 697
        },
        "outputId": "94146718-b7c9-4948-fa8d-edab0cf2d4e6"
      },
      "source": [
        "# compile and train\n",
        "model.compile(optimizer='rmsprop', loss='mae')\n",
        "history=model.fit_generator(train_gen, steps_per_epoch=500, epochs=20, validation_data=val_gen, validation_steps=val_steps/10)"
      ],
      "execution_count": null,
      "outputs": [
        {
          "output_type": "stream",
          "text": [
            "Epoch 1/20\n",
            "500/500 [==============================] - 32s 64ms/step - loss: 0.8622 - val_loss: 0.5318\n",
            "Epoch 2/20\n",
            "500/500 [==============================] - 32s 64ms/step - loss: 0.3769 - val_loss: 0.3161\n",
            "Epoch 3/20\n",
            "500/500 [==============================] - 32s 64ms/step - loss: 0.2934 - val_loss: 0.2815\n",
            "Epoch 4/20\n",
            "500/500 [==============================] - 32s 64ms/step - loss: 0.2717 - val_loss: 0.3675\n",
            "Epoch 5/20\n",
            "500/500 [==============================] - 32s 63ms/step - loss: 0.2631 - val_loss: 0.2803\n",
            "Epoch 6/20\n",
            "500/500 [==============================] - 31s 63ms/step - loss: 0.2552 - val_loss: 0.3143\n",
            "Epoch 7/20\n",
            "500/500 [==============================] - 32s 64ms/step - loss: 0.2497 - val_loss: 0.3029\n",
            "Epoch 8/20\n",
            "500/500 [==============================] - 32s 64ms/step - loss: 0.2444 - val_loss: 0.3137\n",
            "Epoch 9/20\n",
            "500/500 [==============================] - 32s 63ms/step - loss: 0.2406 - val_loss: 0.2939\n",
            "Epoch 10/20\n",
            "500/500 [==============================] - 31s 63ms/step - loss: 0.2376 - val_loss: 0.3202\n",
            "Epoch 11/20\n",
            "500/500 [==============================] - 31s 63ms/step - loss: 0.2366 - val_loss: 0.2715\n",
            "Epoch 12/20\n",
            "500/500 [==============================] - 32s 64ms/step - loss: 0.2326 - val_loss: 0.2701\n",
            "Epoch 13/20\n",
            "500/500 [==============================] - 32s 63ms/step - loss: 0.2299 - val_loss: 0.2854\n",
            "Epoch 14/20\n",
            "500/500 [==============================] - 32s 63ms/step - loss: 0.2293 - val_loss: 0.3403\n",
            "Epoch 15/20\n",
            "500/500 [==============================] - 32s 63ms/step - loss: 0.2278 - val_loss: 0.2830\n",
            "Epoch 16/20\n",
            "500/500 [==============================] - 32s 63ms/step - loss: 0.2283 - val_loss: 0.3265\n",
            "Epoch 17/20\n",
            "500/500 [==============================] - 32s 63ms/step - loss: 0.2247 - val_loss: 0.3807\n",
            "Epoch 18/20\n",
            "500/500 [==============================] - 32s 64ms/step - loss: 0.2231 - val_loss: 0.2710\n",
            "Epoch 19/20\n",
            "500/500 [==============================] - 31s 63ms/step - loss: 0.2215 - val_loss: 0.2969\n",
            "Epoch 20/20\n",
            "500/500 [==============================] - 31s 62ms/step - loss: 0.2200 - val_loss: 0.3276\n"
          ],
          "name": "stdout"
        }
      ]
    },
    {
      "cell_type": "code",
      "metadata": {
        "id": "_rrWx-QDer8I",
        "colab_type": "code",
        "colab": {
          "base_uri": "https://localhost:8080/",
          "height": 281
        },
        "outputId": "29447915-8aa5-4401-c91c-dbcec6861353"
      },
      "source": [
        "import matplotlib.pyplot as plt\n",
        "loss = history.history['loss']\n",
        "val_loss = history.history['val_loss']\n",
        "epochs = range(1, len(loss) + 1)\n",
        "plt.figure()\n",
        "plt.plot(epochs, loss, 'bo', label='Training loss')\n",
        "plt.plot(epochs, val_loss, 'b', label='Validation loss')\n",
        "plt.title('Training and validation loss')\n",
        "plt.legend()\n",
        "plt.show()"
      ],
      "execution_count": null,
      "outputs": [
        {
          "output_type": "display_data",
          "data": {
            "image/png": "[encoded data removed]",
            "text/plain": [
              "<Figure size 432x288 with 1 Axes>"
            ]
          },
          "metadata": {
            "tags": [],
            "needs_background": "light"
          }
        }
      ]
    },
    {
      "cell_type": "markdown",
      "metadata": {
        "id": "iHqjiI6YgAwM",
        "colab_type": "text"
      },
      "source": [
        "You may wonder, if a simple, well-performing model exists to go from the data to\n",
        "the targets (the common-sense baseline), why doesn’t the model you’re training find it\n",
        "and improve on it? Because this simple solution isn’t what your training setup is looking\n",
        "for. The space of models in which you’re searching for a solution—that is, your\n",
        "hypothesis space—is the space of all possible two-layer networks with the configuration\n",
        "you defined. These networks are already fairly complicated. When you’re looking for a solution with a space of complicated models, the simple, well-performing baseline may\n",
        "be unlearnable, even if it’s technically part of the hypothesis space. That is a pretty significant\n",
        "limitation of machine learning in general: unless the learning algorithm is\n",
        "hardcoded to look for a specific kind of simple model, parameter learning can sometimes\n",
        "fail to find a simple solution to a simple problem."
      ]
    },
    {
      "cell_type": "markdown",
      "metadata": {
        "id": "DQUscBYDeqRn",
        "colab_type": "text"
      },
      "source": [
        "## A first recurrent baseline"
      ]
    },
    {
      "cell_type": "markdown",
      "metadata": {
        "id": "yuNS1AWagYmm",
        "colab_type": "text"
      },
      "source": [
        "The previous approach first flattened the\n",
        "timeseries, which removed the notion of time from the input data. Let’s instead look\n",
        "at the data as what it is: a sequence, where causality and order matter. You’ll try a\n",
        "recurrent-sequence processing model—it should be the perfect fit for such sequence\n",
        "data, precisely because it exploits the temporal ordering of data points, unlike the first\n",
        "approach.\n",
        "Instead of the LSTM layer introduced in the previous section, you’ll use the GRU\n",
        "layer, developed by Chung et al. in 2014.5 Gated recurrent unit (GRU) layers work\n",
        "using the same principle as LSTM, but they’re somewhat streamlined and thus\n",
        "cheaper to run (although they may not have as much representational power as\n",
        "LSTM). This trade-off between computational expensiveness and representational\n",
        "power is seen everywhere in machine learning."
      ]
    },
    {
      "cell_type": "code",
      "metadata": {
        "id": "xDfPS_3XXCrM",
        "colab_type": "code",
        "colab": {
          "base_uri": "https://localhost:8080/",
          "height": 697
        },
        "outputId": "a9d6c2e2-66aa-4396-d261-1a044a57d437"
      },
      "source": [
        "from keras.models import Sequential\n",
        "from keras.layers import GRU, Dense\n",
        "from keras.optimizers import RMSprop\n",
        "\n",
        "model=Sequential()\n",
        "model.add(GRU(units=32, input_shape=(None, float_data.shape[-1])))\n",
        "model.add(Dense(1))\n",
        "\n",
        "model.compile(optimizer=RMSprop(), loss='mae')\n",
        "history=model.fit_generator(generator=train_gen, steps_per_epoch=500, epochs=20, validation_data=val_gen, validation_steps=val_steps/100)"
      ],
      "execution_count": null,
      "outputs": [
        {
          "output_type": "stream",
          "text": [
            "Epoch 1/20\n",
            "500/500 [==============================] - 134s 269ms/step - loss: 0.3035 - val_loss: 0.2509\n",
            "Epoch 2/20\n",
            "500/500 [==============================] - 135s 269ms/step - loss: 0.2844 - val_loss: 0.2527\n",
            "Epoch 3/20\n",
            "500/500 [==============================] - 135s 270ms/step - loss: 0.2806 - val_loss: 0.2439\n",
            "Epoch 4/20\n",
            "500/500 [==============================] - 134s 267ms/step - loss: 0.2745 - val_loss: 0.2788\n",
            "Epoch 5/20\n",
            "500/500 [==============================] - 134s 267ms/step - loss: 0.2714 - val_loss: 0.2430\n",
            "Epoch 6/20\n",
            "500/500 [==============================] - 132s 265ms/step - loss: 0.2656 - val_loss: 0.2788\n",
            "Epoch 7/20\n",
            "500/500 [==============================] - 131s 262ms/step - loss: 0.2616 - val_loss: 0.2582\n",
            "Epoch 8/20\n",
            "500/500 [==============================] - 132s 263ms/step - loss: 0.2579 - val_loss: 0.2790\n",
            "Epoch 9/20\n",
            "500/500 [==============================] - 132s 265ms/step - loss: 0.2524 - val_loss: 0.2659\n",
            "Epoch 10/20\n",
            "500/500 [==============================] - 132s 263ms/step - loss: 0.2491 - val_loss: 0.2819\n",
            "Epoch 11/20\n",
            "500/500 [==============================] - 131s 262ms/step - loss: 0.2446 - val_loss: 0.2603\n",
            "Epoch 12/20\n",
            "500/500 [==============================] - 132s 263ms/step - loss: 0.2425 - val_loss: 0.2678\n",
            "Epoch 13/20\n",
            "500/500 [==============================] - 131s 262ms/step - loss: 0.2387 - val_loss: 0.2574\n",
            "Epoch 14/20\n",
            "500/500 [==============================] - 131s 261ms/step - loss: 0.2349 - val_loss: 0.2742\n",
            "Epoch 15/20\n",
            "500/500 [==============================] - 132s 263ms/step - loss: 0.2325 - val_loss: 0.3023\n",
            "Epoch 16/20\n",
            "500/500 [==============================] - 131s 262ms/step - loss: 0.2301 - val_loss: 0.3063\n",
            "Epoch 17/20\n",
            "500/500 [==============================] - 131s 263ms/step - loss: 0.2260 - val_loss: 0.3096\n",
            "Epoch 18/20\n",
            "500/500 [==============================] - 132s 264ms/step - loss: 0.2216 - val_loss: 0.3067\n",
            "Epoch 19/20\n",
            "500/500 [==============================] - 131s 263ms/step - loss: 0.2196 - val_loss: 0.2880\n",
            "Epoch 20/20\n",
            "500/500 [==============================] - 132s 263ms/step - loss: 0.2150 - val_loss: 0.2858\n"
          ],
          "name": "stdout"
        }
      ]
    },
    {
      "cell_type": "code",
      "metadata": {
        "id": "9-0SkEjMXCrO",
        "colab_type": "code",
        "colab": {
          "base_uri": "https://localhost:8080/",
          "height": 281
        },
        "outputId": "2fba2c91-a368-4faf-c8d6-7af40ca30a8f"
      },
      "source": [
        "import matplotlib.pyplot as plt\n",
        "loss = history.history['loss']\n",
        "val_loss = history.history['val_loss']\n",
        "epochs = range(1, len(loss) + 1)\n",
        "plt.figure()\n",
        "plt.plot(epochs, loss, 'bo', label='Training loss')\n",
        "plt.plot(epochs, val_loss, 'b', label='Validation loss')\n",
        "plt.title('Training and validation loss')\n",
        "plt.legend()\n",
        "plt.show()"
      ],
      "execution_count": null,
      "outputs": [
        {
          "output_type": "display_data",
          "data": {
            "image/png": "[encoded data removed]",
            "text/plain": [
              "<Figure size 432x288 with 1 Axes>"
            ]
          },
          "metadata": {
            "tags": [],
            "needs_background": "light"
          }
        }
      ]
    },
    {
      "cell_type": "markdown",
      "metadata": {
        "id": "LUkHvlaVr2IK",
        "colab_type": "text"
      },
      "source": [
        "## Using Dropout in GRU"
      ]
    },
    {
      "cell_type": "markdown",
      "metadata": {
        "id": "33BzftPBsKUu",
        "colab_type": "text"
      },
      "source": [
        "It has long been known that\n",
        "applying dropout before a recurrent layer hinders learning rather than helping with\n",
        "regularization. In 2015, Yarin Gal, as part of his PhD thesis on Bayesian deep learning,\n",
        "6 determined the proper way to use dropout with a recurrent network: the same\n",
        "dropout mask (the same pattern of dropped units) should be applied at every timestep,\n",
        "instead of a dropout mask that varies randomly from timestep to timestep.\n",
        "What’s more, in order to regularize the representations formed by the recurrent gates\n",
        "of layers such as GRU and LSTM, a temporally constant dropout mask should be applied\n",
        "to the inner recurrent activations of the layer (a recurrent dropout mask). Using the\n",
        "same dropout mask at every timestep allows the network to properly propagate its\n",
        "learning error through time; a temporally random dropout mask would disrupt this\n",
        "error signal and be harmful to the learning process.\n",
        "\n",
        "Yarin Gal did his research using Keras and helped build this mechanism directly\n",
        "into Keras recurrent layers. Every recurrent layer in Keras has two dropout-related\n",
        "arguments: dropout, a float specifying the dropout rate for input units of the layer, and recurrent_dropout, specifying the dropout rate of the recurrent units. Let’s add\n",
        "dropout and recurrent dropout to the GRU layer and see how doing so impacts overfitting.\n",
        "Because networks being regularized with dropout always take longer to fully converge,\n",
        "you’ll train the network for twice as many epochs."
      ]
    },
    {
      "cell_type": "code",
      "metadata": {
        "id": "mEX0UEcer9Al",
        "colab_type": "code",
        "colab": {
          "base_uri": "https://localhost:8080/",
          "height": 647
        },
        "outputId": "a16d6c06-b9b7-4e2a-e6c4-1989125b6140"
      },
      "source": [
        "from keras.models import Sequential\n",
        "from keras import layers\n",
        "from keras.optimizers import RMSprop\n",
        "model = Sequential()\n",
        "model.add(layers.GRU(32, dropout=0.2, recurrent_dropout=0.2, input_shape=(None, float_data.shape[-1])))\n",
        "model.add(layers.Dense(1))\n",
        "\n",
        "model.compile(optimizer=RMSprop(), loss='mae')\n",
        "history = model.fit_generator(train_gen, steps_per_epoch=500, epochs=40, validation_data=val_gen, validation_steps=val_steps/100)"
      ],
      "execution_count": null,
      "outputs": [
        {
          "output_type": "stream",
          "text": [
            "Epoch 1/40\n",
            "500/500 [==============================] - 141s 282ms/step - loss: 15685896.8233 - val_loss: 0.8212\n",
            "Epoch 2/40\n",
            "500/500 [==============================] - 141s 282ms/step - loss: 127627.4596 - val_loss: 0.7981\n",
            "Epoch 3/40\n",
            "500/500 [==============================] - 141s 281ms/step - loss: 11611.5594 - val_loss: 0.7757\n",
            "Epoch 4/40\n",
            "500/500 [==============================] - 141s 282ms/step - loss: 19799.4998 - val_loss: 0.8602\n",
            "Epoch 5/40\n",
            "500/500 [==============================] - 141s 282ms/step - loss: 2419.1571 - val_loss: 0.4852\n",
            "Epoch 6/40\n",
            "500/500 [==============================] - 141s 281ms/step - loss: 139.4870 - val_loss: 0.2864\n",
            "Epoch 7/40\n",
            "500/500 [==============================] - 142s 284ms/step - loss: 2883.0217 - val_loss: 0.2736\n",
            "Epoch 8/40\n",
            "500/500 [==============================] - 141s 283ms/step - loss: 92.8131 - val_loss: 0.3057\n",
            "Epoch 9/40\n",
            "460/500 [==========================>...] - ETA: 9s - loss: 2214.5062"
          ],
          "name": "stdout"
        },
        {
          "output_type": "error",
          "ename": "KeyboardInterrupt",
          "evalue": "ignored",
          "traceback": [
            "\u001b[0;31m---------------------------------------------------------------------------\u001b[0m",
            "\u001b[0;31mKeyboardInterrupt\u001b[0m                         Traceback (most recent call last)",
            "\u001b[0;32m<ipython-input-38-21daca9e4e74>\u001b[0m in \u001b[0;36m<module>\u001b[0;34m()\u001b[0m\n\u001b[1;32m     13\u001b[0m                                 \u001b[0mepochs\u001b[0m\u001b[0;34m=\u001b[0m\u001b[0;36m40\u001b[0m\u001b[0;34m,\u001b[0m\u001b[0;34m\u001b[0m\u001b[0;34m\u001b[0m\u001b[0m\n\u001b[1;32m     14\u001b[0m                                 \u001b[0mvalidation_data\u001b[0m\u001b[0;34m=\u001b[0m\u001b[0mval_gen\u001b[0m\u001b[0;34m,\u001b[0m\u001b[0;34m\u001b[0m\u001b[0;34m\u001b[0m\u001b[0m\n\u001b[0;32m---> 15\u001b[0;31m                                 validation_steps=val_steps/100)\n\u001b[0m",
            "\u001b[0;32m/usr/local/lib/python3.6/dist-packages/keras/legacy/interfaces.py\u001b[0m in \u001b[0;36mwrapper\u001b[0;34m(*args, **kwargs)\u001b[0m\n\u001b[1;32m     89\u001b[0m                 warnings.warn('Update your `' + object_name + '` call to the ' +\n\u001b[1;32m     90\u001b[0m                               'Keras 2 API: ' + signature, stacklevel=2)\n\u001b[0;32m---> 91\u001b[0;31m             \u001b[0;32mreturn\u001b[0m \u001b[0mfunc\u001b[0m\u001b[0;34m(\u001b[0m\u001b[0;34m*\u001b[0m\u001b[0margs\u001b[0m\u001b[0;34m,\u001b[0m \u001b[0;34m**\u001b[0m\u001b[0mkwargs\u001b[0m\u001b[0;34m)\u001b[0m\u001b[0;34m\u001b[0m\u001b[0;34m\u001b[0m\u001b[0m\n\u001b[0m\u001b[1;32m     92\u001b[0m         \u001b[0mwrapper\u001b[0m\u001b[0;34m.\u001b[0m\u001b[0m_original_function\u001b[0m \u001b[0;34m=\u001b[0m \u001b[0mfunc\u001b[0m\u001b[0;34m\u001b[0m\u001b[0;34m\u001b[0m\u001b[0m\n\u001b[1;32m     93\u001b[0m         \u001b[0;32mreturn\u001b[0m \u001b[0mwrapper\u001b[0m\u001b[0;34m\u001b[0m\u001b[0;34m\u001b[0m\u001b[0m\n",
            "\u001b[0;32m/usr/local/lib/python3.6/dist-packages/keras/engine/training.py\u001b[0m in \u001b[0;36mfit_generator\u001b[0;34m(self, generator, steps_per_epoch, epochs, verbose, callbacks, validation_data, validation_steps, validation_freq, class_weight, max_queue_size, workers, use_multiprocessing, shuffle, initial_epoch)\u001b[0m\n\u001b[1;32m   1730\u001b[0m             \u001b[0muse_multiprocessing\u001b[0m\u001b[0;34m=\u001b[0m\u001b[0muse_multiprocessing\u001b[0m\u001b[0;34m,\u001b[0m\u001b[0;34m\u001b[0m\u001b[0;34m\u001b[0m\u001b[0m\n\u001b[1;32m   1731\u001b[0m             \u001b[0mshuffle\u001b[0m\u001b[0;34m=\u001b[0m\u001b[0mshuffle\u001b[0m\u001b[0;34m,\u001b[0m\u001b[0;34m\u001b[0m\u001b[0;34m\u001b[0m\u001b[0m\n\u001b[0;32m-> 1732\u001b[0;31m             initial_epoch=initial_epoch)\n\u001b[0m\u001b[1;32m   1733\u001b[0m \u001b[0;34m\u001b[0m\u001b[0m\n\u001b[1;32m   1734\u001b[0m     \u001b[0;34m@\u001b[0m\u001b[0minterfaces\u001b[0m\u001b[0;34m.\u001b[0m\u001b[0mlegacy_generator_methods_support\u001b[0m\u001b[0;34m\u001b[0m\u001b[0;34m\u001b[0m\u001b[0m\n",
            "\u001b[0;32m/usr/local/lib/python3.6/dist-packages/keras/engine/training_generator.py\u001b[0m in \u001b[0;36mfit_generator\u001b[0;34m(model, generator, steps_per_epoch, epochs, verbose, callbacks, validation_data, validation_steps, validation_freq, class_weight, max_queue_size, workers, use_multiprocessing, shuffle, initial_epoch)\u001b[0m\n\u001b[1;32m    218\u001b[0m                                             \u001b[0msample_weight\u001b[0m\u001b[0;34m=\u001b[0m\u001b[0msample_weight\u001b[0m\u001b[0;34m,\u001b[0m\u001b[0;34m\u001b[0m\u001b[0;34m\u001b[0m\u001b[0m\n\u001b[1;32m    219\u001b[0m                                             \u001b[0mclass_weight\u001b[0m\u001b[0;34m=\u001b[0m\u001b[0mclass_weight\u001b[0m\u001b[0;34m,\u001b[0m\u001b[0;34m\u001b[0m\u001b[0;34m\u001b[0m\u001b[0m\n\u001b[0;32m--> 220\u001b[0;31m                                             reset_metrics=False)\n\u001b[0m\u001b[1;32m    221\u001b[0m \u001b[0;34m\u001b[0m\u001b[0m\n\u001b[1;32m    222\u001b[0m                 \u001b[0mouts\u001b[0m \u001b[0;34m=\u001b[0m \u001b[0mto_list\u001b[0m\u001b[0;34m(\u001b[0m\u001b[0mouts\u001b[0m\u001b[0;34m)\u001b[0m\u001b[0;34m\u001b[0m\u001b[0;34m\u001b[0m\u001b[0m\n",
            "\u001b[0;32m/usr/local/lib/python3.6/dist-packages/keras/engine/training.py\u001b[0m in \u001b[0;36mtrain_on_batch\u001b[0;34m(self, x, y, sample_weight, class_weight, reset_metrics)\u001b[0m\n\u001b[1;32m   1512\u001b[0m             \u001b[0mins\u001b[0m \u001b[0;34m=\u001b[0m \u001b[0mx\u001b[0m \u001b[0;34m+\u001b[0m \u001b[0my\u001b[0m \u001b[0;34m+\u001b[0m \u001b[0msample_weights\u001b[0m\u001b[0;34m\u001b[0m\u001b[0;34m\u001b[0m\u001b[0m\n\u001b[1;32m   1513\u001b[0m         \u001b[0mself\u001b[0m\u001b[0;34m.\u001b[0m\u001b[0m_make_train_function\u001b[0m\u001b[0;34m(\u001b[0m\u001b[0;34m)\u001b[0m\u001b[0;34m\u001b[0m\u001b[0;34m\u001b[0m\u001b[0m\n\u001b[0;32m-> 1514\u001b[0;31m         \u001b[0moutputs\u001b[0m \u001b[0;34m=\u001b[0m \u001b[0mself\u001b[0m\u001b[0;34m.\u001b[0m\u001b[0mtrain_function\u001b[0m\u001b[0;34m(\u001b[0m\u001b[0mins\u001b[0m\u001b[0;34m)\u001b[0m\u001b[0;34m\u001b[0m\u001b[0;34m\u001b[0m\u001b[0m\n\u001b[0m\u001b[1;32m   1515\u001b[0m \u001b[0;34m\u001b[0m\u001b[0m\n\u001b[1;32m   1516\u001b[0m         \u001b[0;32mif\u001b[0m \u001b[0mreset_metrics\u001b[0m\u001b[0;34m:\u001b[0m\u001b[0;34m\u001b[0m\u001b[0;34m\u001b[0m\u001b[0m\n",
            "\u001b[0;32m/usr/local/lib/python3.6/dist-packages/tensorflow/python/keras/backend.py\u001b[0m in \u001b[0;36m__call__\u001b[0;34m(self, inputs)\u001b[0m\n\u001b[1;32m   3790\u001b[0m         \u001b[0mvalue\u001b[0m \u001b[0;34m=\u001b[0m \u001b[0mmath_ops\u001b[0m\u001b[0;34m.\u001b[0m\u001b[0mcast\u001b[0m\u001b[0;34m(\u001b[0m\u001b[0mvalue\u001b[0m\u001b[0;34m,\u001b[0m \u001b[0mtensor\u001b[0m\u001b[0;34m.\u001b[0m\u001b[0mdtype\u001b[0m\u001b[0;34m)\u001b[0m\u001b[0;34m\u001b[0m\u001b[0;34m\u001b[0m\u001b[0m\n\u001b[1;32m   3791\u001b[0m       \u001b[0mconverted_inputs\u001b[0m\u001b[0;34m.\u001b[0m\u001b[0mappend\u001b[0m\u001b[0;34m(\u001b[0m\u001b[0mvalue\u001b[0m\u001b[0;34m)\u001b[0m\u001b[0;34m\u001b[0m\u001b[0;34m\u001b[0m\u001b[0m\n\u001b[0;32m-> 3792\u001b[0;31m     \u001b[0moutputs\u001b[0m \u001b[0;34m=\u001b[0m \u001b[0mself\u001b[0m\u001b[0;34m.\u001b[0m\u001b[0m_graph_fn\u001b[0m\u001b[0;34m(\u001b[0m\u001b[0;34m*\u001b[0m\u001b[0mconverted_inputs\u001b[0m\u001b[0;34m)\u001b[0m\u001b[0;34m\u001b[0m\u001b[0;34m\u001b[0m\u001b[0m\n\u001b[0m\u001b[1;32m   3793\u001b[0m \u001b[0;34m\u001b[0m\u001b[0m\n\u001b[1;32m   3794\u001b[0m     \u001b[0;31m# EagerTensor.numpy() will often make a copy to ensure memory safety.\u001b[0m\u001b[0;34m\u001b[0m\u001b[0;34m\u001b[0m\u001b[0;34m\u001b[0m\u001b[0m\n",
            "\u001b[0;32m/usr/local/lib/python3.6/dist-packages/tensorflow/python/eager/function.py\u001b[0m in \u001b[0;36m__call__\u001b[0;34m(self, *args, **kwargs)\u001b[0m\n\u001b[1;32m   1603\u001b[0m       \u001b[0mTypeError\u001b[0m\u001b[0;34m:\u001b[0m \u001b[0mFor\u001b[0m \u001b[0minvalid\u001b[0m \u001b[0mpositional\u001b[0m\u001b[0;34m/\u001b[0m\u001b[0mkeyword\u001b[0m \u001b[0margument\u001b[0m \u001b[0mcombinations\u001b[0m\u001b[0;34m.\u001b[0m\u001b[0;34m\u001b[0m\u001b[0;34m\u001b[0m\u001b[0m\n\u001b[1;32m   1604\u001b[0m     \"\"\"\n\u001b[0;32m-> 1605\u001b[0;31m     \u001b[0;32mreturn\u001b[0m \u001b[0mself\u001b[0m\u001b[0;34m.\u001b[0m\u001b[0m_call_impl\u001b[0m\u001b[0;34m(\u001b[0m\u001b[0margs\u001b[0m\u001b[0;34m,\u001b[0m \u001b[0mkwargs\u001b[0m\u001b[0;34m)\u001b[0m\u001b[0;34m\u001b[0m\u001b[0;34m\u001b[0m\u001b[0m\n\u001b[0m\u001b[1;32m   1606\u001b[0m \u001b[0;34m\u001b[0m\u001b[0m\n\u001b[1;32m   1607\u001b[0m   \u001b[0;32mdef\u001b[0m \u001b[0m_call_impl\u001b[0m\u001b[0;34m(\u001b[0m\u001b[0mself\u001b[0m\u001b[0;34m,\u001b[0m \u001b[0margs\u001b[0m\u001b[0;34m,\u001b[0m \u001b[0mkwargs\u001b[0m\u001b[0;34m,\u001b[0m \u001b[0mcancellation_manager\u001b[0m\u001b[0;34m=\u001b[0m\u001b[0;32mNone\u001b[0m\u001b[0;34m)\u001b[0m\u001b[0;34m:\u001b[0m\u001b[0;34m\u001b[0m\u001b[0;34m\u001b[0m\u001b[0m\n",
            "\u001b[0;32m/usr/local/lib/python3.6/dist-packages/tensorflow/python/eager/function.py\u001b[0m in \u001b[0;36m_call_impl\u001b[0;34m(self, args, kwargs, cancellation_manager)\u001b[0m\n\u001b[1;32m   1643\u001b[0m       raise TypeError(\"Keyword arguments {} unknown. Expected {}.\".format(\n\u001b[1;32m   1644\u001b[0m           list(kwargs.keys()), list(self._arg_keywords)))\n\u001b[0;32m-> 1645\u001b[0;31m     \u001b[0;32mreturn\u001b[0m \u001b[0mself\u001b[0m\u001b[0;34m.\u001b[0m\u001b[0m_call_flat\u001b[0m\u001b[0;34m(\u001b[0m\u001b[0margs\u001b[0m\u001b[0;34m,\u001b[0m \u001b[0mself\u001b[0m\u001b[0;34m.\u001b[0m\u001b[0mcaptured_inputs\u001b[0m\u001b[0;34m,\u001b[0m \u001b[0mcancellation_manager\u001b[0m\u001b[0;34m)\u001b[0m\u001b[0;34m\u001b[0m\u001b[0;34m\u001b[0m\u001b[0m\n\u001b[0m\u001b[1;32m   1646\u001b[0m \u001b[0;34m\u001b[0m\u001b[0m\n\u001b[1;32m   1647\u001b[0m   \u001b[0;32mdef\u001b[0m \u001b[0m_filtered_call\u001b[0m\u001b[0;34m(\u001b[0m\u001b[0mself\u001b[0m\u001b[0;34m,\u001b[0m \u001b[0margs\u001b[0m\u001b[0;34m,\u001b[0m \u001b[0mkwargs\u001b[0m\u001b[0;34m)\u001b[0m\u001b[0;34m:\u001b[0m\u001b[0;34m\u001b[0m\u001b[0;34m\u001b[0m\u001b[0m\n",
            "\u001b[0;32m/usr/local/lib/python3.6/dist-packages/tensorflow/python/eager/function.py\u001b[0m in \u001b[0;36m_call_flat\u001b[0;34m(self, args, captured_inputs, cancellation_manager)\u001b[0m\n\u001b[1;32m   1744\u001b[0m       \u001b[0;31m# No tape is watching; skip to running the function.\u001b[0m\u001b[0;34m\u001b[0m\u001b[0;34m\u001b[0m\u001b[0;34m\u001b[0m\u001b[0m\n\u001b[1;32m   1745\u001b[0m       return self._build_call_outputs(self._inference_function.call(\n\u001b[0;32m-> 1746\u001b[0;31m           ctx, args, cancellation_manager=cancellation_manager))\n\u001b[0m\u001b[1;32m   1747\u001b[0m     forward_backward = self._select_forward_and_backward_functions(\n\u001b[1;32m   1748\u001b[0m         \u001b[0margs\u001b[0m\u001b[0;34m,\u001b[0m\u001b[0;34m\u001b[0m\u001b[0;34m\u001b[0m\u001b[0m\n",
            "\u001b[0;32m/usr/local/lib/python3.6/dist-packages/tensorflow/python/eager/function.py\u001b[0m in \u001b[0;36mcall\u001b[0;34m(self, ctx, args, cancellation_manager)\u001b[0m\n\u001b[1;32m    596\u001b[0m               \u001b[0minputs\u001b[0m\u001b[0;34m=\u001b[0m\u001b[0margs\u001b[0m\u001b[0;34m,\u001b[0m\u001b[0;34m\u001b[0m\u001b[0;34m\u001b[0m\u001b[0m\n\u001b[1;32m    597\u001b[0m               \u001b[0mattrs\u001b[0m\u001b[0;34m=\u001b[0m\u001b[0mattrs\u001b[0m\u001b[0;34m,\u001b[0m\u001b[0;34m\u001b[0m\u001b[0;34m\u001b[0m\u001b[0m\n\u001b[0;32m--> 598\u001b[0;31m               ctx=ctx)\n\u001b[0m\u001b[1;32m    599\u001b[0m         \u001b[0;32melse\u001b[0m\u001b[0;34m:\u001b[0m\u001b[0;34m\u001b[0m\u001b[0;34m\u001b[0m\u001b[0m\n\u001b[1;32m    600\u001b[0m           outputs = execute.execute_with_cancellation(\n",
            "\u001b[0;32m/usr/local/lib/python3.6/dist-packages/tensorflow/python/eager/execute.py\u001b[0m in \u001b[0;36mquick_execute\u001b[0;34m(op_name, num_outputs, inputs, attrs, ctx, name)\u001b[0m\n\u001b[1;32m     58\u001b[0m     \u001b[0mctx\u001b[0m\u001b[0;34m.\u001b[0m\u001b[0mensure_initialized\u001b[0m\u001b[0;34m(\u001b[0m\u001b[0;34m)\u001b[0m\u001b[0;34m\u001b[0m\u001b[0;34m\u001b[0m\u001b[0m\n\u001b[1;32m     59\u001b[0m     tensors = pywrap_tfe.TFE_Py_Execute(ctx._handle, device_name, op_name,\n\u001b[0;32m---> 60\u001b[0;31m                                         inputs, attrs, num_outputs)\n\u001b[0m\u001b[1;32m     61\u001b[0m   \u001b[0;32mexcept\u001b[0m \u001b[0mcore\u001b[0m\u001b[0;34m.\u001b[0m\u001b[0m_NotOkStatusException\u001b[0m \u001b[0;32mas\u001b[0m \u001b[0me\u001b[0m\u001b[0;34m:\u001b[0m\u001b[0;34m\u001b[0m\u001b[0;34m\u001b[0m\u001b[0m\n\u001b[1;32m     62\u001b[0m     \u001b[0;32mif\u001b[0m \u001b[0mname\u001b[0m \u001b[0;32mis\u001b[0m \u001b[0;32mnot\u001b[0m \u001b[0;32mNone\u001b[0m\u001b[0;34m:\u001b[0m\u001b[0;34m\u001b[0m\u001b[0;34m\u001b[0m\u001b[0m\n",
            "\u001b[0;31mKeyboardInterrupt\u001b[0m: "
          ]
        }
      ]
    },
    {
      "cell_type": "markdown",
      "metadata": {
        "id": "cgOjeJTCukaN",
        "colab_type": "text"
      },
      "source": [
        "You’re no longer overfitting during the first 30\n",
        "epochs. But although you have more stable evaluation scores, your best scores aren’t\n",
        "much lower than they were previously."
      ]
    },
    {
      "cell_type": "markdown",
      "metadata": {
        "id": "eTp_b-5Yw5mi",
        "colab_type": "text"
      },
      "source": [
        "## stacking RNN layers"
      ]
    },
    {
      "cell_type": "markdown",
      "metadata": {
        "id": "vDD9968-xx9c",
        "colab_type": "text"
      },
      "source": [
        "Recall the description of\n",
        "the universal machine-learning workflow: it’s generally a good idea to increase the\n",
        "capacity of your network until overfitting becomes the primary obstacle (assuming you’re already taking basic steps to mitigate overfitting, such as using dropout). As\n",
        "long as you aren’t overfitting too badly, you’re likely under capacity.\n",
        "Increasing network capacity is typically done by increasing the number of units in\n",
        "the layers or adding more layers. Recurrent layer stacking is a classic way to build\n",
        "more-powerful recurrent networks: for instance, what currently powers the Google\n",
        "Translate algorithm is a stack of seven large LSTM layers—that’s huge.\n",
        "To stack recurrent layers on top of each other in Keras, all intermediate layers\n",
        "should return their full sequence of outputs (a 3D tensor) rather than their output at\n",
        "the last timestep. This is done by specifying return_sequences=True."
      ]
    },
    {
      "cell_type": "code",
      "metadata": {
        "id": "DCMsRy3Ar9bG",
        "colab_type": "code",
        "colab": {
          "base_uri": "https://localhost:8080/",
          "height": 1000
        },
        "outputId": "61917356-357a-45a4-cec6-d716994eecd3"
      },
      "source": [
        "from keras.models import Sequential\n",
        "from keras import layers\n",
        "from keras.optimizers import RMSprop\n",
        "model = Sequential()\n",
        "model.add(layers.GRU(32, dropout=0.2, recurrent_dropout=0.2, return_sequences=True, input_shape=(None, float_data.shape[-1])))\n",
        "model.add(layers.GRU(64, activation='relu', dropout=0.2, recurrent_dropout=0.2))\n",
        "model.add(layers.Dense(1))\n",
        "\n",
        "model.compile(optimizer=RMSprop(), loss='mae')\n",
        "history = model.fit_generator(train_gen, steps_per_epoch=500, epochs=40, validation_data=val_gen, validation_steps=val_steps/100)"
      ],
      "execution_count": null,
      "outputs": [
        {
          "output_type": "stream",
          "text": [
            "Epoch 1/40\n",
            "500/500 [==============================] - 286s 571ms/step - loss: 7930715.9974 - val_loss: 0.7765\n",
            "Epoch 2/40\n",
            "500/500 [==============================] - 285s 570ms/step - loss: 45297.7779 - val_loss: 0.7654\n",
            "Epoch 3/40\n",
            "500/500 [==============================] - 283s 567ms/step - loss: 4129.7790 - val_loss: 0.6865\n",
            "Epoch 4/40\n",
            "500/500 [==============================] - 283s 567ms/step - loss: 1722.6837 - val_loss: 0.6580\n",
            "Epoch 5/40\n",
            "500/500 [==============================] - 284s 567ms/step - loss: 51920.0268 - val_loss: 0.6321\n",
            "Epoch 6/40\n",
            "500/500 [==============================] - 284s 568ms/step - loss: 52098.8892 - val_loss: 0.6772\n",
            "Epoch 7/40\n",
            "500/500 [==============================] - 286s 571ms/step - loss: 90296.5013 - val_loss: 0.5796\n",
            "Epoch 8/40\n",
            "500/500 [==============================] - 285s 569ms/step - loss: 17022.8038 - val_loss: 0.5471\n",
            "Epoch 9/40\n",
            "500/500 [==============================] - 286s 571ms/step - loss: 48864.6832 - val_loss: 0.5539\n",
            "Epoch 10/40\n",
            "500/500 [==============================] - 284s 569ms/step - loss: 9285.0870 - val_loss: 0.5294\n",
            "Epoch 11/40\n",
            "500/500 [==============================] - 284s 569ms/step - loss: 4027.8570 - val_loss: 0.5293\n",
            "Epoch 12/40\n",
            "500/500 [==============================] - 285s 570ms/step - loss: 1821.4323 - val_loss: 0.3845\n",
            "Epoch 13/40\n",
            "500/500 [==============================] - 287s 574ms/step - loss: 3543.5371 - val_loss: 0.3547\n",
            "Epoch 14/40\n",
            "500/500 [==============================] - 288s 576ms/step - loss: 4763.6010 - val_loss: 0.3281\n",
            "Epoch 15/40\n",
            "500/500 [==============================] - 287s 574ms/step - loss: 1263.5132 - val_loss: 0.2784\n",
            "Epoch 16/40\n",
            "500/500 [==============================] - 287s 575ms/step - loss: 3604.8521 - val_loss: 0.3270\n",
            "Epoch 17/40\n",
            "500/500 [==============================] - 292s 585ms/step - loss: 21972.3339 - val_loss: 0.3510\n",
            "Epoch 18/40\n",
            "500/500 [==============================] - 292s 585ms/step - loss: 653.6848 - val_loss: 0.3720\n",
            "Epoch 19/40\n",
            "500/500 [==============================] - 288s 575ms/step - loss: 402.1563 - val_loss: 0.3161\n",
            "Epoch 20/40\n",
            "500/500 [==============================] - 288s 576ms/step - loss: 2210.5269 - val_loss: 0.3095\n",
            "Epoch 21/40\n",
            "500/500 [==============================] - 286s 571ms/step - loss: 412.3395 - val_loss: 0.3242\n",
            "Epoch 22/40\n",
            "500/500 [==============================] - 285s 570ms/step - loss: 610.6134 - val_loss: 0.3297\n",
            "Epoch 23/40\n",
            " 58/500 [==>...........................] - ETA: 3:34 - loss: 5026.8692"
          ],
          "name": "stdout"
        },
        {
          "output_type": "error",
          "ename": "KeyboardInterrupt",
          "evalue": "ignored",
          "traceback": [
            "\u001b[0;31m---------------------------------------------------------------------------\u001b[0m",
            "\u001b[0;31mKeyboardInterrupt\u001b[0m                         Traceback (most recent call last)",
            "\u001b[0;32m<ipython-input-42-94a9a6ced9d6>\u001b[0m in \u001b[0;36m<module>\u001b[0;34m()\u001b[0m\n\u001b[1;32m      8\u001b[0m \u001b[0;34m\u001b[0m\u001b[0m\n\u001b[1;32m      9\u001b[0m \u001b[0mmodel\u001b[0m\u001b[0;34m.\u001b[0m\u001b[0mcompile\u001b[0m\u001b[0;34m(\u001b[0m\u001b[0moptimizer\u001b[0m\u001b[0;34m=\u001b[0m\u001b[0mRMSprop\u001b[0m\u001b[0;34m(\u001b[0m\u001b[0;34m)\u001b[0m\u001b[0;34m,\u001b[0m \u001b[0mloss\u001b[0m\u001b[0;34m=\u001b[0m\u001b[0;34m'mae'\u001b[0m\u001b[0;34m)\u001b[0m\u001b[0;34m\u001b[0m\u001b[0;34m\u001b[0m\u001b[0m\n\u001b[0;32m---> 10\u001b[0;31m \u001b[0mhistory\u001b[0m \u001b[0;34m=\u001b[0m \u001b[0mmodel\u001b[0m\u001b[0;34m.\u001b[0m\u001b[0mfit_generator\u001b[0m\u001b[0;34m(\u001b[0m\u001b[0mtrain_gen\u001b[0m\u001b[0;34m,\u001b[0m \u001b[0msteps_per_epoch\u001b[0m\u001b[0;34m=\u001b[0m\u001b[0;36m500\u001b[0m\u001b[0;34m,\u001b[0m \u001b[0mepochs\u001b[0m\u001b[0;34m=\u001b[0m\u001b[0;36m40\u001b[0m\u001b[0;34m,\u001b[0m \u001b[0mvalidation_data\u001b[0m\u001b[0;34m=\u001b[0m\u001b[0mval_gen\u001b[0m\u001b[0;34m,\u001b[0m \u001b[0mvalidation_steps\u001b[0m\u001b[0;34m=\u001b[0m\u001b[0mval_steps\u001b[0m\u001b[0;34m/\u001b[0m\u001b[0;36m100\u001b[0m\u001b[0;34m)\u001b[0m\u001b[0;34m\u001b[0m\u001b[0;34m\u001b[0m\u001b[0m\n\u001b[0m",
            "\u001b[0;32m/usr/local/lib/python3.6/dist-packages/keras/legacy/interfaces.py\u001b[0m in \u001b[0;36mwrapper\u001b[0;34m(*args, **kwargs)\u001b[0m\n\u001b[1;32m     89\u001b[0m                 warnings.warn('Update your `' + object_name + '` call to the ' +\n\u001b[1;32m     90\u001b[0m                               'Keras 2 API: ' + signature, stacklevel=2)\n\u001b[0;32m---> 91\u001b[0;31m             \u001b[0;32mreturn\u001b[0m \u001b[0mfunc\u001b[0m\u001b[0;34m(\u001b[0m\u001b[0;34m*\u001b[0m\u001b[0margs\u001b[0m\u001b[0;34m,\u001b[0m \u001b[0;34m**\u001b[0m\u001b[0mkwargs\u001b[0m\u001b[0;34m)\u001b[0m\u001b[0;34m\u001b[0m\u001b[0;34m\u001b[0m\u001b[0m\n\u001b[0m\u001b[1;32m     92\u001b[0m         \u001b[0mwrapper\u001b[0m\u001b[0;34m.\u001b[0m\u001b[0m_original_function\u001b[0m \u001b[0;34m=\u001b[0m \u001b[0mfunc\u001b[0m\u001b[0;34m\u001b[0m\u001b[0;34m\u001b[0m\u001b[0m\n\u001b[1;32m     93\u001b[0m         \u001b[0;32mreturn\u001b[0m \u001b[0mwrapper\u001b[0m\u001b[0;34m\u001b[0m\u001b[0;34m\u001b[0m\u001b[0m\n",
            "\u001b[0;32m/usr/local/lib/python3.6/dist-packages/keras/engine/training.py\u001b[0m in \u001b[0;36mfit_generator\u001b[0;34m(self, generator, steps_per_epoch, epochs, verbose, callbacks, validation_data, validation_steps, validation_freq, class_weight, max_queue_size, workers, use_multiprocessing, shuffle, initial_epoch)\u001b[0m\n\u001b[1;32m   1730\u001b[0m             \u001b[0muse_multiprocessing\u001b[0m\u001b[0;34m=\u001b[0m\u001b[0muse_multiprocessing\u001b[0m\u001b[0;34m,\u001b[0m\u001b[0;34m\u001b[0m\u001b[0;34m\u001b[0m\u001b[0m\n\u001b[1;32m   1731\u001b[0m             \u001b[0mshuffle\u001b[0m\u001b[0;34m=\u001b[0m\u001b[0mshuffle\u001b[0m\u001b[0;34m,\u001b[0m\u001b[0;34m\u001b[0m\u001b[0;34m\u001b[0m\u001b[0m\n\u001b[0;32m-> 1732\u001b[0;31m             initial_epoch=initial_epoch)\n\u001b[0m\u001b[1;32m   1733\u001b[0m \u001b[0;34m\u001b[0m\u001b[0m\n\u001b[1;32m   1734\u001b[0m     \u001b[0;34m@\u001b[0m\u001b[0minterfaces\u001b[0m\u001b[0;34m.\u001b[0m\u001b[0mlegacy_generator_methods_support\u001b[0m\u001b[0;34m\u001b[0m\u001b[0;34m\u001b[0m\u001b[0m\n",
            "\u001b[0;32m/usr/local/lib/python3.6/dist-packages/keras/engine/training_generator.py\u001b[0m in \u001b[0;36mfit_generator\u001b[0;34m(model, generator, steps_per_epoch, epochs, verbose, callbacks, validation_data, validation_steps, validation_freq, class_weight, max_queue_size, workers, use_multiprocessing, shuffle, initial_epoch)\u001b[0m\n\u001b[1;32m    218\u001b[0m                                             \u001b[0msample_weight\u001b[0m\u001b[0;34m=\u001b[0m\u001b[0msample_weight\u001b[0m\u001b[0;34m,\u001b[0m\u001b[0;34m\u001b[0m\u001b[0;34m\u001b[0m\u001b[0m\n\u001b[1;32m    219\u001b[0m                                             \u001b[0mclass_weight\u001b[0m\u001b[0;34m=\u001b[0m\u001b[0mclass_weight\u001b[0m\u001b[0;34m,\u001b[0m\u001b[0;34m\u001b[0m\u001b[0;34m\u001b[0m\u001b[0m\n\u001b[0;32m--> 220\u001b[0;31m                                             reset_metrics=False)\n\u001b[0m\u001b[1;32m    221\u001b[0m \u001b[0;34m\u001b[0m\u001b[0m\n\u001b[1;32m    222\u001b[0m                 \u001b[0mouts\u001b[0m \u001b[0;34m=\u001b[0m \u001b[0mto_list\u001b[0m\u001b[0;34m(\u001b[0m\u001b[0mouts\u001b[0m\u001b[0;34m)\u001b[0m\u001b[0;34m\u001b[0m\u001b[0;34m\u001b[0m\u001b[0m\n",
            "\u001b[0;32m/usr/local/lib/python3.6/dist-packages/keras/engine/training.py\u001b[0m in \u001b[0;36mtrain_on_batch\u001b[0;34m(self, x, y, sample_weight, class_weight, reset_metrics)\u001b[0m\n\u001b[1;32m   1512\u001b[0m             \u001b[0mins\u001b[0m \u001b[0;34m=\u001b[0m \u001b[0mx\u001b[0m \u001b[0;34m+\u001b[0m \u001b[0my\u001b[0m \u001b[0;34m+\u001b[0m \u001b[0msample_weights\u001b[0m\u001b[0;34m\u001b[0m\u001b[0;34m\u001b[0m\u001b[0m\n\u001b[1;32m   1513\u001b[0m         \u001b[0mself\u001b[0m\u001b[0;34m.\u001b[0m\u001b[0m_make_train_function\u001b[0m\u001b[0;34m(\u001b[0m\u001b[0;34m)\u001b[0m\u001b[0;34m\u001b[0m\u001b[0;34m\u001b[0m\u001b[0m\n\u001b[0;32m-> 1514\u001b[0;31m         \u001b[0moutputs\u001b[0m \u001b[0;34m=\u001b[0m \u001b[0mself\u001b[0m\u001b[0;34m.\u001b[0m\u001b[0mtrain_function\u001b[0m\u001b[0;34m(\u001b[0m\u001b[0mins\u001b[0m\u001b[0;34m)\u001b[0m\u001b[0;34m\u001b[0m\u001b[0;34m\u001b[0m\u001b[0m\n\u001b[0m\u001b[1;32m   1515\u001b[0m \u001b[0;34m\u001b[0m\u001b[0m\n\u001b[1;32m   1516\u001b[0m         \u001b[0;32mif\u001b[0m \u001b[0mreset_metrics\u001b[0m\u001b[0;34m:\u001b[0m\u001b[0;34m\u001b[0m\u001b[0;34m\u001b[0m\u001b[0m\n",
            "\u001b[0;32m/usr/local/lib/python3.6/dist-packages/tensorflow/python/keras/backend.py\u001b[0m in \u001b[0;36m__call__\u001b[0;34m(self, inputs)\u001b[0m\n\u001b[1;32m   3790\u001b[0m         \u001b[0mvalue\u001b[0m \u001b[0;34m=\u001b[0m \u001b[0mmath_ops\u001b[0m\u001b[0;34m.\u001b[0m\u001b[0mcast\u001b[0m\u001b[0;34m(\u001b[0m\u001b[0mvalue\u001b[0m\u001b[0;34m,\u001b[0m \u001b[0mtensor\u001b[0m\u001b[0;34m.\u001b[0m\u001b[0mdtype\u001b[0m\u001b[0;34m)\u001b[0m\u001b[0;34m\u001b[0m\u001b[0;34m\u001b[0m\u001b[0m\n\u001b[1;32m   3791\u001b[0m       \u001b[0mconverted_inputs\u001b[0m\u001b[0;34m.\u001b[0m\u001b[0mappend\u001b[0m\u001b[0;34m(\u001b[0m\u001b[0mvalue\u001b[0m\u001b[0;34m)\u001b[0m\u001b[0;34m\u001b[0m\u001b[0;34m\u001b[0m\u001b[0m\n\u001b[0;32m-> 3792\u001b[0;31m     \u001b[0moutputs\u001b[0m \u001b[0;34m=\u001b[0m \u001b[0mself\u001b[0m\u001b[0;34m.\u001b[0m\u001b[0m_graph_fn\u001b[0m\u001b[0;34m(\u001b[0m\u001b[0;34m*\u001b[0m\u001b[0mconverted_inputs\u001b[0m\u001b[0;34m)\u001b[0m\u001b[0;34m\u001b[0m\u001b[0;34m\u001b[0m\u001b[0m\n\u001b[0m\u001b[1;32m   3793\u001b[0m \u001b[0;34m\u001b[0m\u001b[0m\n\u001b[1;32m   3794\u001b[0m     \u001b[0;31m# EagerTensor.numpy() will often make a copy to ensure memory safety.\u001b[0m\u001b[0;34m\u001b[0m\u001b[0;34m\u001b[0m\u001b[0;34m\u001b[0m\u001b[0m\n",
            "\u001b[0;32m/usr/local/lib/python3.6/dist-packages/tensorflow/python/eager/function.py\u001b[0m in \u001b[0;36m__call__\u001b[0;34m(self, *args, **kwargs)\u001b[0m\n\u001b[1;32m   1603\u001b[0m       \u001b[0mTypeError\u001b[0m\u001b[0;34m:\u001b[0m \u001b[0mFor\u001b[0m \u001b[0minvalid\u001b[0m \u001b[0mpositional\u001b[0m\u001b[0;34m/\u001b[0m\u001b[0mkeyword\u001b[0m \u001b[0margument\u001b[0m \u001b[0mcombinations\u001b[0m\u001b[0;34m.\u001b[0m\u001b[0;34m\u001b[0m\u001b[0;34m\u001b[0m\u001b[0m\n\u001b[1;32m   1604\u001b[0m     \"\"\"\n\u001b[0;32m-> 1605\u001b[0;31m     \u001b[0;32mreturn\u001b[0m \u001b[0mself\u001b[0m\u001b[0;34m.\u001b[0m\u001b[0m_call_impl\u001b[0m\u001b[0;34m(\u001b[0m\u001b[0margs\u001b[0m\u001b[0;34m,\u001b[0m \u001b[0mkwargs\u001b[0m\u001b[0;34m)\u001b[0m\u001b[0;34m\u001b[0m\u001b[0;34m\u001b[0m\u001b[0m\n\u001b[0m\u001b[1;32m   1606\u001b[0m \u001b[0;34m\u001b[0m\u001b[0m\n\u001b[1;32m   1607\u001b[0m   \u001b[0;32mdef\u001b[0m \u001b[0m_call_impl\u001b[0m\u001b[0;34m(\u001b[0m\u001b[0mself\u001b[0m\u001b[0;34m,\u001b[0m \u001b[0margs\u001b[0m\u001b[0;34m,\u001b[0m \u001b[0mkwargs\u001b[0m\u001b[0;34m,\u001b[0m \u001b[0mcancellation_manager\u001b[0m\u001b[0;34m=\u001b[0m\u001b[0;32mNone\u001b[0m\u001b[0;34m)\u001b[0m\u001b[0;34m:\u001b[0m\u001b[0;34m\u001b[0m\u001b[0;34m\u001b[0m\u001b[0m\n",
            "\u001b[0;32m/usr/local/lib/python3.6/dist-packages/tensorflow/python/eager/function.py\u001b[0m in \u001b[0;36m_call_impl\u001b[0;34m(self, args, kwargs, cancellation_manager)\u001b[0m\n\u001b[1;32m   1643\u001b[0m       raise TypeError(\"Keyword arguments {} unknown. Expected {}.\".format(\n\u001b[1;32m   1644\u001b[0m           list(kwargs.keys()), list(self._arg_keywords)))\n\u001b[0;32m-> 1645\u001b[0;31m     \u001b[0;32mreturn\u001b[0m \u001b[0mself\u001b[0m\u001b[0;34m.\u001b[0m\u001b[0m_call_flat\u001b[0m\u001b[0;34m(\u001b[0m\u001b[0margs\u001b[0m\u001b[0;34m,\u001b[0m \u001b[0mself\u001b[0m\u001b[0;34m.\u001b[0m\u001b[0mcaptured_inputs\u001b[0m\u001b[0;34m,\u001b[0m \u001b[0mcancellation_manager\u001b[0m\u001b[0;34m)\u001b[0m\u001b[0;34m\u001b[0m\u001b[0;34m\u001b[0m\u001b[0m\n\u001b[0m\u001b[1;32m   1646\u001b[0m \u001b[0;34m\u001b[0m\u001b[0m\n\u001b[1;32m   1647\u001b[0m   \u001b[0;32mdef\u001b[0m \u001b[0m_filtered_call\u001b[0m\u001b[0;34m(\u001b[0m\u001b[0mself\u001b[0m\u001b[0;34m,\u001b[0m \u001b[0margs\u001b[0m\u001b[0;34m,\u001b[0m \u001b[0mkwargs\u001b[0m\u001b[0;34m)\u001b[0m\u001b[0;34m:\u001b[0m\u001b[0;34m\u001b[0m\u001b[0;34m\u001b[0m\u001b[0m\n",
            "\u001b[0;32m/usr/local/lib/python3.6/dist-packages/tensorflow/python/eager/function.py\u001b[0m in \u001b[0;36m_call_flat\u001b[0;34m(self, args, captured_inputs, cancellation_manager)\u001b[0m\n\u001b[1;32m   1744\u001b[0m       \u001b[0;31m# No tape is watching; skip to running the function.\u001b[0m\u001b[0;34m\u001b[0m\u001b[0;34m\u001b[0m\u001b[0;34m\u001b[0m\u001b[0m\n\u001b[1;32m   1745\u001b[0m       return self._build_call_outputs(self._inference_function.call(\n\u001b[0;32m-> 1746\u001b[0;31m           ctx, args, cancellation_manager=cancellation_manager))\n\u001b[0m\u001b[1;32m   1747\u001b[0m     forward_backward = self._select_forward_and_backward_functions(\n\u001b[1;32m   1748\u001b[0m         \u001b[0margs\u001b[0m\u001b[0;34m,\u001b[0m\u001b[0;34m\u001b[0m\u001b[0;34m\u001b[0m\u001b[0m\n",
            "\u001b[0;32m/usr/local/lib/python3.6/dist-packages/tensorflow/python/eager/function.py\u001b[0m in \u001b[0;36mcall\u001b[0;34m(self, ctx, args, cancellation_manager)\u001b[0m\n\u001b[1;32m    596\u001b[0m               \u001b[0minputs\u001b[0m\u001b[0;34m=\u001b[0m\u001b[0margs\u001b[0m\u001b[0;34m,\u001b[0m\u001b[0;34m\u001b[0m\u001b[0;34m\u001b[0m\u001b[0m\n\u001b[1;32m    597\u001b[0m               \u001b[0mattrs\u001b[0m\u001b[0;34m=\u001b[0m\u001b[0mattrs\u001b[0m\u001b[0;34m,\u001b[0m\u001b[0;34m\u001b[0m\u001b[0;34m\u001b[0m\u001b[0m\n\u001b[0;32m--> 598\u001b[0;31m               ctx=ctx)\n\u001b[0m\u001b[1;32m    599\u001b[0m         \u001b[0;32melse\u001b[0m\u001b[0;34m:\u001b[0m\u001b[0;34m\u001b[0m\u001b[0;34m\u001b[0m\u001b[0m\n\u001b[1;32m    600\u001b[0m           outputs = execute.execute_with_cancellation(\n",
            "\u001b[0;32m/usr/local/lib/python3.6/dist-packages/tensorflow/python/eager/execute.py\u001b[0m in \u001b[0;36mquick_execute\u001b[0;34m(op_name, num_outputs, inputs, attrs, ctx, name)\u001b[0m\n\u001b[1;32m     58\u001b[0m     \u001b[0mctx\u001b[0m\u001b[0;34m.\u001b[0m\u001b[0mensure_initialized\u001b[0m\u001b[0;34m(\u001b[0m\u001b[0;34m)\u001b[0m\u001b[0;34m\u001b[0m\u001b[0;34m\u001b[0m\u001b[0m\n\u001b[1;32m     59\u001b[0m     tensors = pywrap_tfe.TFE_Py_Execute(ctx._handle, device_name, op_name,\n\u001b[0;32m---> 60\u001b[0;31m                                         inputs, attrs, num_outputs)\n\u001b[0m\u001b[1;32m     61\u001b[0m   \u001b[0;32mexcept\u001b[0m \u001b[0mcore\u001b[0m\u001b[0;34m.\u001b[0m\u001b[0m_NotOkStatusException\u001b[0m \u001b[0;32mas\u001b[0m \u001b[0me\u001b[0m\u001b[0;34m:\u001b[0m\u001b[0;34m\u001b[0m\u001b[0;34m\u001b[0m\u001b[0m\n\u001b[1;32m     62\u001b[0m     \u001b[0;32mif\u001b[0m \u001b[0mname\u001b[0m \u001b[0;32mis\u001b[0m \u001b[0;32mnot\u001b[0m \u001b[0;32mNone\u001b[0m\u001b[0;34m:\u001b[0m\u001b[0;34m\u001b[0m\u001b[0;34m\u001b[0m\u001b[0m\n",
            "\u001b[0;31mKeyboardInterrupt\u001b[0m: "
          ]
        }
      ]
    },
    {
      "cell_type": "markdown",
      "metadata": {
        "id": "jq4eLtDr0rnZ",
        "colab_type": "text"
      },
      "source": [
        "You can see that the added layer does improve the\n",
        "results a bit, though not significantly. You can draw two conclusions:\n",
        " Because you’re still not overfitting too badly, you could safely increase the size of\n",
        "your layers in a quest for validation-loss improvement. This has a non-negligible\n",
        "computational cost, though.\n",
        " Adding a layer didn’t help by a significant factor, so you may be seeing diminishing\n",
        "returns from increasing network capacity at this point."
      ]
    },
    {
      "cell_type": "markdown",
      "metadata": {
        "id": "DEMmL9B306Xc",
        "colab_type": "text"
      },
      "source": [
        "## Using bidirectional RNNs"
      ]
    },
    {
      "cell_type": "markdown",
      "metadata": {
        "id": "Fcp-k0ioPdhN",
        "colab_type": "text"
      },
      "source": [
        "Remarkably, the fact that the RNN layers in this section have processed sequences in\n",
        "chronological order (older timesteps first) may have been an arbitrary decision. At least,\n",
        "it’s a decision we made no attempt to question so far. Could the RNNs have performed\n",
        "well enough if they processed input sequences in antichronological order, for instance\n",
        "(newer timesteps first)? Let’s try this in practice and see what happens. All you need to\n",
        "do is write a variant of the data generator where the input sequences are reverted along\n",
        "the time dimension (replace the last line with yield samples[:, ::-1, :], targets).\n",
        "Training the same one-GRU-layer network that you used in the first experiment in this\n",
        "section, you get the results shown in figure 6.24.\n",
        "\n",
        "The reversed-order GRU strongly underperforms even the common-sense baseline,\n",
        "indicating that in this case, chronological processing is important to the success of your\n",
        "approach. This makes perfect sense: the underlying GRU layer will typically be better at\n",
        "remembering the recent past than the distant past, and naturally the more recent\n",
        "weather data points are more predictive than older data points for the problem (that’s\n",
        "what makes the common-sense baseline fairly strong). Thus the chronological version\n",
        "of the layer is bound to outperform the reversed-order version. Importantly, this isn’t\n",
        "true for many other problems, including natural language: intuitively, the importance\n",
        "of a word in understanding a sentence isn’t usually dependent on its position in the sentence.\n",
        "Let’s try the same trick on the LSTM IMDB"
      ]
    },
    {
      "cell_type": "markdown",
      "metadata": {
        "id": "XqNFTqmoP_wu",
        "colab_type": "text"
      },
      "source": [
        "### imdb training on words in sentences in reverse order"
      ]
    },
    {
      "cell_type": "code",
      "metadata": {
        "id": "pNd_zPIwPd5K",
        "colab_type": "code",
        "colab": {
          "base_uri": "https://localhost:8080/",
          "height": 479
        },
        "outputId": "122276b0-367a-43b2-9324-9a6aa7623140"
      },
      "source": [
        "from keras.datasets import imdb\n",
        "from keras.preprocessing import sequence\n",
        "from keras import layers\n",
        "from keras.models import Sequential\n",
        "max_features = 10000\n",
        "maxlen = 500\n",
        "(x_train, y_train), (x_test, y_test) = imdb.load_data(num_words=max_features)\n",
        "x_train = [x[::-1] for x in x_train]\n",
        "x_test = [x[::-1] for x in x_test]\n",
        "x_train = sequence.pad_sequences(x_train, maxlen=maxlen)\n",
        "x_test = sequence.pad_sequences(x_test, maxlen=maxlen)\n",
        "model = Sequential()\n",
        "model.add(layers.Embedding(max_features, 128))\n",
        "model.add(layers.LSTM(32))\n",
        "model.add(layers.Dense(1, activation='sigmoid'))\n",
        "model.compile(optimizer='rmsprop',loss='binary_crossentropy',metrics=['acc'])\n",
        "\n",
        "history = model.fit(x_train, y_train,epochs=10,batch_size=128,validation_split=0.2)\n",
        "\n"
      ],
      "execution_count": null,
      "outputs": [
        {
          "output_type": "stream",
          "text": [
            "Using TensorFlow backend.\n"
          ],
          "name": "stderr"
        },
        {
          "output_type": "stream",
          "text": [
            "Downloading data from https://s3.amazonaws.com/text-datasets/imdb.npz\n",
            "17465344/17464789 [==============================] - 0s 0us/step\n"
          ],
          "name": "stdout"
        },
        {
          "output_type": "stream",
          "text": [
            "/usr/local/lib/python3.6/dist-packages/tensorflow/python/framework/indexed_slices.py:434: UserWarning: Converting sparse IndexedSlices to a dense Tensor of unknown shape. This may consume a large amount of memory.\n",
            "  \"Converting sparse IndexedSlices to a dense Tensor of unknown shape. \"\n"
          ],
          "name": "stderr"
        },
        {
          "output_type": "stream",
          "text": [
            "Train on 20000 samples, validate on 5000 samples\n",
            "Epoch 1/10\n",
            "20000/20000 [==============================] - 89s 4ms/step - loss: 0.4818 - acc: 0.7678 - val_loss: 0.3257 - val_acc: 0.8748\n",
            "Epoch 2/10\n",
            "20000/20000 [==============================] - 89s 4ms/step - loss: 0.3073 - acc: 0.8827 - val_loss: 0.3058 - val_acc: 0.8860\n",
            "Epoch 3/10\n",
            "20000/20000 [==============================] - 93s 5ms/step - loss: 0.2577 - acc: 0.9057 - val_loss: 0.3260 - val_acc: 0.8708\n",
            "Epoch 4/10\n",
            "20000/20000 [==============================] - 95s 5ms/step - loss: 0.2231 - acc: 0.9185 - val_loss: 0.3825 - val_acc: 0.8448\n",
            "Epoch 5/10\n",
            "20000/20000 [==============================] - 92s 5ms/step - loss: 0.1908 - acc: 0.9355 - val_loss: 0.6360 - val_acc: 0.8010\n",
            "Epoch 6/10\n",
            "20000/20000 [==============================] - 92s 5ms/step - loss: 0.1744 - acc: 0.9386 - val_loss: 0.3437 - val_acc: 0.8800\n",
            "Epoch 7/10\n",
            "20000/20000 [==============================] - 93s 5ms/step - loss: 0.1549 - acc: 0.9453 - val_loss: 0.3542 - val_acc: 0.8758\n",
            "Epoch 8/10\n",
            "20000/20000 [==============================] - 93s 5ms/step - loss: 0.1373 - acc: 0.9527 - val_loss: 0.4074 - val_acc: 0.8704\n",
            "Epoch 9/10\n",
            "20000/20000 [==============================] - 95s 5ms/step - loss: 0.1299 - acc: 0.9569 - val_loss: 0.5232 - val_acc: 0.8492\n",
            "Epoch 10/10\n",
            "20000/20000 [==============================] - 93s 5ms/step - loss: 0.1175 - acc: 0.9603 - val_loss: 0.4010 - val_acc: 0.8716\n"
          ],
          "name": "stdout"
        }
      ]
    },
    {
      "cell_type": "markdown",
      "metadata": {
        "id": "MaHmKoUjO8tP",
        "colab_type": "text"
      },
      "source": [
        "Importantly, an\n",
        "RNN trained on reversed sequences will learn different representations than one\n",
        "trained on the original sequences, much as you would have different mental models if\n",
        "time flowed backward in the real world—if you lived a life where you died on your first\n",
        "day and were born on your last day. In machine learning, representations that are different\n",
        "yet useful are always worth exploiting, and the more they differ, the better: they\n",
        "offer a new angle from which to look at your data, capturing aspects of the data that\n",
        "were missed by other approaches, and thus they can help boost performance on a\n",
        "task. This is the intuition behind ensembling, a concept we’ll explore in chapter 7.\n",
        "A bidirectional RNN exploits this idea to improve on the performance of chronologicalorder\n",
        "RNNs. It looks at its input sequence both ways (see figure 6.25), obtaining potentially\n",
        "richer representations and capturing patterns that may have been missed by the\n",
        "chronological-order version alone."
      ]
    },
    {
      "cell_type": "markdown",
      "metadata": {
        "id": "-IbRQTyuPIl2",
        "colab_type": "text"
      },
      "source": [
        "To instantiate a bidirectional RNN in Keras, you use the Bidirectional layer, which takes\n",
        "as its first argument a recurrent layer instance. Bidirectional creates a second, separate\n",
        "instance of this recurrent layer and uses one instance for processing the input sequences\n",
        "in chronological order and the other instance for processing the input sequences in\n",
        "reversed order. Let’s try it on the IMDB sentiment-analysis task."
      ]
    },
    {
      "cell_type": "markdown",
      "metadata": {
        "id": "JzzP-DncPK22",
        "colab_type": "text"
      },
      "source": [
        "### Training and evaluating a bidirectional LSTM fro imdb"
      ]
    },
    {
      "cell_type": "code",
      "metadata": {
        "id": "2T5Og3Xa0sNo",
        "colab_type": "code",
        "colab": {
          "base_uri": "https://localhost:8080/",
          "height": 428
        },
        "outputId": "17ec6299-78f3-410b-e5c2-82624babe5e2"
      },
      "source": [
        "model = Sequential()\n",
        "model.add(layers.Embedding(max_features, 32))\n",
        "model.add(layers.Bidirectional(layers.LSTM(32)))\n",
        "model.add(layers.Dense(1, activation='sigmoid'))\n",
        "model.compile(optimizer='rmsprop', loss='binary_crossentropy', metrics=['acc'])\n",
        "history = model.fit(x_train, y_train,\n",
        "                    epochs=10,\n",
        "                    batch_size=128,\n",
        "                    validation_split=0.2)"
      ],
      "execution_count": null,
      "outputs": [
        {
          "output_type": "stream",
          "text": [
            "/usr/local/lib/python3.6/dist-packages/tensorflow/python/framework/indexed_slices.py:434: UserWarning: Converting sparse IndexedSlices to a dense Tensor of unknown shape. This may consume a large amount of memory.\n",
            "  \"Converting sparse IndexedSlices to a dense Tensor of unknown shape. \"\n"
          ],
          "name": "stderr"
        },
        {
          "output_type": "stream",
          "text": [
            "Train on 20000 samples, validate on 5000 samples\n",
            "Epoch 1/10\n",
            "20000/20000 [==============================] - 123s 6ms/step - loss: 0.5651 - acc: 0.7132 - val_loss: 0.7149 - val_acc: 0.7346\n",
            "Epoch 2/10\n",
            "20000/20000 [==============================] - 123s 6ms/step - loss: 0.3634 - acc: 0.8565 - val_loss: 0.5857 - val_acc: 0.7938\n",
            "Epoch 3/10\n",
            "20000/20000 [==============================] - 122s 6ms/step - loss: 0.2774 - acc: 0.8956 - val_loss: 0.2970 - val_acc: 0.8858\n",
            "Epoch 4/10\n",
            "20000/20000 [==============================] - 122s 6ms/step - loss: 0.2388 - acc: 0.9151 - val_loss: 0.3859 - val_acc: 0.8686\n",
            "Epoch 5/10\n",
            "20000/20000 [==============================] - 122s 6ms/step - loss: 0.2128 - acc: 0.9268 - val_loss: 0.3062 - val_acc: 0.8814\n",
            "Epoch 6/10\n",
            "20000/20000 [==============================] - 122s 6ms/step - loss: 0.1862 - acc: 0.9354 - val_loss: 0.3152 - val_acc: 0.8870\n",
            "Epoch 7/10\n",
            "20000/20000 [==============================] - 122s 6ms/step - loss: 0.1708 - acc: 0.9398 - val_loss: 0.5289 - val_acc: 0.8358\n",
            "Epoch 8/10\n",
            "20000/20000 [==============================] - 122s 6ms/step - loss: 0.1580 - acc: 0.9470 - val_loss: 0.3665 - val_acc: 0.8724\n",
            "Epoch 9/10\n",
            "20000/20000 [==============================] - 122s 6ms/step - loss: 0.1446 - acc: 0.9507 - val_loss: 0.3744 - val_acc: 0.8844\n",
            "Epoch 10/10\n",
            "20000/20000 [==============================] - 123s 6ms/step - loss: 0.1359 - acc: 0.9547 - val_loss: 0.3988 - val_acc: 0.8826\n"
          ],
          "name": "stdout"
        }
      ]
    },
    {
      "cell_type": "markdown",
      "metadata": {
        "id": "rEh8XL18cXPY",
        "colab_type": "text"
      },
      "source": [
        "### Training bidirectional GRU for Weather forecast"
      ]
    },
    {
      "cell_type": "code",
      "metadata": {
        "id": "eC9XoxJocWVC",
        "colab_type": "code",
        "colab": {
          "base_uri": "https://localhost:8080/",
          "height": 851
        },
        "outputId": "c8a3f744-e2ba-41ee-d9c3-eb42a091457a"
      },
      "source": [
        "from keras.models import Sequential\n",
        "from keras import layers\n",
        "from keras.optimizers import RMSprop\n",
        "model = Sequential()\n",
        "model.add(layers.Bidirectional(layers.GRU(32), input_shape=(None, float_data.shape[-1])))\n",
        "model.add(layers.Dense(1))\n",
        "model.compile(optimizer=RMSprop(), loss='mae')\n",
        "history = model.fit_generator(train_gen, steps_per_epoch=500, epochs=40, validation_data=val_gen, validation_steps=val_steps/100)"
      ],
      "execution_count": null,
      "outputs": [
        {
          "output_type": "stream",
          "text": [
            "Epoch 1/40\n",
            "500/500 [==============================] - 111s 221ms/step - loss: 0.2928 - val_loss: 0.2541\n",
            "Epoch 2/40\n",
            "500/500 [==============================] - 109s 218ms/step - loss: 0.2741 - val_loss: 0.2548\n",
            "Epoch 3/40\n",
            "500/500 [==============================] - 110s 220ms/step - loss: 0.2674 - val_loss: 0.2635\n",
            "Epoch 4/40\n",
            "500/500 [==============================] - 108s 217ms/step - loss: 0.2621 - val_loss: 0.2788\n",
            "Epoch 5/40\n",
            "500/500 [==============================] - 108s 217ms/step - loss: 0.2574 - val_loss: 0.2632\n",
            "Epoch 6/40\n",
            "500/500 [==============================] - 108s 216ms/step - loss: 0.2526 - val_loss: 0.3095\n",
            "Epoch 7/40\n",
            "500/500 [==============================] - 108s 215ms/step - loss: 0.2451 - val_loss: 0.2853\n",
            "Epoch 8/40\n",
            "500/500 [==============================] - 108s 216ms/step - loss: 0.2385 - val_loss: 0.3109\n",
            "Epoch 9/40\n",
            "500/500 [==============================] - 108s 215ms/step - loss: 0.2325 - val_loss: 0.2657\n",
            "Epoch 10/40\n",
            "500/500 [==============================] - 108s 216ms/step - loss: 0.2257 - val_loss: 0.3049\n",
            "Epoch 11/40\n",
            "500/500 [==============================] - 109s 218ms/step - loss: 0.2201 - val_loss: 0.2711\n",
            "Epoch 12/40\n",
            "500/500 [==============================] - 110s 220ms/step - loss: 0.2143 - val_loss: 0.3429\n",
            "Epoch 13/40\n",
            "500/500 [==============================] - 110s 220ms/step - loss: 0.2100 - val_loss: 0.2896\n",
            "Epoch 14/40\n",
            "500/500 [==============================] - 109s 218ms/step - loss: 0.2049 - val_loss: 0.3039\n",
            "Epoch 15/40\n",
            "415/500 [=======================>......] - ETA: 14s - loss: 0.1990"
          ],
          "name": "stdout"
        },
        {
          "output_type": "error",
          "ename": "KeyboardInterrupt",
          "evalue": "ignored",
          "traceback": [
            "\u001b[0;31m---------------------------------------------------------------------------\u001b[0m",
            "\u001b[0;31mKeyboardInterrupt\u001b[0m                         Traceback (most recent call last)",
            "\u001b[0;32m<ipython-input-19-22a5ba3a18e6>\u001b[0m in \u001b[0;36m<module>\u001b[0;34m()\u001b[0m\n\u001b[1;32m      6\u001b[0m \u001b[0mmodel\u001b[0m\u001b[0;34m.\u001b[0m\u001b[0madd\u001b[0m\u001b[0;34m(\u001b[0m\u001b[0mlayers\u001b[0m\u001b[0;34m.\u001b[0m\u001b[0mDense\u001b[0m\u001b[0;34m(\u001b[0m\u001b[0;36m1\u001b[0m\u001b[0;34m)\u001b[0m\u001b[0;34m)\u001b[0m\u001b[0;34m\u001b[0m\u001b[0;34m\u001b[0m\u001b[0m\n\u001b[1;32m      7\u001b[0m \u001b[0mmodel\u001b[0m\u001b[0;34m.\u001b[0m\u001b[0mcompile\u001b[0m\u001b[0;34m(\u001b[0m\u001b[0moptimizer\u001b[0m\u001b[0;34m=\u001b[0m\u001b[0mRMSprop\u001b[0m\u001b[0;34m(\u001b[0m\u001b[0;34m)\u001b[0m\u001b[0;34m,\u001b[0m \u001b[0mloss\u001b[0m\u001b[0;34m=\u001b[0m\u001b[0;34m'mae'\u001b[0m\u001b[0;34m)\u001b[0m\u001b[0;34m\u001b[0m\u001b[0;34m\u001b[0m\u001b[0m\n\u001b[0;32m----> 8\u001b[0;31m \u001b[0mhistory\u001b[0m \u001b[0;34m=\u001b[0m \u001b[0mmodel\u001b[0m\u001b[0;34m.\u001b[0m\u001b[0mfit_generator\u001b[0m\u001b[0;34m(\u001b[0m\u001b[0mtrain_gen\u001b[0m\u001b[0;34m,\u001b[0m \u001b[0msteps_per_epoch\u001b[0m\u001b[0;34m=\u001b[0m\u001b[0;36m500\u001b[0m\u001b[0;34m,\u001b[0m \u001b[0mepochs\u001b[0m\u001b[0;34m=\u001b[0m\u001b[0;36m40\u001b[0m\u001b[0;34m,\u001b[0m \u001b[0mvalidation_data\u001b[0m\u001b[0;34m=\u001b[0m\u001b[0mval_gen\u001b[0m\u001b[0;34m,\u001b[0m \u001b[0mvalidation_steps\u001b[0m\u001b[0;34m=\u001b[0m\u001b[0mval_steps\u001b[0m\u001b[0;34m/\u001b[0m\u001b[0;36m100\u001b[0m\u001b[0;34m)\u001b[0m\u001b[0;34m\u001b[0m\u001b[0;34m\u001b[0m\u001b[0m\n\u001b[0m",
            "\u001b[0;32m/usr/local/lib/python3.6/dist-packages/keras/legacy/interfaces.py\u001b[0m in \u001b[0;36mwrapper\u001b[0;34m(*args, **kwargs)\u001b[0m\n\u001b[1;32m     89\u001b[0m                 warnings.warn('Update your `' + object_name + '` call to the ' +\n\u001b[1;32m     90\u001b[0m                               'Keras 2 API: ' + signature, stacklevel=2)\n\u001b[0;32m---> 91\u001b[0;31m             \u001b[0;32mreturn\u001b[0m \u001b[0mfunc\u001b[0m\u001b[0;34m(\u001b[0m\u001b[0;34m*\u001b[0m\u001b[0margs\u001b[0m\u001b[0;34m,\u001b[0m \u001b[0;34m**\u001b[0m\u001b[0mkwargs\u001b[0m\u001b[0;34m)\u001b[0m\u001b[0;34m\u001b[0m\u001b[0;34m\u001b[0m\u001b[0m\n\u001b[0m\u001b[1;32m     92\u001b[0m         \u001b[0mwrapper\u001b[0m\u001b[0;34m.\u001b[0m\u001b[0m_original_function\u001b[0m \u001b[0;34m=\u001b[0m \u001b[0mfunc\u001b[0m\u001b[0;34m\u001b[0m\u001b[0;34m\u001b[0m\u001b[0m\n\u001b[1;32m     93\u001b[0m         \u001b[0;32mreturn\u001b[0m \u001b[0mwrapper\u001b[0m\u001b[0;34m\u001b[0m\u001b[0;34m\u001b[0m\u001b[0m\n",
            "\u001b[0;32m/usr/local/lib/python3.6/dist-packages/keras/engine/training.py\u001b[0m in \u001b[0;36mfit_generator\u001b[0;34m(self, generator, steps_per_epoch, epochs, verbose, callbacks, validation_data, validation_steps, validation_freq, class_weight, max_queue_size, workers, use_multiprocessing, shuffle, initial_epoch)\u001b[0m\n\u001b[1;32m   1730\u001b[0m             \u001b[0muse_multiprocessing\u001b[0m\u001b[0;34m=\u001b[0m\u001b[0muse_multiprocessing\u001b[0m\u001b[0;34m,\u001b[0m\u001b[0;34m\u001b[0m\u001b[0;34m\u001b[0m\u001b[0m\n\u001b[1;32m   1731\u001b[0m             \u001b[0mshuffle\u001b[0m\u001b[0;34m=\u001b[0m\u001b[0mshuffle\u001b[0m\u001b[0;34m,\u001b[0m\u001b[0;34m\u001b[0m\u001b[0;34m\u001b[0m\u001b[0m\n\u001b[0;32m-> 1732\u001b[0;31m             initial_epoch=initial_epoch)\n\u001b[0m\u001b[1;32m   1733\u001b[0m \u001b[0;34m\u001b[0m\u001b[0m\n\u001b[1;32m   1734\u001b[0m     \u001b[0;34m@\u001b[0m\u001b[0minterfaces\u001b[0m\u001b[0;34m.\u001b[0m\u001b[0mlegacy_generator_methods_support\u001b[0m\u001b[0;34m\u001b[0m\u001b[0;34m\u001b[0m\u001b[0m\n",
            "\u001b[0;32m/usr/local/lib/python3.6/dist-packages/keras/engine/training_generator.py\u001b[0m in \u001b[0;36mfit_generator\u001b[0;34m(model, generator, steps_per_epoch, epochs, verbose, callbacks, validation_data, validation_steps, validation_freq, class_weight, max_queue_size, workers, use_multiprocessing, shuffle, initial_epoch)\u001b[0m\n\u001b[1;32m    218\u001b[0m                                             \u001b[0msample_weight\u001b[0m\u001b[0;34m=\u001b[0m\u001b[0msample_weight\u001b[0m\u001b[0;34m,\u001b[0m\u001b[0;34m\u001b[0m\u001b[0;34m\u001b[0m\u001b[0m\n\u001b[1;32m    219\u001b[0m                                             \u001b[0mclass_weight\u001b[0m\u001b[0;34m=\u001b[0m\u001b[0mclass_weight\u001b[0m\u001b[0;34m,\u001b[0m\u001b[0;34m\u001b[0m\u001b[0;34m\u001b[0m\u001b[0m\n\u001b[0;32m--> 220\u001b[0;31m                                             reset_metrics=False)\n\u001b[0m\u001b[1;32m    221\u001b[0m \u001b[0;34m\u001b[0m\u001b[0m\n\u001b[1;32m    222\u001b[0m                 \u001b[0mouts\u001b[0m \u001b[0;34m=\u001b[0m \u001b[0mto_list\u001b[0m\u001b[0;34m(\u001b[0m\u001b[0mouts\u001b[0m\u001b[0;34m)\u001b[0m\u001b[0;34m\u001b[0m\u001b[0;34m\u001b[0m\u001b[0m\n",
            "\u001b[0;32m/usr/local/lib/python3.6/dist-packages/keras/engine/training.py\u001b[0m in \u001b[0;36mtrain_on_batch\u001b[0;34m(self, x, y, sample_weight, class_weight, reset_metrics)\u001b[0m\n\u001b[1;32m   1512\u001b[0m             \u001b[0mins\u001b[0m \u001b[0;34m=\u001b[0m \u001b[0mx\u001b[0m \u001b[0;34m+\u001b[0m \u001b[0my\u001b[0m \u001b[0;34m+\u001b[0m \u001b[0msample_weights\u001b[0m\u001b[0;34m\u001b[0m\u001b[0;34m\u001b[0m\u001b[0m\n\u001b[1;32m   1513\u001b[0m         \u001b[0mself\u001b[0m\u001b[0;34m.\u001b[0m\u001b[0m_make_train_function\u001b[0m\u001b[0;34m(\u001b[0m\u001b[0;34m)\u001b[0m\u001b[0;34m\u001b[0m\u001b[0;34m\u001b[0m\u001b[0m\n\u001b[0;32m-> 1514\u001b[0;31m         \u001b[0moutputs\u001b[0m \u001b[0;34m=\u001b[0m \u001b[0mself\u001b[0m\u001b[0;34m.\u001b[0m\u001b[0mtrain_function\u001b[0m\u001b[0;34m(\u001b[0m\u001b[0mins\u001b[0m\u001b[0;34m)\u001b[0m\u001b[0;34m\u001b[0m\u001b[0;34m\u001b[0m\u001b[0m\n\u001b[0m\u001b[1;32m   1515\u001b[0m \u001b[0;34m\u001b[0m\u001b[0m\n\u001b[1;32m   1516\u001b[0m         \u001b[0;32mif\u001b[0m \u001b[0mreset_metrics\u001b[0m\u001b[0;34m:\u001b[0m\u001b[0;34m\u001b[0m\u001b[0;34m\u001b[0m\u001b[0m\n",
            "\u001b[0;32m/usr/local/lib/python3.6/dist-packages/tensorflow/python/keras/backend.py\u001b[0m in \u001b[0;36m__call__\u001b[0;34m(self, inputs)\u001b[0m\n\u001b[1;32m   3790\u001b[0m         \u001b[0mvalue\u001b[0m \u001b[0;34m=\u001b[0m \u001b[0mmath_ops\u001b[0m\u001b[0;34m.\u001b[0m\u001b[0mcast\u001b[0m\u001b[0;34m(\u001b[0m\u001b[0mvalue\u001b[0m\u001b[0;34m,\u001b[0m \u001b[0mtensor\u001b[0m\u001b[0;34m.\u001b[0m\u001b[0mdtype\u001b[0m\u001b[0;34m)\u001b[0m\u001b[0;34m\u001b[0m\u001b[0;34m\u001b[0m\u001b[0m\n\u001b[1;32m   3791\u001b[0m       \u001b[0mconverted_inputs\u001b[0m\u001b[0;34m.\u001b[0m\u001b[0mappend\u001b[0m\u001b[0;34m(\u001b[0m\u001b[0mvalue\u001b[0m\u001b[0;34m)\u001b[0m\u001b[0;34m\u001b[0m\u001b[0;34m\u001b[0m\u001b[0m\n\u001b[0;32m-> 3792\u001b[0;31m     \u001b[0moutputs\u001b[0m \u001b[0;34m=\u001b[0m \u001b[0mself\u001b[0m\u001b[0;34m.\u001b[0m\u001b[0m_graph_fn\u001b[0m\u001b[0;34m(\u001b[0m\u001b[0;34m*\u001b[0m\u001b[0mconverted_inputs\u001b[0m\u001b[0;34m)\u001b[0m\u001b[0;34m\u001b[0m\u001b[0;34m\u001b[0m\u001b[0m\n\u001b[0m\u001b[1;32m   3793\u001b[0m \u001b[0;34m\u001b[0m\u001b[0m\n\u001b[1;32m   3794\u001b[0m     \u001b[0;31m# EagerTensor.numpy() will often make a copy to ensure memory safety.\u001b[0m\u001b[0;34m\u001b[0m\u001b[0;34m\u001b[0m\u001b[0;34m\u001b[0m\u001b[0m\n",
            "\u001b[0;32m/usr/local/lib/python3.6/dist-packages/tensorflow/python/eager/function.py\u001b[0m in \u001b[0;36m__call__\u001b[0;34m(self, *args, **kwargs)\u001b[0m\n\u001b[1;32m   1603\u001b[0m       \u001b[0mTypeError\u001b[0m\u001b[0;34m:\u001b[0m \u001b[0mFor\u001b[0m \u001b[0minvalid\u001b[0m \u001b[0mpositional\u001b[0m\u001b[0;34m/\u001b[0m\u001b[0mkeyword\u001b[0m \u001b[0margument\u001b[0m \u001b[0mcombinations\u001b[0m\u001b[0;34m.\u001b[0m\u001b[0;34m\u001b[0m\u001b[0;34m\u001b[0m\u001b[0m\n\u001b[1;32m   1604\u001b[0m     \"\"\"\n\u001b[0;32m-> 1605\u001b[0;31m     \u001b[0;32mreturn\u001b[0m \u001b[0mself\u001b[0m\u001b[0;34m.\u001b[0m\u001b[0m_call_impl\u001b[0m\u001b[0;34m(\u001b[0m\u001b[0margs\u001b[0m\u001b[0;34m,\u001b[0m \u001b[0mkwargs\u001b[0m\u001b[0;34m)\u001b[0m\u001b[0;34m\u001b[0m\u001b[0;34m\u001b[0m\u001b[0m\n\u001b[0m\u001b[1;32m   1606\u001b[0m \u001b[0;34m\u001b[0m\u001b[0m\n\u001b[1;32m   1607\u001b[0m   \u001b[0;32mdef\u001b[0m \u001b[0m_call_impl\u001b[0m\u001b[0;34m(\u001b[0m\u001b[0mself\u001b[0m\u001b[0;34m,\u001b[0m \u001b[0margs\u001b[0m\u001b[0;34m,\u001b[0m \u001b[0mkwargs\u001b[0m\u001b[0;34m,\u001b[0m \u001b[0mcancellation_manager\u001b[0m\u001b[0;34m=\u001b[0m\u001b[0;32mNone\u001b[0m\u001b[0;34m)\u001b[0m\u001b[0;34m:\u001b[0m\u001b[0;34m\u001b[0m\u001b[0;34m\u001b[0m\u001b[0m\n",
            "\u001b[0;32m/usr/local/lib/python3.6/dist-packages/tensorflow/python/eager/function.py\u001b[0m in \u001b[0;36m_call_impl\u001b[0;34m(self, args, kwargs, cancellation_manager)\u001b[0m\n\u001b[1;32m   1643\u001b[0m       raise TypeError(\"Keyword arguments {} unknown. Expected {}.\".format(\n\u001b[1;32m   1644\u001b[0m           list(kwargs.keys()), list(self._arg_keywords)))\n\u001b[0;32m-> 1645\u001b[0;31m     \u001b[0;32mreturn\u001b[0m \u001b[0mself\u001b[0m\u001b[0;34m.\u001b[0m\u001b[0m_call_flat\u001b[0m\u001b[0;34m(\u001b[0m\u001b[0margs\u001b[0m\u001b[0;34m,\u001b[0m \u001b[0mself\u001b[0m\u001b[0;34m.\u001b[0m\u001b[0mcaptured_inputs\u001b[0m\u001b[0;34m,\u001b[0m \u001b[0mcancellation_manager\u001b[0m\u001b[0;34m)\u001b[0m\u001b[0;34m\u001b[0m\u001b[0;34m\u001b[0m\u001b[0m\n\u001b[0m\u001b[1;32m   1646\u001b[0m \u001b[0;34m\u001b[0m\u001b[0m\n\u001b[1;32m   1647\u001b[0m   \u001b[0;32mdef\u001b[0m \u001b[0m_filtered_call\u001b[0m\u001b[0;34m(\u001b[0m\u001b[0mself\u001b[0m\u001b[0;34m,\u001b[0m \u001b[0margs\u001b[0m\u001b[0;34m,\u001b[0m \u001b[0mkwargs\u001b[0m\u001b[0;34m)\u001b[0m\u001b[0;34m:\u001b[0m\u001b[0;34m\u001b[0m\u001b[0;34m\u001b[0m\u001b[0m\n",
            "\u001b[0;32m/usr/local/lib/python3.6/dist-packages/tensorflow/python/eager/function.py\u001b[0m in \u001b[0;36m_call_flat\u001b[0;34m(self, args, captured_inputs, cancellation_manager)\u001b[0m\n\u001b[1;32m   1744\u001b[0m       \u001b[0;31m# No tape is watching; skip to running the function.\u001b[0m\u001b[0;34m\u001b[0m\u001b[0;34m\u001b[0m\u001b[0;34m\u001b[0m\u001b[0m\n\u001b[1;32m   1745\u001b[0m       return self._build_call_outputs(self._inference_function.call(\n\u001b[0;32m-> 1746\u001b[0;31m           ctx, args, cancellation_manager=cancellation_manager))\n\u001b[0m\u001b[1;32m   1747\u001b[0m     forward_backward = self._select_forward_and_backward_functions(\n\u001b[1;32m   1748\u001b[0m         \u001b[0margs\u001b[0m\u001b[0;34m,\u001b[0m\u001b[0;34m\u001b[0m\u001b[0;34m\u001b[0m\u001b[0m\n",
            "\u001b[0;32m/usr/local/lib/python3.6/dist-packages/tensorflow/python/eager/function.py\u001b[0m in \u001b[0;36mcall\u001b[0;34m(self, ctx, args, cancellation_manager)\u001b[0m\n\u001b[1;32m    596\u001b[0m               \u001b[0minputs\u001b[0m\u001b[0;34m=\u001b[0m\u001b[0margs\u001b[0m\u001b[0;34m,\u001b[0m\u001b[0;34m\u001b[0m\u001b[0;34m\u001b[0m\u001b[0m\n\u001b[1;32m    597\u001b[0m               \u001b[0mattrs\u001b[0m\u001b[0;34m=\u001b[0m\u001b[0mattrs\u001b[0m\u001b[0;34m,\u001b[0m\u001b[0;34m\u001b[0m\u001b[0;34m\u001b[0m\u001b[0m\n\u001b[0;32m--> 598\u001b[0;31m               ctx=ctx)\n\u001b[0m\u001b[1;32m    599\u001b[0m         \u001b[0;32melse\u001b[0m\u001b[0;34m:\u001b[0m\u001b[0;34m\u001b[0m\u001b[0;34m\u001b[0m\u001b[0m\n\u001b[1;32m    600\u001b[0m           outputs = execute.execute_with_cancellation(\n",
            "\u001b[0;32m/usr/local/lib/python3.6/dist-packages/tensorflow/python/eager/execute.py\u001b[0m in \u001b[0;36mquick_execute\u001b[0;34m(op_name, num_outputs, inputs, attrs, ctx, name)\u001b[0m\n\u001b[1;32m     58\u001b[0m     \u001b[0mctx\u001b[0m\u001b[0;34m.\u001b[0m\u001b[0mensure_initialized\u001b[0m\u001b[0;34m(\u001b[0m\u001b[0;34m)\u001b[0m\u001b[0;34m\u001b[0m\u001b[0;34m\u001b[0m\u001b[0m\n\u001b[1;32m     59\u001b[0m     tensors = pywrap_tfe.TFE_Py_Execute(ctx._handle, device_name, op_name,\n\u001b[0;32m---> 60\u001b[0;31m                                         inputs, attrs, num_outputs)\n\u001b[0m\u001b[1;32m     61\u001b[0m   \u001b[0;32mexcept\u001b[0m \u001b[0mcore\u001b[0m\u001b[0;34m.\u001b[0m\u001b[0m_NotOkStatusException\u001b[0m \u001b[0;32mas\u001b[0m \u001b[0me\u001b[0m\u001b[0;34m:\u001b[0m\u001b[0;34m\u001b[0m\u001b[0;34m\u001b[0m\u001b[0m\n\u001b[1;32m     62\u001b[0m     \u001b[0;32mif\u001b[0m \u001b[0mname\u001b[0m \u001b[0;32mis\u001b[0m \u001b[0;32mnot\u001b[0m \u001b[0;32mNone\u001b[0m\u001b[0;34m:\u001b[0m\u001b[0;34m\u001b[0m\u001b[0;34m\u001b[0m\u001b[0m\n",
            "\u001b[0;31mKeyboardInterrupt\u001b[0m: "
          ]
        }
      ]
    },
    {
      "cell_type": "markdown",
      "metadata": {
        "id": "5741w4LscAN-",
        "colab_type": "text"
      },
      "source": [
        "# Summary:\n",
        "\n",
        " As you first learned in chapter 4, when approaching a new problem, it’s good to\n",
        "first establish common-sense baselines for your metric of choice. If you don’t\n",
        "have a baseline to beat, you can’t tell whether you’re making real progress.\n",
        " Try simple models before expensive ones, to justify the additional expense.\n",
        "Sometimes a simple model will turn out to be your best option.\n",
        " When you have data where temporal ordering matters, recurrent networks are\n",
        "a great fit and easily outperform models that first flatten the temporal data.\n",
        " To use dropout with recurrent networks, you should use a time-constant dropout\n",
        "mask and recurrent dropout mask. These are built into Keras recurrent layers,\n",
        "so all you have to do is use the dropout and recurrent_dropout arguments\n",
        "of recurrent layers.\n",
        " Stacked RNNs provide more representational power than a single RNN layer.\n",
        "They’re also much more expensive and thus not always worth it. Although they\n",
        "offer clear gains on complex problems (such as machine translation), they may\n",
        "not always be relevant to smaller, simpler problems.\n",
        " Bidirectional RNNs, which look at a sequence both ways, are useful on naturallanguage\n",
        "processing problems. But they aren’t strong performers on sequence\n",
        "data where the recent past is much more informative than the beginning of the\n",
        "sequence."
      ]
    },
    {
      "cell_type": "markdown",
      "metadata": {
        "id": "y057qMgX_fgb",
        "colab_type": "text"
      },
      "source": [
        "# "
      ]
    }
  ]
}