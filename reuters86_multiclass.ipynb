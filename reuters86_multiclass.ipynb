{
  "nbformat": 4,
  "nbformat_minor": 0,
  "metadata": {
    "colab": {
      "name": "reuters86_multiclass.ipynb",
      "provenance": [],
      "collapsed_sections": [],
      "toc_visible": true,
      "authorship_tag": "ABX9TyP2sN3YIzb086GHBynnCuAD",
      "include_colab_link": true
    },
    "kernelspec": {
      "name": "python3",
      "display_name": "Python 3"
    }
  },
  "cells": [
    {
      "cell_type": "markdown",
      "metadata": {
        "id": "view-in-github",
        "colab_type": "text"
      },
      "source": [
        "<a href=\"https://colab.research.google.com/github/Richish/deep_learning_with_python/blob/master/reuters86_multiclass.ipynb\" target=\"_parent\"><img src=\"https://colab.research.google.com/assets/colab-badge.svg\" alt=\"Open In Colab\"/></a>"
      ]
    },
    {
      "cell_type": "markdown",
      "metadata": {
        "id": "Ppy7EoTSDNOD",
        "colab_type": "text"
      },
      "source": [
        "# Load Data"
      ]
    },
    {
      "cell_type": "code",
      "metadata": {
        "id": "rlN3IvP6CtWT",
        "colab_type": "code",
        "colab": {}
      },
      "source": [
        "from keras.datasets import reuters\n",
        "num_words=10_000\n",
        "num_labels=46\n",
        "(train_data, train_labels), (test_data, test_labels)=reuters.load_data(num_words=num_words)"
      ],
      "execution_count": null,
      "outputs": []
    },
    {
      "cell_type": "code",
      "metadata": {
        "id": "ZMEQzqh7DYty",
        "colab_type": "code",
        "colab": {
          "base_uri": "https://localhost:8080/",
          "height": 34
        },
        "outputId": "c28808e7-c477-4b00-b938-cf76efb12f78"
      },
      "source": [
        "train_data.shape\n",
        "train_labels.shape\n",
        "len(train_data[0])"
      ],
      "execution_count": null,
      "outputs": [
        {
          "output_type": "execute_result",
          "data": {
            "text/plain": [
              "87"
            ]
          },
          "metadata": {
            "tags": []
          },
          "execution_count": 81
        }
      ]
    },
    {
      "cell_type": "markdown",
      "metadata": {
        "id": "lrLQgzIPDRev",
        "colab_type": "text"
      },
      "source": [
        ""
      ]
    },
    {
      "cell_type": "markdown",
      "metadata": {
        "id": "LyUbJwmODUHm",
        "colab_type": "text"
      },
      "source": [
        "# Transform data"
      ]
    },
    {
      "cell_type": "code",
      "metadata": {
        "id": "hdtd-CRLD8BA",
        "colab_type": "code",
        "colab": {}
      },
      "source": [
        "import numpy as np\n",
        "\n",
        "def vectorize_data(raw_data, dimension):\n",
        "  results=np.zeros(shape=(len(raw_data), dimension), dtype=float)\n",
        "  for i,record in enumerate(raw_data):\n",
        "    results[i, record]=1\n",
        "  return results\n",
        "x_train=vectorize_data(train_data, num_words)\n",
        "y_train=vectorize_data(train_labels, num_labels)\n",
        "x_test=vectorize_data(test_data, num_words)\n",
        "y_test=vectorize_data(test_labels, num_labels)\n"
      ],
      "execution_count": null,
      "outputs": []
    },
    {
      "cell_type": "code",
      "metadata": {
        "id": "GYC0RSxqGK-I",
        "colab_type": "code",
        "colab": {
          "base_uri": "https://localhost:8080/",
          "height": 34
        },
        "outputId": "0ae9a4da-ea07-4799-b023-b028104b4549"
      },
      "source": [
        "print(x_train.shape, y_train.shape, x_test.shape, y_test.shape)"
      ],
      "execution_count": null,
      "outputs": [
        {
          "output_type": "stream",
          "text": [
            "(8982, 10000) (8982, 46) (2246, 10000) (2246, 46)\n"
          ],
          "name": "stdout"
        }
      ]
    },
    {
      "cell_type": "markdown",
      "metadata": {
        "id": "NGgQG3phIIRh",
        "colab_type": "text"
      },
      "source": [
        "# Separate Cross validation"
      ]
    },
    {
      "cell_type": "code",
      "metadata": {
        "id": "DlwlAXBqIMbU",
        "colab_type": "code",
        "colab": {}
      },
      "source": [
        "cv_samples_count=int(x_train.shape[0]/3)\n",
        "cv_samples_count\n",
        "x_cv=x_train[cv_samples_count:]\n",
        "y_cv=y_train[cv_samples_count:]\n",
        "\n",
        "part_x_train=x_train[0:cv_samples_count]\n",
        "part_y_train=y_train[0:cv_samples_count]"
      ],
      "execution_count": null,
      "outputs": []
    },
    {
      "cell_type": "markdown",
      "metadata": {
        "id": "T84l4HsrGoEs",
        "colab_type": "text"
      },
      "source": [
        "# Create Model\n"
      ]
    },
    {
      "cell_type": "code",
      "metadata": {
        "id": "6miimMOWGqwC",
        "colab_type": "code",
        "colab": {}
      },
      "source": [
        "from keras import models, layers\n",
        "#model=models.Sequential()\n",
        "layer1=layers.Dense(units=64, activation=\"relu\", input_shape=(num_words,))\n",
        "layer2=layers.Dense(units=64, activation=\"relu\")\n",
        "layer3=layers.Dense(units=46, activation=\"softmax\")\n"
      ],
      "execution_count": null,
      "outputs": []
    },
    {
      "cell_type": "code",
      "metadata": {
        "id": "SKncP4umHxyT",
        "colab_type": "code",
        "colab": {}
      },
      "source": [
        "model=models.Sequential(layers=[layer1, layer2, layer3])"
      ],
      "execution_count": null,
      "outputs": []
    },
    {
      "cell_type": "markdown",
      "metadata": {
        "id": "efg_pzJfJ8iu",
        "colab_type": "text"
      },
      "source": [
        "# Compile model"
      ]
    },
    {
      "cell_type": "code",
      "metadata": {
        "id": "CcV0PPPvJ_Za",
        "colab_type": "code",
        "colab": {}
      },
      "source": [
        "model.compile(optimizer=\"rmsprop\", loss=\"categorical_crossentropy\", metrics=[\"accuracy\"])"
      ],
      "execution_count": null,
      "outputs": []
    },
    {
      "cell_type": "markdown",
      "metadata": {
        "id": "qDX9VzHVJE1L",
        "colab_type": "text"
      },
      "source": [
        "# Model fit"
      ]
    },
    {
      "cell_type": "code",
      "metadata": {
        "id": "ua_KtWLTJejt",
        "colab_type": "code",
        "colab": {
          "base_uri": "https://localhost:8080/",
          "height": 374
        },
        "outputId": "bfe99ec8-2e7a-40e6-e25b-49938a79acbe"
      },
      "source": [
        "history=model.fit(x=part_x_train, y=part_y_train, batch_size=512, epochs=10, validation_data=(x_cv, y_cv))"
      ],
      "execution_count": null,
      "outputs": [
        {
          "output_type": "stream",
          "text": [
            "Train on 2994 samples, validate on 5988 samples\n",
            "Epoch 1/10\n",
            "2994/2994 [==============================] - 4s 1ms/step - loss: 0.1425 - acc: 0.9639 - val_loss: 1.1406 - val_acc: 0.7872\n",
            "Epoch 2/10\n",
            "2994/2994 [==============================] - 4s 1ms/step - loss: 0.0788 - acc: 0.9786 - val_loss: 1.2557 - val_acc: 0.7764\n",
            "Epoch 3/10\n",
            "2994/2994 [==============================] - 4s 1ms/step - loss: 0.0749 - acc: 0.9803 - val_loss: 1.2553 - val_acc: 0.7751\n",
            "Epoch 4/10\n",
            "2994/2994 [==============================] - 4s 1ms/step - loss: 0.0665 - acc: 0.9800 - val_loss: 1.2213 - val_acc: 0.7792\n",
            "Epoch 5/10\n",
            "2994/2994 [==============================] - 4s 1ms/step - loss: 0.0620 - acc: 0.9800 - val_loss: 1.2600 - val_acc: 0.7911\n",
            "Epoch 6/10\n",
            "2994/2994 [==============================] - 4s 1ms/step - loss: 0.0492 - acc: 0.9826 - val_loss: 1.3380 - val_acc: 0.7841\n",
            "Epoch 7/10\n",
            "2994/2994 [==============================] - 4s 1ms/step - loss: 0.0462 - acc: 0.9820 - val_loss: 1.6546 - val_acc: 0.7558\n",
            "Epoch 8/10\n",
            "2994/2994 [==============================] - 4s 1ms/step - loss: 0.0440 - acc: 0.9840 - val_loss: 1.6271 - val_acc: 0.7542\n",
            "Epoch 9/10\n",
            "2994/2994 [==============================] - 4s 1ms/step - loss: 0.0404 - acc: 0.9806 - val_loss: 1.7858 - val_acc: 0.7540\n",
            "Epoch 10/10\n",
            "2994/2994 [==============================] - 4s 1ms/step - loss: 0.0398 - acc: 0.9836 - val_loss: 1.5948 - val_acc: 0.7779\n"
          ],
          "name": "stdout"
        }
      ]
    },
    {
      "cell_type": "markdown",
      "metadata": {
        "id": "Mcyg53DwNSM7",
        "colab_type": "text"
      },
      "source": [
        "# Model evaluate"
      ]
    },
    {
      "cell_type": "code",
      "metadata": {
        "id": "PPC-h3LnNXKi",
        "colab_type": "code",
        "colab": {
          "base_uri": "https://localhost:8080/",
          "height": 51
        },
        "outputId": "4a4c4c92-683e-4131-a5b5-43a927d9dce6"
      },
      "source": [
        "evaluation=model.evaluate(x=x_test, y=y_test)\n",
        "evaluation"
      ],
      "execution_count": null,
      "outputs": [
        {
          "output_type": "stream",
          "text": [
            "2246/2246 [==============================] - 1s 401us/step\n"
          ],
          "name": "stdout"
        },
        {
          "output_type": "execute_result",
          "data": {
            "text/plain": [
              "[1.2109629318104826, 0.7640249332411418]"
            ]
          },
          "metadata": {
            "tags": []
          },
          "execution_count": 99
        }
      ]
    }
  ]
}