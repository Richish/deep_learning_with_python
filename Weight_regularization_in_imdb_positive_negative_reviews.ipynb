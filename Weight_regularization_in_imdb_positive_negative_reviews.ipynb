{
  "nbformat": 4,
  "nbformat_minor": 0,
  "metadata": {
    "colab": {
      "name": "Weight regularization in imdb_positive_negative_reviews.ipynb",
      "provenance": [],
      "collapsed_sections": [],
      "toc_visible": true,
      "authorship_tag": "ABX9TyM8UXcihulK/6sdLsEAv3UT",
      "include_colab_link": true
    },
    "kernelspec": {
      "name": "python3",
      "display_name": "Python 3"
    }
  },
  "cells": [
    {
      "cell_type": "markdown",
      "metadata": {
        "id": "view-in-github",
        "colab_type": "text"
      },
      "source": [
        "<a href=\"https://colab.research.google.com/github/Richish/deep_learning_with_python/blob/master/Weight_regularization_in_imdb_positive_negative_reviews.ipynb\" target=\"_parent\"><img src=\"https://colab.research.google.com/assets/colab-badge.svg\" alt=\"Open In Colab\"/></a>"
      ]
    },
    {
      "cell_type": "code",
      "metadata": {
        "id": "kWi5_JrOziUU",
        "colab_type": "code",
        "colab": {
          "base_uri": "https://localhost:8080/",
          "height": 54
        },
        "outputId": "11177262-23d3-4061-9b22-41f15bf3171e"
      },
      "source": [
        "from keras.datasets import imdb\n",
        "num_epochs=20\n",
        "batch_size=128\n",
        "(train_data, train_labels),(test_data, test_labels) = imdb.load_data(num_words=10_000)\n",
        "#10000 will keep only list of 10000 most frequently used words, rare words will be discarded\n",
        "print(train_data[0])"
      ],
      "execution_count": null,
      "outputs": [
        {
          "output_type": "stream",
          "text": [
            "[1, 14, 22, 16, 43, 530, 973, 1622, 1385, 65, 458, 4468, 66, 3941, 4, 173, 36, 256, 5, 25, 100, 43, 838, 112, 50, 670, 2, 9, 35, 480, 284, 5, 150, 4, 172, 112, 167, 2, 336, 385, 39, 4, 172, 4536, 1111, 17, 546, 38, 13, 447, 4, 192, 50, 16, 6, 147, 2025, 19, 14, 22, 4, 1920, 4613, 469, 4, 22, 71, 87, 12, 16, 43, 530, 38, 76, 15, 13, 1247, 4, 22, 17, 515, 17, 12, 16, 626, 18, 2, 5, 62, 386, 12, 8, 316, 8, 106, 5, 4, 2223, 5244, 16, 480, 66, 3785, 33, 4, 130, 12, 16, 38, 619, 5, 25, 124, 51, 36, 135, 48, 25, 1415, 33, 6, 22, 12, 215, 28, 77, 52, 5, 14, 407, 16, 82, 2, 8, 4, 107, 117, 5952, 15, 256, 4, 2, 7, 3766, 5, 723, 36, 71, 43, 530, 476, 26, 400, 317, 46, 7, 4, 2, 1029, 13, 104, 88, 4, 381, 15, 297, 98, 32, 2071, 56, 26, 141, 6, 194, 7486, 18, 4, 226, 22, 21, 134, 476, 26, 480, 5, 144, 30, 5535, 18, 51, 36, 28, 224, 92, 25, 104, 4, 226, 65, 16, 38, 1334, 88, 12, 16, 283, 5, 16, 4472, 113, 103, 32, 15, 16, 5345, 19, 178, 32]\n"
          ],
          "name": "stdout"
        }
      ]
    },
    {
      "cell_type": "code",
      "metadata": {
        "id": "qQKF8JP_1h9Q",
        "colab_type": "code",
        "colab": {
          "base_uri": "https://localhost:8080/",
          "height": 34
        },
        "outputId": "161e96be-6bbb-49b1-cc08-aa01bee38b74"
      },
      "source": [
        "print(train_labels[0])"
      ],
      "execution_count": null,
      "outputs": [
        {
          "output_type": "stream",
          "text": [
            "1\n"
          ],
          "name": "stdout"
        }
      ]
    },
    {
      "cell_type": "code",
      "metadata": {
        "id": "AZAL_TN719S5",
        "colab_type": "code",
        "colab": {
          "base_uri": "https://localhost:8080/",
          "height": 34
        },
        "outputId": "c9c58696-4137-49d3-fb95-56962cfb8be1"
      },
      "source": [
        "max([max(sequence) for sequence in train_data])\n",
        "import numpy as np\n",
        "np.max([np.median(sequence) for sequence in train_data])"
      ],
      "execution_count": null,
      "outputs": [
        {
          "output_type": "execute_result",
          "data": {
            "text/plain": [
              "1986.5"
            ]
          },
          "metadata": {
            "tags": []
          },
          "execution_count": 101
        }
      ]
    },
    {
      "cell_type": "code",
      "metadata": {
        "id": "0wOEcidj3DDs",
        "colab_type": "code",
        "colab": {
          "base_uri": "https://localhost:8080/",
          "height": 54
        },
        "outputId": "5fd0526b-56db-4c8b-f6b7-441fb0c28cdd"
      },
      "source": [
        "# decoding reviews to weords\n",
        "word_index=imdb.get_word_index()\n",
        "reverse_word_index = dict([(value,key) for (key,value) in word_index.items()])\n",
        "decoded_review = \" \".join([reverse_word_index.get(i-3, '?') for i in train_data[5]])\n",
        "# i-3 because indeces 0-2 are reserved for padding, start of sequence and \"unknown\"\n",
        "print(decoded_review)"
      ],
      "execution_count": null,
      "outputs": [
        {
          "output_type": "stream",
          "text": [
            "? begins better than it ends funny that the russian submarine crew ? all other actors it's like those scenes where documentary shots br br spoiler part the message ? was contrary to the whole story it just does not ? br br\n"
          ],
          "name": "stdout"
        }
      ]
    },
    {
      "cell_type": "code",
      "metadata": {
        "id": "1fO6ieJK-Sc2",
        "colab_type": "code",
        "colab": {
          "base_uri": "https://localhost:8080/",
          "height": 51
        },
        "outputId": "4658c2dd-a4ef-4da8-cf5e-6032718e0743"
      },
      "source": [
        "# convert data (list of sequence of integers) to numpy matrices of shape (len(sequences), 10_000)\n",
        "# each list is converted to a vector of length 10,000\n",
        "# here each word(integer) will be 1 if presnt and 0 if not present in a particular secuence\n",
        "import numpy as np\n",
        "\n",
        "def vectorize_sequences(sequences, dimension=10_000):\n",
        "  results=np.zeros((len(sequences), dimension)) #numpy matrix of shape- (len(sequences), 10_000)\n",
        "  # assigning 1s to each sequence where words are present in that sequence\n",
        "  for i, sequence in enumerate(sequences):\n",
        "    results[i,sequence]=1 # if the 3rd sequence is [3456, 879, 23]; then eqn will be results[3, [3456, 879, 23]] = 1\n",
        "  return results\n",
        "\n",
        "x_train=vectorize_sequences(train_data, 10_000)\n",
        "x_test=vectorize_sequences(test_data, 10_000)\n",
        "\n",
        "print(x_train.shape)\n",
        "print(x_test.shape)\n",
        "\n"
      ],
      "execution_count": null,
      "outputs": [
        {
          "output_type": "stream",
          "text": [
            "(25000, 10000)\n",
            "(25000, 10000)\n"
          ],
          "name": "stdout"
        }
      ]
    },
    {
      "cell_type": "code",
      "metadata": {
        "id": "N3BOm0z-Ccdq",
        "colab_type": "code",
        "colab": {
          "base_uri": "https://localhost:8080/",
          "height": 51
        },
        "outputId": "b2fe51f0-1398-46cf-c338-b4f3aa5461f5"
      },
      "source": [
        "# vectorizing the labels to vector of shape- (len(sequences), )\n",
        "print(train_labels, train_labels.shape, type(train_labels))\n",
        "y_train=np.asarray(train_labels).astype('float32')\n",
        "y_test=np.asarray(test_labels).astype('float32')\n",
        "print(y_train, y_train.shape, type(y_train))"
      ],
      "execution_count": null,
      "outputs": [
        {
          "output_type": "stream",
          "text": [
            "[1 0 0 ... 0 1 0] (25000,) <class 'numpy.ndarray'>\n",
            "[1. 0. 0. ... 0. 1. 0.] (25000,) <class 'numpy.ndarray'>\n"
          ],
          "name": "stdout"
        }
      ]
    },
    {
      "cell_type": "markdown",
      "metadata": {
        "id": "R4m_-VFIJ3PT",
        "colab_type": "text"
      },
      "source": [
        "#  model definition"
      ]
    },
    {
      "cell_type": "code",
      "metadata": {
        "id": "9z3HgA-GJaSL",
        "colab_type": "code",
        "colab": {}
      },
      "source": [
        "# model definition\n",
        "from keras import models, layers\n",
        "\n",
        "model=models.Sequential()\n",
        "model.add(layers.Dense(units=16, activation='relu', input_shape=(10_000, )))\n",
        "model.add(layers.Dense(units=16, activation='relu'))\n",
        "model.add(layers.Dense(units=1, activation=\"sigmoid\"))\n"
      ],
      "execution_count": null,
      "outputs": []
    },
    {
      "cell_type": "markdown",
      "metadata": {
        "id": "ZoUPC289M2sk",
        "colab_type": "text"
      },
      "source": [
        "# Compiling the model"
      ]
    },
    {
      "cell_type": "markdown",
      "metadata": {
        "id": "tIkabDJDNd-u",
        "colab_type": "text"
      },
      "source": [
        "# crossentropy is the preferred choice of loss function whenever the outputs are probabilities.\n",
        "# crossentropy measures distance in probabbility distributions, in this case, the distance between ground truth distributions and our predictions.\n"
      ]
    },
    {
      "cell_type": "code",
      "metadata": {
        "id": "BKAh-wbXM9EH",
        "colab_type": "code",
        "colab": {}
      },
      "source": [
        "# crossentropy is the preferred choice of loss function whenever the outputs are probabilities.\n",
        "# crossentropy measures distance in probabbility distributions, in this case, the distance between ground truth distributions and our predictions.\n",
        "# we will also monitor accuracy during training\n",
        "model.compile(optimizer=\"rmsprop\", loss=\"binary_crossentropy\", metrics=['accuracy'])\n",
        "\n",
        "# here instead of optimizer string- pointing to optmizioer packaged with keras, we could have passed our custom optimizer class as well.\n",
        "# for custom loss and metrics we can pass functions"
      ],
      "execution_count": null,
      "outputs": []
    },
    {
      "cell_type": "markdown",
      "metadata": {
        "id": "K21ZY3-jOxon",
        "colab_type": "text"
      },
      "source": [
        "# Cross Validation Set Creation\n"
      ]
    },
    {
      "cell_type": "code",
      "metadata": {
        "id": "FAVB056NO5nn",
        "colab_type": "code",
        "colab": {}
      },
      "source": [
        "# set 10 k samples aside as cross validation set\n",
        "x_val=x_train[:10_000]\n",
        "partial_x_train=x_train[10_000:]\n",
        "\n",
        "y_val=y_train[:10_000]\n",
        "partial_y_train=y_train[10_000:]"
      ],
      "execution_count": null,
      "outputs": []
    },
    {
      "cell_type": "markdown",
      "metadata": {
        "id": "G75VcysQP6EE",
        "colab_type": "text"
      },
      "source": [
        "# Training the model"
      ]
    },
    {
      "cell_type": "code",
      "metadata": {
        "id": "YtbN68A5QAZb",
        "colab_type": "code",
        "colab": {
          "base_uri": "https://localhost:8080/",
          "height": 714
        },
        "outputId": "a4a321e0-89a6-4b51-aeed-46e2edbd9233"
      },
      "source": [
        "# train the model using 20 epochs(the whole data will be passed over 20 times)\n",
        "# using minibatch size of 512-> each time 512 sample will be sent across the model.\n",
        "# also provide validatiom set as input.\n",
        "# there is a pause at end of each epoch as it calculates accuracy and loss\n",
        "# history object is crteated at the end of it.\n",
        "# history object has a member history- which is a dictionary that has all the data about what happened during training using hidtorical data.\n",
        "\n",
        "#history=model.fit(x=partial_x_train, y=partial_y_train, batch_size=512, epochs=20, validation_data=(x_val, y_val))\n",
        "#this resulted in overfitting. Trying with fewer epochs\n",
        "history=model.fit(x=partial_x_train, y=partial_y_train, batch_size=batch_size, epochs=num_epochs, validation_data=(x_val, y_val))"
      ],
      "execution_count": null,
      "outputs": [
        {
          "output_type": "stream",
          "text": [
            "Train on 15000 samples, validate on 10000 samples\n",
            "Epoch 1/20\n",
            "15000/15000 [==============================] - 4s 261us/step - loss: 0.3965 - acc: 0.8443 - val_loss: 0.3081 - val_acc: 0.8710\n",
            "Epoch 2/20\n",
            "15000/15000 [==============================] - 3s 184us/step - loss: 0.2105 - acc: 0.9213 - val_loss: 0.2734 - val_acc: 0.8915\n",
            "Epoch 3/20\n",
            "15000/15000 [==============================] - 3s 185us/step - loss: 0.1552 - acc: 0.9434 - val_loss: 0.3198 - val_acc: 0.8793\n",
            "Epoch 4/20\n",
            "15000/15000 [==============================] - 3s 183us/step - loss: 0.1216 - acc: 0.9559 - val_loss: 0.3266 - val_acc: 0.8840\n",
            "Epoch 5/20\n",
            "15000/15000 [==============================] - 3s 188us/step - loss: 0.0952 - acc: 0.9662 - val_loss: 0.3643 - val_acc: 0.8782\n",
            "Epoch 6/20\n",
            "15000/15000 [==============================] - 3s 186us/step - loss: 0.0766 - acc: 0.9727 - val_loss: 0.4208 - val_acc: 0.8724\n",
            "Epoch 7/20\n",
            "15000/15000 [==============================] - 3s 205us/step - loss: 0.0617 - acc: 0.9794 - val_loss: 0.4559 - val_acc: 0.8749\n",
            "Epoch 8/20\n",
            "15000/15000 [==============================] - 3s 208us/step - loss: 0.0475 - acc: 0.9843 - val_loss: 0.5314 - val_acc: 0.8685\n",
            "Epoch 9/20\n",
            "15000/15000 [==============================] - 3s 197us/step - loss: 0.0380 - acc: 0.9868 - val_loss: 0.5711 - val_acc: 0.8672\n",
            "Epoch 10/20\n",
            "15000/15000 [==============================] - 3s 192us/step - loss: 0.0290 - acc: 0.9909 - val_loss: 0.6374 - val_acc: 0.8619\n",
            "Epoch 11/20\n",
            "15000/15000 [==============================] - 3s 228us/step - loss: 0.0211 - acc: 0.9943 - val_loss: 0.7411 - val_acc: 0.8601\n",
            "Epoch 12/20\n",
            "15000/15000 [==============================] - 3s 192us/step - loss: 0.0158 - acc: 0.9953 - val_loss: 0.8307 - val_acc: 0.8578\n",
            "Epoch 13/20\n",
            "15000/15000 [==============================] - 3s 194us/step - loss: 0.0109 - acc: 0.9972 - val_loss: 0.8292 - val_acc: 0.8580\n",
            "Epoch 14/20\n",
            "15000/15000 [==============================] - 3s 196us/step - loss: 0.0083 - acc: 0.9985 - val_loss: 0.9076 - val_acc: 0.8544\n",
            "Epoch 15/20\n",
            "15000/15000 [==============================] - 3s 182us/step - loss: 0.0048 - acc: 0.9991 - val_loss: 1.0350 - val_acc: 0.8540\n",
            "Epoch 16/20\n",
            "15000/15000 [==============================] - 3s 188us/step - loss: 0.0036 - acc: 0.9991 - val_loss: 1.0351 - val_acc: 0.8548\n",
            "Epoch 17/20\n",
            "15000/15000 [==============================] - 3s 195us/step - loss: 0.0024 - acc: 0.9996 - val_loss: 1.1245 - val_acc: 0.8550\n",
            "Epoch 18/20\n",
            "15000/15000 [==============================] - 3s 210us/step - loss: 0.0016 - acc: 0.9995 - val_loss: 1.1711 - val_acc: 0.8556\n",
            "Epoch 19/20\n",
            "15000/15000 [==============================] - 3s 202us/step - loss: 6.0536e-04 - acc: 0.9999 - val_loss: 1.2367 - val_acc: 0.8536\n",
            "Epoch 20/20\n",
            "15000/15000 [==============================] - 3s 206us/step - loss: 5.1133e-04 - acc: 0.9999 - val_loss: 1.3079 - val_acc: 0.8535\n"
          ],
          "name": "stdout"
        }
      ]
    },
    {
      "cell_type": "code",
      "metadata": {
        "id": "JKNDaflmSazs",
        "colab_type": "code",
        "colab": {
          "base_uri": "https://localhost:8080/",
          "height": 34
        },
        "outputId": "9c73bdb1-9232-453e-eecb-d4ef73d73ba3"
      },
      "source": [
        "history_dict=history.history\n",
        "history_dict.keys()"
      ],
      "execution_count": null,
      "outputs": [
        {
          "output_type": "execute_result",
          "data": {
            "text/plain": [
              "dict_keys(['val_loss', 'val_acc', 'loss', 'acc'])"
            ]
          },
          "metadata": {
            "tags": []
          },
          "execution_count": 109
        }
      ]
    },
    {
      "cell_type": "markdown",
      "metadata": {
        "id": "Ikj4Dq7rWW3o",
        "colab_type": "text"
      },
      "source": [
        "# Plot loss and accuracy values during training\n",
        "\n"
      ]
    },
    {
      "cell_type": "code",
      "metadata": {
        "id": "iDnDT-cLWe9X",
        "colab_type": "code",
        "colab": {
          "base_uri": "https://localhost:8080/",
          "height": 295
        },
        "outputId": "8df1519b-39f4-4a9c-c672-5a76fa7170c8"
      },
      "source": [
        "#plotting loss values\n",
        "import matplotlib.pyplot as plt\n",
        "history_dict=history.history\n",
        "loss_values=history_dict[\"loss\"]\n",
        "val_loss_values=history_dict[\"val_loss\"]\n",
        "\n",
        "epochs=range(1, len(loss_values)+1)\n",
        "epochs\n",
        "\n",
        "plt.plot(epochs, loss_values, 'bo', label=\"Training Loss\")\n",
        "plt.plot(epochs, val_loss_values, 'b', label='Validation Loss')\n",
        "plt.title(\"Training and validation loss vs epochs\")\n",
        "plt.xlabel(\"Epochs\")\n",
        "plt.ylabel(\"Loss\")\n",
        "plt.legend()\n",
        "plt.show()"
      ],
      "execution_count": null,
      "outputs": [
        {
          "output_type": "display_data",
          "data": {
            "image/png": "[encoded data removed]",
            "text/plain": [
              "<Figure size 432x288 with 1 Axes>"
            ]
          },
          "metadata": {
            "tags": []
          }
        }
      ]
    },
    {
      "cell_type": "code",
      "metadata": {
        "id": "-FZschYUZyjy",
        "colab_type": "code",
        "colab": {
          "base_uri": "https://localhost:8080/",
          "height": 295
        },
        "outputId": "c18eaf2c-556c-4063-ba07-35eb2251b293"
      },
      "source": [
        "# plotting accuracy values\n",
        "plt.clf() #clears the figure\n",
        "accuracy_values=history_dict[\"acc\"]\n",
        "val_accuracy_values=history_dict[\"val_acc\"]\n",
        "\n",
        "plt.plot(epochs, accuracy_values, \"bo\", label=\"Training Accuracy\")\n",
        "plt.plot(epochs, val_accuracy_values, \"b\", label=\"Validation Accuracy\")\n",
        "\n",
        "plt.title(\"Traning accuracy and validation accuracy vs epochs\")\n",
        "plt.xlabel(\"epochs\")\n",
        "plt.ylabel(\"accuracy\")\n",
        "plt.legend()\n",
        "plt.show()"
      ],
      "execution_count": null,
      "outputs": [
        {
          "output_type": "display_data",
          "data": {
            "image/png": "[encoded data removed]",
            "text/plain": [
              "<Figure size 432x288 with 1 Axes>"
            ]
          },
          "metadata": {
            "tags": []
          }
        }
      ]
    },
    {
      "cell_type": "markdown",
      "metadata": {
        "id": "zjz2vdVhb86j",
        "colab_type": "text"
      },
      "source": [
        "# Gettings results on test data\n"
      ]
    },
    {
      "cell_type": "code",
      "metadata": {
        "id": "dhF7s6-McBLQ",
        "colab_type": "code",
        "colab": {
          "base_uri": "https://localhost:8080/",
          "height": 51
        },
        "outputId": "df5f1732-fb3d-4933-dc6f-38bba258bad7"
      },
      "source": [
        "results=model.evaluate(x=x_test, y=y_test)\n",
        "results"
      ],
      "execution_count": null,
      "outputs": [
        {
          "output_type": "stream",
          "text": [
            "25000/25000 [==============================] - 3s 100us/step\n"
          ],
          "name": "stdout"
        },
        {
          "output_type": "execute_result",
          "data": {
            "text/plain": [
              "[1.4550463374257088, 0.83444]"
            ]
          },
          "metadata": {
            "tags": []
          },
          "execution_count": 112
        }
      ]
    },
    {
      "cell_type": "markdown",
      "metadata": {
        "id": "iy4357uzAR4V",
        "colab_type": "text"
      },
      "source": [
        "# Predict on test data\n"
      ]
    },
    {
      "cell_type": "code",
      "metadata": {
        "id": "TV84Yu86AVZz",
        "colab_type": "code",
        "colab": {}
      },
      "source": [
        "predicted_results=model.predict(x=x_test)\n"
      ],
      "execution_count": null,
      "outputs": []
    },
    {
      "cell_type": "code",
      "metadata": {
        "id": "vQPkca2qApt-",
        "colab_type": "code",
        "colab": {
          "base_uri": "https://localhost:8080/",
          "height": 136
        },
        "outputId": "20568ac2-7221-4cbc-e6f1-7d10bc9d62ae"
      },
      "source": [
        "predicted_results"
      ],
      "execution_count": null,
      "outputs": [
        {
          "output_type": "execute_result",
          "data": {
            "text/plain": [
              "array([[2.0253658e-04],\n",
              "       [1.0000000e+00],\n",
              "       [9.9982494e-01],\n",
              "       ...,\n",
              "       [1.1295080e-05],\n",
              "       [5.7671440e-01],\n",
              "       [7.8289062e-02]], dtype=float32)"
            ]
          },
          "metadata": {
            "tags": []
          },
          "execution_count": 114
        }
      ]
    },
    {
      "cell_type": "markdown",
      "metadata": {
        "id": "0b1W8dLA-wd5",
        "colab_type": "text"
      },
      "source": [
        "# Using weight regularization\n"
      ]
    },
    {
      "cell_type": "code",
      "metadata": {
        "id": "WRZg5HAp_GR0",
        "colab_type": "code",
        "colab": {}
      },
      "source": [
        "from keras import regularizers\n",
        "def build_model(l1=0.001, l2=0.001):\n",
        "  layer1=layers.Dense(units=16, activation=\"relu\", kernel_regularizer=regularizers.l1_l2(l1=l1,l2=l2), input_shape=(10_000,))\n",
        "  layer2=layers.Dense(units=16, activation=\"relu\", kernel_regularizer=regularizers.l1_l2(l1=l1,l2=l2))\n",
        "  layer3=layers.Dense(units=1, activation=\"sigmoid\")\n",
        "  model=models.Sequential(layers=[layer1,layer2,layer3])\n",
        "  model.compile(optimizer=\"rmsprop\", loss=\"binary_crossentropy\", metrics=[\"accuracy\"])\n",
        "  return model"
      ],
      "execution_count": null,
      "outputs": []
    },
    {
      "cell_type": "code",
      "metadata": {
        "id": "wZQ09BhXBQ3s",
        "colab_type": "code",
        "colab": {
          "base_uri": "https://localhost:8080/",
          "height": 34
        },
        "outputId": "fa23f8e4-c0e3-45ca-9ce6-2b5e8ad29dd3"
      },
      "source": [
        "model=build_model()\n",
        "history_reg=model.fit(x=partial_x_train, y=partial_y_train, batch_size=batch_size, epochs=num_epochs, verbose=0, validation_data=(x_val, y_val))\n",
        "\n",
        "print(history_reg.history.keys())"
      ],
      "execution_count": null,
      "outputs": [
        {
          "output_type": "stream",
          "text": [
            "dict_keys(['val_loss', 'val_acc', 'loss', 'acc'])\n"
          ],
          "name": "stdout"
        }
      ]
    },
    {
      "cell_type": "code",
      "metadata": {
        "id": "_7GIAxsRCj3A",
        "colab_type": "code",
        "colab": {
          "base_uri": "https://localhost:8080/",
          "height": 265
        },
        "outputId": "ebbab960-84b5-45b1-ef92-cb65d7a19469"
      },
      "source": [
        "plt.clf()\n",
        "plt.plot(range(num_epochs), history_reg.history[\"val_loss\"], 'ro', label=\"Regularized validation loss\")\n",
        "\n",
        "plt.plot(range(num_epochs), history_reg.history[\"loss\"], 'r', label=\"Regularized training loss\")\n",
        "\n",
        "plt.plot(range(num_epochs), history.history[\"val_loss\"], 'go', label=\"Non-Regularized validation loss\")\n",
        "plt.plot(range(num_epochs), history.history[\"loss\"], 'g', label=\"Non-Regularized training loss\")\n",
        "plt.legend()\n",
        "plt.show()"
      ],
      "execution_count": null,
      "outputs": [
        {
          "output_type": "display_data",
          "data": {
            "image/png": "[encoded data removed]",
            "text/plain": [
              "<Figure size 432x288 with 1 Axes>"
            ]
          },
          "metadata": {
            "tags": []
          }
        }
      ]
    },
    {
      "cell_type": "markdown",
      "metadata": {
        "id": "tyy07VHWMFGC",
        "colab_type": "text"
      },
      "source": [
        "# Using Dropout\n"
      ]
    },
    {
      "cell_type": "markdown",
      "metadata": {
        "id": "MIcSsxq9MQcD",
        "colab_type": "text"
      },
      "source": [
        "setting to 0, random outputs of a layer(x fraction of them). But multiplying other outputs by that same fraction.\n",
        "That is if 1/3rd of outputs are set to zero. The other outputs are multiplied by 3."
      ]
    },
    {
      "cell_type": "code",
      "metadata": {
        "id": "bAB8_W40MJeC",
        "colab_type": "code",
        "colab": {}
      },
      "source": [
        "# dropout for alayer is achieved by adding a dropout layer after that particular layer.\n",
        "def build_model_with_dropout(dropout_fraction=0.5):\n",
        "  layer1=layers.Dense(units=16, activation=\"relu\", input_shape=(10_000,))\n",
        "  layer1_dropout=layers.Dropout(rate=dropout_fraction)\n",
        "  layer2=layers.Dense(units=16, activation=\"relu\")\n",
        "  layer2_dropout=layers.Dropout(rate=dropout_fraction)\n",
        "  layer3=layers.Dense(units=1, activation=\"sigmoid\")\n",
        "  model=models.Sequential(layers=[layer1,layer1_dropout,layer2,layer1_dropout,layer3])\n",
        "  model.compile(optimizer=\"rmsprop\", loss=\"binary_crossentropy\", metrics=[\"accuracy\"])\n",
        "  return model"
      ],
      "execution_count": null,
      "outputs": []
    },
    {
      "cell_type": "code",
      "metadata": {
        "id": "TuSp77RQNwZz",
        "colab_type": "code",
        "colab": {
          "base_uri": "https://localhost:8080/",
          "height": 139
        },
        "outputId": "d5ac5f10-94bd-4c2c-912d-d322e9292f7c"
      },
      "source": [
        "model=build_model_with_dropout()\n",
        "history_dropout=model.fit(x=partial_x_train, y=partial_y_train, batch_size=batch_size, epochs=num_epochs, verbose=0, validation_data=(x_val, y_val))\n",
        "\n",
        "print(history_dropout.history.keys())"
      ],
      "execution_count": null,
      "outputs": [
        {
          "output_type": "stream",
          "text": [
            "WARNING:tensorflow:From /usr/local/lib/python3.6/dist-packages/keras/backend/tensorflow_backend.py:148: The name tf.placeholder_with_default is deprecated. Please use tf.compat.v1.placeholder_with_default instead.\n",
            "\n",
            "WARNING:tensorflow:From /usr/local/lib/python3.6/dist-packages/keras/backend/tensorflow_backend.py:3733: calling dropout (from tensorflow.python.ops.nn_ops) with keep_prob is deprecated and will be removed in a future version.\n",
            "Instructions for updating:\n",
            "Please use `rate` instead of `keep_prob`. Rate should be set to `rate = 1 - keep_prob`.\n",
            "dict_keys(['val_loss', 'val_acc', 'loss', 'acc'])\n"
          ],
          "name": "stdout"
        }
      ]
    },
    {
      "cell_type": "code",
      "metadata": {
        "id": "wDfja0NUN_Og",
        "colab_type": "code",
        "colab": {
          "base_uri": "https://localhost:8080/",
          "height": 265
        },
        "outputId": "3d290a81-cce6-433c-8209-a0dd097016ac"
      },
      "source": [
        "plt.clf()\n",
        "plt.plot(range(num_epochs), history_dropout.history[\"val_loss\"], 'ro', label=\"Dropout validation loss\")\n",
        "\n",
        "plt.plot(range(num_epochs), history_dropout.history[\"loss\"], 'r', label=\"Dropout training loss\")\n",
        "\n",
        "plt.plot(range(num_epochs), history.history[\"val_loss\"], 'go', label=\"Non-Regularized validation loss\")\n",
        "plt.plot(range(num_epochs), history.history[\"loss\"], 'g', label=\"Non-Regularized training loss\")\n",
        "plt.legend()\n",
        "plt.show()"
      ],
      "execution_count": null,
      "outputs": [
        {
          "output_type": "display_data",
          "data": {
            "image/png": "[encoded data removed]",
            "text/plain": [
              "<Figure size 432x288 with 1 Axes>"
            ]
          },
          "metadata": {
            "tags": []
          }
        }
      ]
    }
  ]
}