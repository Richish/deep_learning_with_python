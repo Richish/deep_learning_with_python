{
  "nbformat": 4,
  "nbformat_minor": 0,
  "metadata": {
    "colab": {
      "name": "ch6.2.ipynb",
      "provenance": [],
      "authorship_tag": "ABX9TyNUy7tiqkCTwkWfuJJSWLNp",
      "include_colab_link": true
    },
    "kernelspec": {
      "name": "python3",
      "display_name": "Python 3"
    },
    "accelerator": "GPU"
  },
  "cells": [
    {
      "cell_type": "markdown",
      "metadata": {
        "id": "view-in-github",
        "colab_type": "text"
      },
      "source": [
        "<a href=\"https://colab.research.google.com/github/Richish/deep_learning_with_python/blob/master/ch6_2.ipynb\" target=\"_parent\"><img src=\"https://colab.research.google.com/assets/colab-badge.svg\" alt=\"Open In Colab\"/></a>"
      ]
    },
    {
      "cell_type": "code",
      "metadata": {
        "id": "vr8gfqMoDgGy",
        "colab_type": "code",
        "colab": {
          "base_uri": "https://localhost:8080/",
          "height": 136
        },
        "outputId": "6fd28f13-f6e4-44b8-b659-236274223e00"
      },
      "source": [
        "from keras.preprocessing.text import Tokenizer\n",
        "from keras.preprocessing import sequence\n",
        "from keras.datasets import imdb\n",
        "\n",
        "max_features=10_000\n",
        "maxlen=500\n",
        "batch_size=32\n",
        "\n",
        "print('loading data...')\n",
        "(input_train, y_train), (input_test, y_test) = imdb.load_data(num_words=max_features)\n",
        "print(input_train.shape, input_test.shape)\n",
        "print(\"padding sequences..\")\n",
        "input_train=sequence.pad_sequences(input_train, maxlen=maxlen)\n",
        "input_test=sequence.pad_sequences(input_test, maxlen=maxlen)\n",
        "print(input_train.shape, input_test.shape)"
      ],
      "execution_count": null,
      "outputs": [
        {
          "output_type": "stream",
          "text": [
            "Using TensorFlow backend.\n"
          ],
          "name": "stderr"
        },
        {
          "output_type": "stream",
          "text": [
            "loading data...\n",
            "Downloading data from https://s3.amazonaws.com/text-datasets/imdb.npz\n",
            "17465344/17464789 [==============================] - 2s 0us/step\n",
            "(25000,) (25000,)\n",
            "padding sequences..\n",
            "(25000, 500) (25000, 500)\n"
          ],
          "name": "stdout"
        }
      ]
    },
    {
      "cell_type": "code",
      "metadata": {
        "id": "6xZOOeCFDp6V",
        "colab_type": "code",
        "colab": {
          "base_uri": "https://localhost:8080/",
          "height": 445
        },
        "outputId": "fe119194-6eb0-4296-935a-82f2eb595f69"
      },
      "source": [
        "from keras.models import Sequential\n",
        "from keras.layers import Embedding, SimpleRNN, Dense\n",
        "\n",
        "embedding_dimensions=32\n",
        "\n",
        "model=Sequential()\n",
        "model.add(Embedding(max_features, embedding_dimensions))\n",
        "model.add(SimpleRNN(embedding_dimensions))\n",
        "model.add(Dense(1, activation='sigmoid'))\n",
        "\n",
        "model.compile(optimizer='rmsprop', loss='binary_crossentropy', metrics=['acc'])\n",
        "model.fit(input_train, y_train, batch_size=128, epochs=10, validation_split=0.2)"
      ],
      "execution_count": null,
      "outputs": [
        {
          "output_type": "stream",
          "text": [
            "/usr/local/lib/python3.6/dist-packages/tensorflow/python/framework/indexed_slices.py:434: UserWarning: Converting sparse IndexedSlices to a dense Tensor of unknown shape. This may consume a large amount of memory.\n",
            "  \"Converting sparse IndexedSlices to a dense Tensor of unknown shape. \"\n"
          ],
          "name": "stderr"
        },
        {
          "output_type": "stream",
          "text": [
            "Train on 20000 samples, validate on 5000 samples\n",
            "Epoch 1/10\n",
            "20000/20000 [==============================] - 52s 3ms/step - loss: 0.6193 - acc: 0.6421 - val_loss: 0.4392 - val_acc: 0.8140\n",
            "Epoch 2/10\n",
            "20000/20000 [==============================] - 50s 2ms/step - loss: 0.3846 - acc: 0.8375 - val_loss: 0.7559 - val_acc: 0.6814\n",
            "Epoch 3/10\n",
            "20000/20000 [==============================] - 51s 3ms/step - loss: 0.2955 - acc: 0.8801 - val_loss: 0.3609 - val_acc: 0.8514\n",
            "Epoch 4/10\n",
            "20000/20000 [==============================] - 50s 3ms/step - loss: 0.2306 - acc: 0.9111 - val_loss: 0.3548 - val_acc: 0.8566\n",
            "Epoch 5/10\n",
            "20000/20000 [==============================] - 51s 3ms/step - loss: 0.1840 - acc: 0.9303 - val_loss: 0.4713 - val_acc: 0.7974\n",
            "Epoch 6/10\n",
            "20000/20000 [==============================] - 52s 3ms/step - loss: 0.1356 - acc: 0.9507 - val_loss: 0.4241 - val_acc: 0.8342\n",
            "Epoch 7/10\n",
            "20000/20000 [==============================] - 50s 3ms/step - loss: 0.0949 - acc: 0.9662 - val_loss: 0.4860 - val_acc: 0.8324\n",
            "Epoch 8/10\n",
            "20000/20000 [==============================] - 51s 3ms/step - loss: 0.0601 - acc: 0.9807 - val_loss: 0.5257 - val_acc: 0.8432\n",
            "Epoch 9/10\n",
            "20000/20000 [==============================] - 51s 3ms/step - loss: 0.1372 - acc: 0.9543 - val_loss: 1.7349 - val_acc: 0.5678\n",
            "Epoch 10/10\n",
            "20000/20000 [==============================] - 51s 3ms/step - loss: 0.2749 - acc: 0.9045 - val_loss: 0.7631 - val_acc: 0.7606\n"
          ],
          "name": "stdout"
        },
        {
          "output_type": "execute_result",
          "data": {
            "text/plain": [
              "<keras.callbacks.callbacks.History at 0x7f597af88908>"
            ]
          },
          "metadata": {
            "tags": []
          },
          "execution_count": 2
        }
      ]
    },
    {
      "cell_type": "code",
      "metadata": {
        "id": "wo_ebcdGDqS8",
        "colab_type": "code",
        "colab": {
          "base_uri": "https://localhost:8080/",
          "height": 51
        },
        "outputId": "1554d2a3-0b2e-4c39-f29e-dd10df63b1ed"
      },
      "source": [
        "model.evaluate(input_test, y_test, batch_size=32)"
      ],
      "execution_count": null,
      "outputs": [
        {
          "output_type": "stream",
          "text": [
            "25000/25000 [==============================] - 23s 902us/step\n"
          ],
          "name": "stdout"
        },
        {
          "output_type": "execute_result",
          "data": {
            "text/plain": [
              "[0.7540066348648071, 0.7580400109291077]"
            ]
          },
          "metadata": {
            "tags": []
          },
          "execution_count": 4
        }
      ]
    },
    {
      "cell_type": "markdown",
      "metadata": {
        "id": "avhykjcRMH0Z",
        "colab_type": "text"
      },
      "source": [
        "# Using LSTM"
      ]
    },
    {
      "cell_type": "code",
      "metadata": {
        "id": "N03IS579L13r",
        "colab_type": "code",
        "colab": {
          "base_uri": "https://localhost:8080/",
          "height": 428
        },
        "outputId": "62593adb-f4fa-44db-f682-f62941709e1f"
      },
      "source": [
        "from keras.models import Sequential\n",
        "from keras.layers import Embedding, Dense, LSTM\n",
        "\n",
        "model = Sequential()\n",
        "model.add(Embedding(max_features, 32))\n",
        "model.add(LSTM(32))\n",
        "model.add(Dense(1, activation='sigmoid'))\n",
        "model.compile(optimizer='rmsprop',loss='binary_crossentropy',metrics=['acc'])\n",
        "history = model.fit(input_train, y_train,epochs=10,batch_size=128,validation_split=0.2)"
      ],
      "execution_count": null,
      "outputs": [
        {
          "output_type": "stream",
          "text": [
            "/usr/local/lib/python3.6/dist-packages/tensorflow/python/framework/indexed_slices.py:434: UserWarning: Converting sparse IndexedSlices to a dense Tensor of unknown shape. This may consume a large amount of memory.\n",
            "  \"Converting sparse IndexedSlices to a dense Tensor of unknown shape. \"\n"
          ],
          "name": "stderr"
        },
        {
          "output_type": "stream",
          "text": [
            "Train on 20000 samples, validate on 5000 samples\n",
            "Epoch 1/10\n",
            "20000/20000 [==============================] - 126s 6ms/step - loss: 0.5076 - acc: 0.7539 - val_loss: 0.4362 - val_acc: 0.8242\n",
            "Epoch 2/10\n",
            "20000/20000 [==============================] - 128s 6ms/step - loss: 0.2981 - acc: 0.8863 - val_loss: 0.2963 - val_acc: 0.8788\n",
            "Epoch 3/10\n",
            "20000/20000 [==============================] - 129s 6ms/step - loss: 0.2366 - acc: 0.9099 - val_loss: 0.3009 - val_acc: 0.8730\n",
            "Epoch 4/10\n",
            "20000/20000 [==============================] - 128s 6ms/step - loss: 0.2023 - acc: 0.9255 - val_loss: 0.3651 - val_acc: 0.8706\n",
            "Epoch 5/10\n",
            "20000/20000 [==============================] - 129s 6ms/step - loss: 0.1824 - acc: 0.9331 - val_loss: 0.2972 - val_acc: 0.8826\n",
            "Epoch 6/10\n",
            "20000/20000 [==============================] - 129s 6ms/step - loss: 0.1547 - acc: 0.9452 - val_loss: 0.3047 - val_acc: 0.8826\n",
            "Epoch 7/10\n",
            "20000/20000 [==============================] - 130s 7ms/step - loss: 0.1468 - acc: 0.9476 - val_loss: 0.3379 - val_acc: 0.8828\n",
            "Epoch 8/10\n",
            "20000/20000 [==============================] - 133s 7ms/step - loss: 0.1300 - acc: 0.9542 - val_loss: 0.3254 - val_acc: 0.8856\n",
            "Epoch 9/10\n",
            "20000/20000 [==============================] - 131s 7ms/step - loss: 0.1186 - acc: 0.9596 - val_loss: 0.3307 - val_acc: 0.8820\n",
            "Epoch 10/10\n",
            "20000/20000 [==============================] - 130s 7ms/step - loss: 0.1125 - acc: 0.9623 - val_loss: 0.5811 - val_acc: 0.8114\n"
          ],
          "name": "stdout"
        }
      ]
    },
    {
      "cell_type": "code",
      "metadata": {
        "id": "LzEbKSsVQ6nx",
        "colab_type": "code",
        "colab": {
          "base_uri": "https://localhost:8080/",
          "height": 51
        },
        "outputId": "55eea08b-1b06-4b58-f693-bb149ecd2af2"
      },
      "source": [
        "model.evaluate(input_test, y_test)"
      ],
      "execution_count": null,
      "outputs": [
        {
          "output_type": "stream",
          "text": [
            "25000/25000 [==============================] - 54s 2ms/step\n"
          ],
          "name": "stdout"
        },
        {
          "output_type": "execute_result",
          "data": {
            "text/plain": [
              "[0.6734233085155487, 0.7853999733924866]"
            ]
          },
          "metadata": {
            "tags": []
          },
          "execution_count": 7
        }
      ]
    }
  ]
}