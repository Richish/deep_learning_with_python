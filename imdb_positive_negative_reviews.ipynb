{
  "nbformat": 4,
  "nbformat_minor": 0,
  "metadata": {
    "colab": {
      "name": "imdb_positive_negative_reviews.ipynb",
      "provenance": [],
      "collapsed_sections": [],
      "toc_visible": true,
      "authorship_tag": "ABX9TyPu81PX6rkbtK3ItFFKKOcu",
      "include_colab_link": true
    },
    "kernelspec": {
      "name": "python3",
      "display_name": "Python 3"
    }
  },
  "cells": [
    {
      "cell_type": "markdown",
      "metadata": {
        "id": "view-in-github",
        "colab_type": "text"
      },
      "source": [
        "<a href=\"https://colab.research.google.com/github/Richish/deep_learning_with_python/blob/master/imdb_positive_negative_reviews.ipynb\" target=\"_parent\"><img src=\"https://colab.research.google.com/assets/colab-badge.svg\" alt=\"Open In Colab\"/></a>"
      ]
    },
    {
      "cell_type": "code",
      "metadata": {
        "id": "kWi5_JrOziUU",
        "colab_type": "code",
        "colab": {
          "base_uri": "https://localhost:8080/",
          "height": 151
        },
        "outputId": "b11161fd-7d6d-42c0-8310-ed5107934258"
      },
      "source": [
        "from keras.datasets import imdb\n",
        "(train_data, train_labels),(test_data, test_labels) = imdb.load_data(num_words=10_000)\n",
        "#10000 will keep only list of 10000 most frequently used words, rare words will be discarded\n",
        "print(train_data[0])"
      ],
      "execution_count": null,
      "outputs": [
        {
          "output_type": "stream",
          "text": [
            "Using TensorFlow backend.\n"
          ],
          "name": "stderr"
        },
        {
          "output_type": "display_data",
          "data": {
            "text/html": [
              "<p style=\"color: red;\">\n",
              "The default version of TensorFlow in Colab will soon switch to TensorFlow 2.x.<br>\n",
              "We recommend you <a href=\"https://www.tensorflow.org/guide/migrate\" target=\"_blank\">upgrade</a> now \n",
              "or ensure your notebook will continue to use TensorFlow 1.x via the <code>%tensorflow_version 1.x</code> magic:\n",
              "<a href=\"https://colab.research.google.com/notebooks/tensorflow_version.ipynb\" target=\"_blank\">more info</a>.</p>\n"
            ],
            "text/plain": [
              "<IPython.core.display.HTML object>"
            ]
          },
          "metadata": {
            "tags": []
          }
        },
        {
          "output_type": "stream",
          "text": [
            "Downloading data from https://s3.amazonaws.com/text-datasets/imdb.npz\n",
            "17465344/17464789 [==============================] - 0s 0us/step\n",
            "[1, 14, 22, 16, 43, 530, 973, 1622, 1385, 65, 458, 4468, 66, 3941, 4, 173, 36, 256, 5, 25, 100, 43, 838, 112, 50, 670, 2, 9, 35, 480, 284, 5, 150, 4, 172, 112, 167, 2, 336, 385, 39, 4, 172, 4536, 1111, 17, 546, 38, 13, 447, 4, 192, 50, 16, 6, 147, 2025, 19, 14, 22, 4, 1920, 4613, 469, 4, 22, 71, 87, 12, 16, 43, 530, 38, 76, 15, 13, 1247, 4, 22, 17, 515, 17, 12, 16, 626, 18, 2, 5, 62, 386, 12, 8, 316, 8, 106, 5, 4, 2223, 5244, 16, 480, 66, 3785, 33, 4, 130, 12, 16, 38, 619, 5, 25, 124, 51, 36, 135, 48, 25, 1415, 33, 6, 22, 12, 215, 28, 77, 52, 5, 14, 407, 16, 82, 2, 8, 4, 107, 117, 5952, 15, 256, 4, 2, 7, 3766, 5, 723, 36, 71, 43, 530, 476, 26, 400, 317, 46, 7, 4, 2, 1029, 13, 104, 88, 4, 381, 15, 297, 98, 32, 2071, 56, 26, 141, 6, 194, 7486, 18, 4, 226, 22, 21, 134, 476, 26, 480, 5, 144, 30, 5535, 18, 51, 36, 28, 224, 92, 25, 104, 4, 226, 65, 16, 38, 1334, 88, 12, 16, 283, 5, 16, 4472, 113, 103, 32, 15, 16, 5345, 19, 178, 32]\n"
          ],
          "name": "stdout"
        }
      ]
    },
    {
      "cell_type": "code",
      "metadata": {
        "id": "qQKF8JP_1h9Q",
        "colab_type": "code",
        "colab": {
          "base_uri": "https://localhost:8080/",
          "height": 34
        },
        "outputId": "21576023-f348-4c7f-ad0c-6fd63d86547c"
      },
      "source": [
        "print(train_labels[0])"
      ],
      "execution_count": null,
      "outputs": [
        {
          "output_type": "stream",
          "text": [
            "1\n"
          ],
          "name": "stdout"
        }
      ]
    },
    {
      "cell_type": "code",
      "metadata": {
        "id": "AZAL_TN719S5",
        "colab_type": "code",
        "colab": {
          "base_uri": "https://localhost:8080/",
          "height": 34
        },
        "outputId": "afcabc5f-b539-4f2e-94dc-367cf7c417a2"
      },
      "source": [
        "max([max(sequence) for sequence in train_data])\n",
        "import numpy as np\n",
        "np.max([np.median(sequence) for sequence in train_data])"
      ],
      "execution_count": null,
      "outputs": [
        {
          "output_type": "execute_result",
          "data": {
            "text/plain": [
              "1986.5"
            ]
          },
          "metadata": {
            "tags": []
          },
          "execution_count": 3
        }
      ]
    },
    {
      "cell_type": "code",
      "metadata": {
        "id": "0wOEcidj3DDs",
        "colab_type": "code",
        "colab": {
          "base_uri": "https://localhost:8080/",
          "height": 88
        },
        "outputId": "eda139a1-3ed9-481d-cef4-30985e1c03ec"
      },
      "source": [
        "# decoding reviews to weords\n",
        "word_index=imdb.get_word_index()\n",
        "reverse_word_index = dict([(value,key) for (key,value) in word_index.items()])\n",
        "decoded_review = \" \".join([reverse_word_index.get(i-3, '?') for i in train_data[5]])\n",
        "# i-3 because indeces 0-2 are reserved for padding, start of sequence and \"unknown\"\n",
        "print(decoded_review)"
      ],
      "execution_count": null,
      "outputs": [
        {
          "output_type": "stream",
          "text": [
            "Downloading data from https://s3.amazonaws.com/text-datasets/imdb_word_index.json\n",
            "1646592/1641221 [==============================] - 0s 0us/step\n",
            "? begins better than it ends funny that the russian submarine crew ? all other actors it's like those scenes where documentary shots br br spoiler part the message ? was contrary to the whole story it just does not ? br br\n"
          ],
          "name": "stdout"
        }
      ]
    },
    {
      "cell_type": "code",
      "metadata": {
        "id": "1fO6ieJK-Sc2",
        "colab_type": "code",
        "colab": {
          "base_uri": "https://localhost:8080/",
          "height": 51
        },
        "outputId": "ab0bf1eb-94fe-4fff-db9e-be19396910e5"
      },
      "source": [
        "# convert data (list of sequence of integers) to numpy matrices of shape (len(sequences), 10_000)\n",
        "# each list is converted to a vector of length 10,000\n",
        "# here each word(integer) will be 1 if presnt and 0 if not present in a particular secuence\n",
        "import numpy as np\n",
        "\n",
        "def vectorize_sequences(sequences, dimension=10_000):\n",
        "  results=np.zeros((len(sequences), dimension)) #numpy matrix of shape- (len(sequences), 10_000)\n",
        "  # assigning 1s to each sequence where words are present in that sequence\n",
        "  for i, sequence in enumerate(sequences):\n",
        "    results[i,sequence]=1 # if the 3rd sequence is [3456, 879, 23]; then eqn will be results[3, [3456, 879, 23]] = 1\n",
        "  return results\n",
        "\n",
        "x_train=vectorize_sequences(train_data, 10_000)\n",
        "x_test=vectorize_sequences(test_data, 10_000)\n",
        "\n",
        "print(x_train.shape)\n",
        "print(x_test.shape)\n",
        "\n"
      ],
      "execution_count": null,
      "outputs": [
        {
          "output_type": "stream",
          "text": [
            "(25000, 10000)\n",
            "(25000, 10000)\n"
          ],
          "name": "stdout"
        }
      ]
    },
    {
      "cell_type": "code",
      "metadata": {
        "id": "N3BOm0z-Ccdq",
        "colab_type": "code",
        "colab": {
          "base_uri": "https://localhost:8080/",
          "height": 51
        },
        "outputId": "ab937a13-b38a-479c-dc20-b8c28577a9ce"
      },
      "source": [
        "# vectorizing the labels to vector of shape- (len(sequences), )\n",
        "print(train_labels, train_labels.shape, type(train_labels))\n",
        "y_train=np.asarray(train_labels).astype('float32')\n",
        "y_test=np.asarray(test_labels).astype('float32')\n",
        "print(y_train, y_train.shape, type(y_train))"
      ],
      "execution_count": null,
      "outputs": [
        {
          "output_type": "stream",
          "text": [
            "[1 0 0 ... 0 1 0] (25000,) <class 'numpy.ndarray'>\n",
            "[1. 0. 0. ... 0. 1. 0.] (25000,) <class 'numpy.ndarray'>\n"
          ],
          "name": "stdout"
        }
      ]
    },
    {
      "cell_type": "markdown",
      "metadata": {
        "id": "R4m_-VFIJ3PT",
        "colab_type": "text"
      },
      "source": [
        "#  model definition"
      ]
    },
    {
      "cell_type": "code",
      "metadata": {
        "id": "9z3HgA-GJaSL",
        "colab_type": "code",
        "colab": {
          "base_uri": "https://localhost:8080/",
          "height": 139
        },
        "outputId": "d8ca9cec-eb69-4dd0-8a89-7dfa075c5c52"
      },
      "source": [
        "# model definition\n",
        "from keras import models, layers\n",
        "\n",
        "model=models.Sequential()\n",
        "model.add(layers.Dense(units=16, activation='relu', input_shape=(10_000, )))\n",
        "model.add(layers.Dense(units=16, activation='relu'))\n",
        "model.add(layers.Dense(units=1, activation=\"sigmoid\"))\n"
      ],
      "execution_count": null,
      "outputs": [
        {
          "output_type": "stream",
          "text": [
            "WARNING:tensorflow:From /usr/local/lib/python3.6/dist-packages/keras/backend/tensorflow_backend.py:66: The name tf.get_default_graph is deprecated. Please use tf.compat.v1.get_default_graph instead.\n",
            "\n",
            "WARNING:tensorflow:From /usr/local/lib/python3.6/dist-packages/keras/backend/tensorflow_backend.py:541: The name tf.placeholder is deprecated. Please use tf.compat.v1.placeholder instead.\n",
            "\n",
            "WARNING:tensorflow:From /usr/local/lib/python3.6/dist-packages/keras/backend/tensorflow_backend.py:4432: The name tf.random_uniform is deprecated. Please use tf.random.uniform instead.\n",
            "\n"
          ],
          "name": "stdout"
        }
      ]
    },
    {
      "cell_type": "markdown",
      "metadata": {
        "id": "ZoUPC289M2sk",
        "colab_type": "text"
      },
      "source": [
        "# Compiling the model"
      ]
    },
    {
      "cell_type": "markdown",
      "metadata": {
        "id": "tIkabDJDNd-u",
        "colab_type": "text"
      },
      "source": [
        "# crossentropy is the preferred choice of loss function whenever the outputs are probabilities.\n",
        "# crossentropy measures distance in probabbility distributions, in this case, the distance between ground truth distributions and our predictions.\n"
      ]
    },
    {
      "cell_type": "code",
      "metadata": {
        "id": "BKAh-wbXM9EH",
        "colab_type": "code",
        "colab": {
          "base_uri": "https://localhost:8080/",
          "height": 156
        },
        "outputId": "4d6e8c35-3f07-40ef-833a-fc3b9b6a0445"
      },
      "source": [
        "# crossentropy is the preferred choice of loss function whenever the outputs are probabilities.\n",
        "# crossentropy measures distance in probabbility distributions, in this case, the distance between ground truth distributions and our predictions.\n",
        "# we will also monitor accuracy during training\n",
        "model.compile(optimizer=\"rmsprop\", loss=\"binary_crossentropy\", metrics=['accuracy'])\n",
        "\n",
        "# here instead of optimizer string- pointing to optmizioer packaged with keras, we could have passed our custom optimizer class as well.\n",
        "# for custom loss and metrics we can pass functions"
      ],
      "execution_count": null,
      "outputs": [
        {
          "output_type": "stream",
          "text": [
            "WARNING:tensorflow:From /usr/local/lib/python3.6/dist-packages/keras/optimizers.py:793: The name tf.train.Optimizer is deprecated. Please use tf.compat.v1.train.Optimizer instead.\n",
            "\n",
            "WARNING:tensorflow:From /usr/local/lib/python3.6/dist-packages/keras/backend/tensorflow_backend.py:3657: The name tf.log is deprecated. Please use tf.math.log instead.\n",
            "\n",
            "WARNING:tensorflow:From /usr/local/lib/python3.6/dist-packages/tensorflow_core/python/ops/nn_impl.py:183: where (from tensorflow.python.ops.array_ops) is deprecated and will be removed in a future version.\n",
            "Instructions for updating:\n",
            "Use tf.where in 2.0, which has the same broadcast rule as np.where\n"
          ],
          "name": "stdout"
        }
      ]
    },
    {
      "cell_type": "markdown",
      "metadata": {
        "id": "K21ZY3-jOxon",
        "colab_type": "text"
      },
      "source": [
        "# Cross Validation Set Creation\n"
      ]
    },
    {
      "cell_type": "code",
      "metadata": {
        "id": "FAVB056NO5nn",
        "colab_type": "code",
        "colab": {}
      },
      "source": [
        "# set 10 k samples aside as cross validation set\n",
        "x_val=x_train[:10_000]\n",
        "partial_x_train=x_train[10_000:]\n",
        "\n",
        "y_val=y_train[:10_000]\n",
        "partial_y_train=y_train[10_000:]"
      ],
      "execution_count": null,
      "outputs": []
    },
    {
      "cell_type": "markdown",
      "metadata": {
        "id": "G75VcysQP6EE",
        "colab_type": "text"
      },
      "source": [
        "# Training the model"
      ]
    },
    {
      "cell_type": "code",
      "metadata": {
        "id": "YtbN68A5QAZb",
        "colab_type": "code",
        "colab": {
          "base_uri": "https://localhost:8080/",
          "height": 462
        },
        "outputId": "6f95453c-1345-4159-bd47-4513a3c60cfd"
      },
      "source": [
        "# train the model using 20 epochs(the whole data will be passed over 20 times)\n",
        "# using minibatch size of 512-> each time 512 sample will be sent across the model.\n",
        "# also provide validatiom set as input.\n",
        "# there is a pause at end of each epoch as it calculates accuracy and loss\n",
        "# history object is crteated at the end of it.\n",
        "# history object has a member history- which is a dictionary that has all the data about what happened during training using hidtorical data.\n",
        "\n",
        "#history=model.fit(x=partial_x_train, y=partial_y_train, batch_size=512, epochs=20, validation_data=(x_val, y_val))\n",
        "#this resulted in overfitting. Trying with fewer epochs\n",
        "history=model.fit(x=partial_x_train, y=partial_y_train, batch_size=512, epochs=4, validation_data=(x_val, y_val))"
      ],
      "execution_count": null,
      "outputs": [
        {
          "output_type": "stream",
          "text": [
            "WARNING:tensorflow:From /usr/local/lib/python3.6/dist-packages/keras/backend/tensorflow_backend.py:1033: The name tf.assign_add is deprecated. Please use tf.compat.v1.assign_add instead.\n",
            "\n",
            "WARNING:tensorflow:From /usr/local/lib/python3.6/dist-packages/keras/backend/tensorflow_backend.py:1020: The name tf.assign is deprecated. Please use tf.compat.v1.assign instead.\n",
            "\n",
            "WARNING:tensorflow:From /usr/local/lib/python3.6/dist-packages/keras/backend/tensorflow_backend.py:3005: The name tf.Session is deprecated. Please use tf.compat.v1.Session instead.\n",
            "\n",
            "Train on 15000 samples, validate on 10000 samples\n",
            "Epoch 1/4\n",
            "WARNING:tensorflow:From /usr/local/lib/python3.6/dist-packages/keras/backend/tensorflow_backend.py:190: The name tf.get_default_session is deprecated. Please use tf.compat.v1.get_default_session instead.\n",
            "\n",
            "WARNING:tensorflow:From /usr/local/lib/python3.6/dist-packages/keras/backend/tensorflow_backend.py:197: The name tf.ConfigProto is deprecated. Please use tf.compat.v1.ConfigProto instead.\n",
            "\n",
            "WARNING:tensorflow:From /usr/local/lib/python3.6/dist-packages/keras/backend/tensorflow_backend.py:207: The name tf.global_variables is deprecated. Please use tf.compat.v1.global_variables instead.\n",
            "\n",
            "WARNING:tensorflow:From /usr/local/lib/python3.6/dist-packages/keras/backend/tensorflow_backend.py:216: The name tf.is_variable_initialized is deprecated. Please use tf.compat.v1.is_variable_initialized instead.\n",
            "\n",
            "WARNING:tensorflow:From /usr/local/lib/python3.6/dist-packages/keras/backend/tensorflow_backend.py:223: The name tf.variables_initializer is deprecated. Please use tf.compat.v1.variables_initializer instead.\n",
            "\n",
            "15000/15000 [==============================] - 2s 136us/step - loss: 0.5375 - acc: 0.7961 - val_loss: 0.4322 - val_acc: 0.8395\n",
            "Epoch 2/4\n",
            "15000/15000 [==============================] - 1s 97us/step - loss: 0.3332 - acc: 0.8955 - val_loss: 0.3171 - val_acc: 0.8852\n",
            "Epoch 3/4\n",
            "15000/15000 [==============================] - 1s 97us/step - loss: 0.2375 - acc: 0.9227 - val_loss: 0.3002 - val_acc: 0.8826\n",
            "Epoch 4/4\n",
            "15000/15000 [==============================] - 1s 99us/step - loss: 0.1846 - acc: 0.9435 - val_loss: 0.2780 - val_acc: 0.8907\n"
          ],
          "name": "stdout"
        }
      ]
    },
    {
      "cell_type": "code",
      "metadata": {
        "id": "JKNDaflmSazs",
        "colab_type": "code",
        "colab": {
          "base_uri": "https://localhost:8080/",
          "height": 34
        },
        "outputId": "27281d48-f2c7-478e-a608-ceed3f32e26e"
      },
      "source": [
        "history_dict=history.history\n",
        "history_dict.keys()"
      ],
      "execution_count": null,
      "outputs": [
        {
          "output_type": "execute_result",
          "data": {
            "text/plain": [
              "dict_keys(['val_loss', 'val_acc', 'loss', 'acc'])"
            ]
          },
          "metadata": {
            "tags": []
          },
          "execution_count": 11
        }
      ]
    },
    {
      "cell_type": "markdown",
      "metadata": {
        "id": "Ikj4Dq7rWW3o",
        "colab_type": "text"
      },
      "source": [
        "# Plot loss and accuracy values during training\n",
        "\n"
      ]
    },
    {
      "cell_type": "code",
      "metadata": {
        "id": "iDnDT-cLWe9X",
        "colab_type": "code",
        "colab": {
          "base_uri": "https://localhost:8080/",
          "height": 295
        },
        "outputId": "de86518d-6925-4b7c-f96c-1ee791f31422"
      },
      "source": [
        "#plotting loss values\n",
        "import matplotlib.pyplot as plt\n",
        "history_dict=history.history\n",
        "loss_values=history_dict[\"loss\"]\n",
        "val_loss_values=history_dict[\"val_loss\"]\n",
        "\n",
        "epochs=range(1, len(loss_values)+1)\n",
        "epochs\n",
        "\n",
        "plt.plot(epochs, loss_values, 'bo', label=\"Training Loss\")\n",
        "plt.plot(epochs, val_loss_values, 'b', label='Validation Loss')\n",
        "plt.title(\"Training and validation loss vs epochs\")\n",
        "plt.xlabel(\"Epochs\")\n",
        "plt.ylabel(\"Loss\")\n",
        "plt.legend()\n",
        "plt.show()"
      ],
      "execution_count": null,
      "outputs": [
        {
          "output_type": "display_data",
          "data": {
            "image/png": "[encoded data removed]",
            "text/plain": [
              "<Figure size 432x288 with 1 Axes>"
            ]
          },
          "metadata": {
            "tags": []
          }
        }
      ]
    },
    {
      "cell_type": "code",
      "metadata": {
        "id": "-FZschYUZyjy",
        "colab_type": "code",
        "colab": {
          "base_uri": "https://localhost:8080/",
          "height": 295
        },
        "outputId": "3c89a7cb-295c-49bc-d2ec-f6412ff1d039"
      },
      "source": [
        "# plotting accuracy values\n",
        "plt.clf() #clears the figure\n",
        "accuracy_values=history_dict[\"acc\"]\n",
        "val_accuracy_values=history_dict[\"val_acc\"]\n",
        "\n",
        "plt.plot(epochs, accuracy_values, \"bo\", label=\"Training Accuracy\")\n",
        "plt.plot(epochs, val_accuracy_values, \"b\", label=\"Validation Accuracy\")\n",
        "\n",
        "plt.title(\"Traning accuracy and validation accuracy vs epochs\")\n",
        "plt.xlabel(\"epochs\")\n",
        "plt.ylabel(\"accuracy\")\n",
        "plt.legend()\n",
        "plt.show()"
      ],
      "execution_count": null,
      "outputs": [
        {
          "output_type": "display_data",
          "data": {
            "image/png": "[encoded data removed]",
            "text/plain": [
              "<Figure size 432x288 with 1 Axes>"
            ]
          },
          "metadata": {
            "tags": []
          }
        }
      ]
    },
    {
      "cell_type": "markdown",
      "metadata": {
        "id": "zjz2vdVhb86j",
        "colab_type": "text"
      },
      "source": [
        "# Gettings results on test data\n"
      ]
    },
    {
      "cell_type": "code",
      "metadata": {
        "id": "dhF7s6-McBLQ",
        "colab_type": "code",
        "colab": {
          "base_uri": "https://localhost:8080/",
          "height": 51
        },
        "outputId": "6bd24911-7781-42e6-c4a8-ee616ed24383"
      },
      "source": [
        "results=model.evaluate(x=x_test, y=y_test)\n",
        "results"
      ],
      "execution_count": null,
      "outputs": [
        {
          "output_type": "stream",
          "text": [
            "25000/25000 [==============================] - 2s 67us/step\n"
          ],
          "name": "stdout"
        },
        {
          "output_type": "execute_result",
          "data": {
            "text/plain": [
              "[0.29761677885055543, 0.88024]"
            ]
          },
          "metadata": {
            "tags": []
          },
          "execution_count": 14
        }
      ]
    },
    {
      "cell_type": "markdown",
      "metadata": {
        "id": "iy4357uzAR4V",
        "colab_type": "text"
      },
      "source": [
        "# Predict on test data\n"
      ]
    },
    {
      "cell_type": "code",
      "metadata": {
        "id": "TV84Yu86AVZz",
        "colab_type": "code",
        "colab": {}
      },
      "source": [
        "predicted_results=model.predict(x=x_test)\n"
      ],
      "execution_count": null,
      "outputs": []
    },
    {
      "cell_type": "code",
      "metadata": {
        "id": "vQPkca2qApt-",
        "colab_type": "code",
        "colab": {
          "base_uri": "https://localhost:8080/",
          "height": 136
        },
        "outputId": "bef154f2-12a2-4878-a645-b98496bca19e"
      },
      "source": [
        "predicted_results"
      ],
      "execution_count": null,
      "outputs": [
        {
          "output_type": "execute_result",
          "data": {
            "text/plain": [
              "array([[0.24184957],\n",
              "       [0.9991057 ],\n",
              "       [0.94096816],\n",
              "       ...,\n",
              "       [0.11394534],\n",
              "       [0.1561695 ],\n",
              "       [0.41561538]], dtype=float32)"
            ]
          },
          "metadata": {
            "tags": []
          },
          "execution_count": 17
        }
      ]
    }
  ]
}