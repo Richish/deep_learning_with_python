{
  "nbformat": 4,
  "nbformat_minor": 0,
  "metadata": {
    "colab": {
      "name": "ch8_generative_deep_learinng.ipynb",
      "provenance": [],
      "collapsed_sections": [],
      "toc_visible": true,
      "authorship_tag": "ABX9TyP92dgSHLjFizEM+OMy24xo",
      "include_colab_link": true
    },
    "kernelspec": {
      "name": "python3",
      "display_name": "Python 3"
    },
    "accelerator": "GPU"
  },
  "cells": [
    {
      "cell_type": "markdown",
      "metadata": {
        "id": "view-in-github",
        "colab_type": "text"
      },
      "source": [
        "<a href=\"https://colab.research.google.com/github/Richish/deep_learning_with_python/blob/master/ch8_generative_deep_learinng.ipynb\" target=\"_parent\"><img src=\"https://colab.research.google.com/assets/colab-badge.svg\" alt=\"Open In Colab\"/></a>"
      ]
    },
    {
      "cell_type": "markdown",
      "metadata": {
        "id": "5fErinJc89i8",
        "colab_type": "text"
      },
      "source": [
        "## Text generation with LSTM"
      ]
    },
    {
      "cell_type": "markdown",
      "metadata": {
        "id": "lXKnFWAK8l2w",
        "colab_type": "text"
      },
      "source": [
        "### Reweighting a probability distribution to a different temperature"
      ]
    },
    {
      "cell_type": "code",
      "metadata": {
        "id": "DEvoXE1Z73PF",
        "colab_type": "code",
        "colab": {
          "base_uri": "https://localhost:8080/",
          "height": 51
        },
        "outputId": "3ab472bb-ab35-4012-f710-e6cd1aa6f9e0"
      },
      "source": [
        "import numpy as np\n",
        "def weight_redistribution(original_distribution, temperature=0.8):\n",
        "    distribution=np.log(original_distribution)/temperature\n",
        "    distribution=np.exp(distribution)\n",
        "    distribution=distribution/np.sum(distribution)\n",
        "    return distribution\n",
        "\n",
        "a=np.array([0.1, 0.2, 0.3, 0.2, 0.1, 0.1])\n",
        "weight_redistribution(a)\n"
      ],
      "execution_count": null,
      "outputs": [
        {
          "output_type": "execute_result",
          "data": {
            "text/plain": [
              "array([0.08543321, 0.20319555, 0.33730927, 0.20319555, 0.08543321,\n",
              "       0.08543321])"
            ]
          },
          "metadata": {
            "tags": []
          },
          "execution_count": 1
        }
      ]
    },
    {
      "cell_type": "markdown",
      "metadata": {
        "id": "r_HxCg-59H7J",
        "colab_type": "text"
      },
      "source": [
        "### Implementing character-level LSTM text generation\n",
        "\n",
        "In\n",
        "this example, you’ll use some of the writings of Nietzsche, the late-nineteenth century\n",
        "German philosopher (translated into English). The language model you’ll learn will\n",
        "thus be specifically a model of Nietzsche’s writing style and topics of choice, rather\n",
        "than a more generic model of the English language."
      ]
    },
    {
      "cell_type": "markdown",
      "metadata": {
        "id": "8LJDIGSE_7qR",
        "colab_type": "text"
      },
      "source": [
        "#### Downloading and parsing the initial text file"
      ]
    },
    {
      "cell_type": "code",
      "metadata": {
        "id": "1UhUc5yc9Gps",
        "colab_type": "code",
        "colab": {
          "base_uri": "https://localhost:8080/",
          "height": 85
        },
        "outputId": "71f83fc1-6c82-4d75-a9b2-de96e7c97aaa"
      },
      "source": [
        "import keras\n",
        "import numpy as np\n",
        "path = keras.utils.get_file(\n",
        "'nietzsche.txt',\n",
        "origin='https://s3.amazonaws.com/text-datasets/nietzsche.txt')\n",
        "text = open(path).read().lower()\n",
        "print('Corpus length:', len(text))"
      ],
      "execution_count": null,
      "outputs": [
        {
          "output_type": "stream",
          "text": [
            "Using TensorFlow backend.\n"
          ],
          "name": "stderr"
        },
        {
          "output_type": "stream",
          "text": [
            "Downloading data from https://s3.amazonaws.com/text-datasets/nietzsche.txt\n",
            "606208/600901 [==============================] - 0s 1us/step\n",
            "Corpus length: 600893\n"
          ],
          "name": "stdout"
        }
      ]
    },
    {
      "cell_type": "markdown",
      "metadata": {
        "id": "4cyviDikAbew",
        "colab_type": "text"
      },
      "source": [
        "#### Vectorizing text\n",
        "\n",
        "You’ll extract partially overlapping sequences of length maxlen, one-hot encode\n",
        "them, and pack them in a 3D Numpy array x of shape (sequences, maxlen,\n",
        "unique_characters). Simultaneously, you’ll prepare an array y containing the corresponding\n",
        "targets: the one-hot-encoded characters that come after each extracted\n",
        "sequence."
      ]
    },
    {
      "cell_type": "code",
      "metadata": {
        "id": "Hj3r2pB59G3h",
        "colab_type": "code",
        "colab": {
          "base_uri": "https://localhost:8080/",
          "height": 51
        },
        "outputId": "f5e5a1d6-bfb4-4853-b151-eeb5f35e5ba5"
      },
      "source": [
        "maxlen = 60 # sentences of length 60 chars each\n",
        "step = 3 # sentences sampled at an interval of 3 characters\n",
        "sentences = [] # list of sentences extracted.\n",
        "next_chars = [] # list of next character for those sentences\n",
        "\n",
        "for i in range(0, len(text)-maxlen, step):\n",
        "    sentences.append(text[i: i+maxlen])\n",
        "    next_chars.append(text[i+maxlen])\n",
        "print(len(sentences), len(next_chars))\n",
        "sentences[0], next_chars[0]"
      ],
      "execution_count": null,
      "outputs": [
        {
          "output_type": "stream",
          "text": [
            "200278 200278\n"
          ],
          "name": "stdout"
        },
        {
          "output_type": "execute_result",
          "data": {
            "text/plain": [
              "('preface\\n\\n\\nsupposing that truth is a woman--what then? is the', 'r')"
            ]
          },
          "metadata": {
            "tags": []
          },
          "execution_count": 3
        }
      ]
    },
    {
      "cell_type": "code",
      "metadata": {
        "id": "y21zUPZE9HCb",
        "colab_type": "code",
        "colab": {
          "base_uri": "https://localhost:8080/",
          "height": 34
        },
        "outputId": "1c3819ef-8141-4c87-847f-3eadc71413a7"
      },
      "source": [
        "chars=sorted(list(set(text)))\n",
        "len(chars)\n",
        "chars[0:5]"
      ],
      "execution_count": null,
      "outputs": [
        {
          "output_type": "execute_result",
          "data": {
            "text/plain": [
              "['\\n', ' ', '!', '\"', \"'\"]"
            ]
          },
          "metadata": {
            "tags": []
          },
          "execution_count": 4
        }
      ]
    },
    {
      "cell_type": "code",
      "metadata": {
        "id": "cvoIO5AZ9HFX",
        "colab_type": "code",
        "colab": {
          "base_uri": "https://localhost:8080/",
          "height": 34
        },
        "outputId": "aae2f7a4-8fc3-486e-c85b-dcd2cf8f8723"
      },
      "source": [
        "char_indices = dict((char, chars.index(char)) for char in chars)\n",
        "char_indices['a']"
      ],
      "execution_count": null,
      "outputs": [
        {
          "output_type": "execute_result",
          "data": {
            "text/plain": [
              "27"
            ]
          },
          "metadata": {
            "tags": []
          },
          "execution_count": 5
        }
      ]
    },
    {
      "cell_type": "code",
      "metadata": {
        "id": "Q7OVAzlg9HIc",
        "colab_type": "code",
        "colab": {
          "base_uri": "https://localhost:8080/",
          "height": 34
        },
        "outputId": "95255a3b-5ce7-49da-d7bc-4dc3ef217b7f"
      },
      "source": [
        "print('Vectorization...')\n",
        "x = np.zeros((len(sentences), maxlen, len(chars)), dtype=np.bool)\n",
        "y = np.zeros((len(sentences), len(chars)), dtype=np.bool)\n",
        "\n",
        "for i, sentence in enumerate(sentences):\n",
        "    for j, char in enumerate(sentence):\n",
        "        x[i, j, char_indices[char]] = 1\n",
        "        y[i, char_indices[next_chars[i]]] = 1\n"
      ],
      "execution_count": null,
      "outputs": [
        {
          "output_type": "stream",
          "text": [
            "Vectorization...\n"
          ],
          "name": "stdout"
        }
      ]
    },
    {
      "cell_type": "markdown",
      "metadata": {
        "id": "KM0bdH8G9H-G",
        "colab_type": "text"
      },
      "source": [
        "#### Single-layer LSTM model for next-character prediction"
      ]
    },
    {
      "cell_type": "code",
      "metadata": {
        "id": "cpOf6m3o9HLV",
        "colab_type": "code",
        "colab": {}
      },
      "source": [
        "from keras import layers\n",
        "model = keras.models.Sequential()\n",
        "model.add(layers.LSTM(128, input_shape=(maxlen, len(chars))))\n",
        "model.add(layers.Dense(len(chars), activation='softmax'))\n",
        "\n",
        "optimizer = keras.optimizers.RMSprop(lr=0.01)\n",
        "model.compile(loss='categorical_crossentropy', optimizer=optimizer)\n"
      ],
      "execution_count": null,
      "outputs": []
    },
    {
      "cell_type": "markdown",
      "metadata": {
        "id": "7m-3mblB9IBE",
        "colab_type": "text"
      },
      "source": [
        "#### TRAINING THE LANGUAGE MODEL AND SAMPLING FROM IT\n",
        "Given a trained model and a seed text snippet, you can generate new text by doing the\n",
        "following repeatedly:\n",
        "1 Draw from the model a probability distribution for the next character, given the\n",
        "generated text available so far.\n",
        "2 Reweight the distribution to a certain temperature.\n",
        "3 Sample the next character at random according to the reweighted distribution.\n",
        "4 Add the new character at the end of the available text.\n",
        "This is the code you use to reweight the original probability distribution coming out\n",
        "of the model and draw a character index from it (the sampling function)."
      ]
    },
    {
      "cell_type": "code",
      "metadata": {
        "id": "sjCL7CG69HT6",
        "colab_type": "code",
        "colab": {}
      },
      "source": [
        "def sample(preds, temperature=1.0):\n",
        "    preds = np.asarray(preds).astype('float64')\n",
        "    preds = np.log(preds) / temperature\n",
        "    exp_preds = np.exp(preds)\n",
        "    preds = exp_preds / np.sum(exp_preds)\n",
        "    probas = np.random.multinomial(1, preds, 1)\n",
        "    return np.argmax(probas)"
      ],
      "execution_count": null,
      "outputs": []
    },
    {
      "cell_type": "markdown",
      "metadata": {
        "id": "-8Rv75RO9IEI",
        "colab_type": "text"
      },
      "source": [
        "##### Text generation loop"
      ]
    },
    {
      "cell_type": "code",
      "metadata": {
        "id": "KTB_YsPa9IT4",
        "colab_type": "code",
        "colab": {
          "base_uri": "https://localhost:8080/",
          "height": 1000
        },
        "outputId": "e3672ab4-61a7-451c-dab6-e84dd4afd562"
      },
      "source": [
        "import random\n",
        "import sys\n",
        "for epoch in range(1, 60):\n",
        "    print('epoch', epoch)\n",
        "    model.fit(x, y, batch_size=128, epochs=1)\n",
        "    start_index = random.randint(0, len(text) - maxlen - 1)\n",
        "    generated_text = text[start_index: start_index + maxlen]\n",
        "    print('--- Generating with seed: \"' + generated_text + '\"')\n",
        "    for temperature in [0.2, 0.5, 1.0, 1.2]:\n",
        "        print('------ temperature:', temperature)\n",
        "        sys.stdout.write(generated_text)\n",
        "        for i in range(400):\n",
        "            sampled = np.zeros((1, maxlen, len(chars)))\n",
        "            for t, char in enumerate(generated_text):\n",
        "                sampled[0, t, char_indices[char]] = 1\n",
        "            preds = model.predict(sampled, verbose=0)[0]\n",
        "            next_index = sample(preds, temperature)\n",
        "            next_char = chars[next_index]\n",
        "            generated_text += next_char\n",
        "            generated_text = generated_text[1:]\n",
        "            sys.stdout.write(next_char)"
      ],
      "execution_count": null,
      "outputs": [
        {
          "output_type": "stream",
          "text": [
            "epoch 1\n",
            "Epoch 1/1\n",
            "200278/200278 [==============================] - 159s 796us/step - loss: 1.9716\n",
            "--- Generating with seed: \"rits--and some day perhaps such will\n",
            "actually be our--posthu\"\n",
            "------ temperature: 0.2\n",
            "rits--and some day perhaps such will\n",
            "actually be our--posthulish of the most there all there is all sure there is and suppining there is in the most there is something there is is and and and in the courses and more there is and there and and and suppinity and farthely of the religious and and all there is all suppinity of the more there is is is all surpession of the more there is a more and and and there is something there is is is a more there is in the------ temperature: 0.5\n",
            "and there is something there is is is a more there is in there is intentent of the man and simpless his and interpless, and nother the most propess of the most them a vasulishts and man in the instrunce this such every there is man be any residence of the manter, and iminst there and frights spirition of anchull the somations. there is and according--in there is its likerty and for there is is nother which the most like and gains and something there every ------ temperature: 1.0\n",
            "her which the most like and gains and something there every kind. these with \"duchss\n",
            "=er things onlyestly-pathition to\n",
            "thorung will despless\n",
            "a dimvaus,\n",
            "ffir esgminess in much is \"kind lives with there of shfects of misuuphing.\n",
            "formy of the girs varity his discoin us can its live, of theirck,\" all\n",
            "fort\n",
            "the singering, vertlies this dircoless of menwas condcrualis6 of sunts the move represtions? of the esse they your recont to whenes as in the wereing orgerne------ temperature: 1.2\n",
            "he esse they your recont to whenes as in the wereing orgerners, versic,\n",
            "\n",
            "\n",
            "9qciusf it with 2ipers \"groue, in overy, one value\n",
            "vuestively one roovusne find werple, antlig-trezes thereby blen dveriessfreeknous! ti ifferat onever itselfess, was\n",
            "soins; imamining--feenur it whicl if churck, it blactional-cimrordiemplation that be posmonation; i kinds is degrept and stiakd in miencioualjency; concroncence,mative\n",
            "burd. knong ourisher\" hil sfeech younhers, brentatiepoch 2\n",
            "Epoch 1/1\n",
            "200278/200278 [==============================] - 157s 784us/step - loss: 1.6156\n",
            "--- Generating with seed: \"d more who have arrived at the negative goal (that all posit\"\n",
            "------ temperature: 0.2\n",
            "d more who have arrived at the negative goal (that all position of the sense and some some some world the self suffers the self to the conscience of the sense of the world to the some is a sort and and itself and the soul and the some some some some so interest in the sense of the sense and interest who has a self and the same the enough the self the entiments and the condition of the sense and and some some decelvent of the soul and self so the some some ------ temperature: 0.5\n",
            "d some some decelvent of the soul and self so the some some as the same the same to the contempt of the faute nothing to the self a facts of the soul contented that who how the world as a soul an and the one means and german success and what so science to the some world and ready\n",
            "enter should be existing as is a faith of the wees of men as the some the enoure morality of the soul man of the self-as woman, the self-the far the before an and\n",
            "informince and t------ temperature: 1.0\n",
            "s woman, the self-the far the before an and\n",
            "informince and themselves, he contrusice and detomen worly live the conclusoon perhaps. not into depllament. that is so fathone, in furtrorsoe him, nothing a deluctable themselves with de2ined to suffers the : been easony--who conditions and\n",
            "of , accurfical enterpoin an\n",
            "awffe gaps thans must itlieve nonds loved he romice obligen to their sun the goide midit. the faitewelasur of the geperationelf, and\n",
            "posmicik of ------ temperature: 1.2\n",
            "dit. the faitewelasur of the geperationelf, and\n",
            "posmicik of thing useity.? . we sexma individualily, inte,\n",
            "the grtth?p or \"\"thought towical goad, every \"whore consequenat in.i\n",
            "till, it seevers trathy moot\n",
            "of that comloged ewtlaness, vey of ahainstrust]-at an seem of but furtion of longy.\n",
            "\n",
            "\n",
            "r6r the wo lass, would like--the\n",
            "yequelos, workengrs ifvertantarwant symblest\n",
            "raking depro.\" norl-morn, kinds from wils; somes \"good victly,\n",
            "oblightly., that she, roius epoch 3\n",
            "Epoch 1/1\n",
            "200278/200278 [==============================] - 158s 790us/step - loss: 1.5296\n",
            "--- Generating with seed: \"e is ever less and less material for tragedy, since the\n",
            "doma\"\n",
            "------ temperature: 0.2\n",
            "e is ever less and less material for tragedy, since the\n",
            "doman and the faloure and the constance of the spirits of the german such a man in the state of the constantly in the standard to the constantly the constantly the come the consisten the facted the constantly and such all the surptions of the constantly and such a man state and such a man in the constantly of the constance to the man in the religious the constantly the present and the spirits of the s------ temperature: 0.5\n",
            "eligious the constantly the present and the spirits of the sense of the still the person in such all the acc. the philosophers, the come of the impresent fine the carding to the called man who says of his charms of the called an author the pressing of the\n",
            "same the consistome to the state of the person of the sure there are before for instance without man immatic of the fact of the contemptation is searthing,\n",
            "which the imself string of charte of the cause o------ temperature: 1.0\n",
            " searthing,\n",
            "which the imself string of charte of the cause of mome--or a right of anrinsry awaituals to or life our sacrofor,\n",
            "the decidary that the man  of final stull destrustion, the srinked where hought and fo\n",
            "ceary, oo casent, the goen them thereby verever presentig--that gree\n",
            "shonds. the frint-phasil confinent, the mad--is in\n",
            " feel all the one hand willing--a\n",
            "atterposed, muchwan, if one goal, but one and triver disheine of that to evhece enough consci------ temperature: 1.2\n",
            " but one and triver disheine of that to evhece enough conscience--at the licrlatongafleds in\n",
            "your s wor.\n",
            "\n",
            "\n",
            "forcitest ar, from unde ma! i free sgains come that as\n",
            "mode pobracsow wal art of loy, freadom something itselaso.i hadds of knowge, as t sugh suhiture.\n",
            "\n",
            "\"1y need to mankind-etheps very religions.\" them\n",
            "synou of\n",
            "the (vantiaryjoder and cersonachesi of this poichles of pizence therewn\n",
            "sagekmano,juring as sumitate, best with more indvencisut movistome\n",
            "eunepoch 4\n",
            "Epoch 1/1\n",
            "200278/200278 [==============================] - 159s 795us/step - loss: 1.4831\n",
            "--- Generating with seed: \"n their charity. parents involuntarily make something like\n",
            "t\"\n",
            "------ temperature: 0.2\n",
            "n their charity. parents involuntarily make something like\n",
            "the more an intentions of the self and the self will to be the self and the self and all the self the self which the self with the self the more consequences to the contemptions of the faith in the self and the soul all the soul the stronges of the soul a man is the self-delicate the self and the self-delicate and the self all the more the soul a man is a man in the greatest to the more propers of ------ temperature: 0.5\n",
            " soul a man is a man in the greatest to the more propers of the dolies will to real to the world, the soul is it is\n",
            "in its a common is more perfect to man be a jost aristoments and self-continuderations and originally before the compart of the soul to and to be incomposes in the most being a fairness of his truth the fastical the man will to vilt a self-a dangerous for instances as the sense of the community of the world, which will to the contemption of t------ temperature: 1.0\n",
            "e community of the world, which will to the contemption of the throrge his have a\n",
            "himliletic, eurous of which will flid to men of mad, deceion, an ehow is bordlyminess, afve of the fuculation:\n",
            "the sense of such the occivitors with the\n",
            "every by themselves, motive, to a meutuon adquir, for no dellied will contemint, impupes a educating will to me not which all consequleness all to fact, a thong itself of thell as that for commandephations ritional\n",
            "dosidgele,------ temperature: 1.2\n",
            "lf of thell as that for commandephations ritional\n",
            "dosidgele, to actagion of a\n",
            "yeltous apparrloplom.= thankn mentoch, as must prosofed;--a wanding, thaid, becties good nowed vihation\n",
            "man, pnewroo, as a other, of with ehol-dooks, putai: be\n",
            "craimses \"all helf--ancadict, fengies to learly aspects,\" with them? moderly\n",
            "famile early\n",
            "distrust self, his every\n",
            "look, ascetificceness it be fresssidible, things som an tacative to the metimatisn to at more refluingus,\n",
            "depoch 5\n",
            "Epoch 1/1\n",
            "200278/200278 [==============================] - 157s 785us/step - loss: 1.4544\n",
            "--- Generating with seed: \"commencement, an engendering, or primary cause, nothing hard\"\n",
            "------ temperature: 0.2\n",
            "commencement, an engendering, or primary cause, nothing hardinant the strong and the strong the fact the strong the fear and should be the strong the stronger and most and the strong to the strong the stronger and the same and the fact of the strong to the sense the self a morals and and the profound to the struggle the stronger the stronger the strong the profound the strong the strong to the strong to the strong to the most fact of the strong the stronge------ temperature: 0.5\n",
            "ong to the strong to the most fact of the strong the stronger of the fear that the praise and should be laightorious and the surreptions and and is semblarily some the our that the will development compares to the strong--is do not to the strind and are to be self sense and being in the fact in the conscience and spiritual conscience of the really the contrary untimally proprehend, the most schopenhauer's for the sense of a being to the findity of the stro------ temperature: 1.0\n",
            "nhauer's for the sense of a being to the findity of the stronds elread: mode wcitsy of the being are riste, sbutdinace, to a mautteral holow. on the promitly devilable\n",
            "for not le our\n",
            "conscive can 8on mimals out, all suspice,ifac and in in the question and a profrom\n",
            "to petsed\n",
            "\"selfuls\n",
            "take\n",
            "spirit the cruession can no way in praish the more occasism, takes a to all love\n",
            "him aptensing means for the new high excesss, sense decaivly mench to spition and fintabl------ temperature: 1.2\n",
            "ew high excesss, sense decaivly mench to spition and fintable.\n",
            "hur aliht\n",
            "withowh yea tamuly thoughts, and and vil, somgethen throught\n",
            "of egoistibles not--one. it is clupting \"mode\n",
            "them that i does cat a \"power.\n",
            "it is on dapuslomism\n",
            "be, new mutunatees: a most proppessicjur draws is toly\n",
            "the sinful . would ne; and\n",
            "_is\n",
            "sup-\n",
            "differently faculty. but an\n",
            "art which who does with repreous, from\n",
            "the trol 1\"o annevolitude, to attains, this that it may eviratian reliepoch 6\n",
            "Epoch 1/1\n",
            "200278/200278 [==============================] - 161s 806us/step - loss: 1.4314\n",
            "--- Generating with seed: \"e background of all their personal vanity, women themselves\n",
            "\"\n",
            "------ temperature: 0.2\n",
            "e background of all their personal vanity, women themselves\n",
            "with a sense of the consideration of the same and the persishiaries of the sense of the sense of the sense of the consequently and and seems the consideration of the truth of the sense of the sense of the persishiaring and desire of the conscious and propess and the consideration of a more the conscious to the persine the self-all the great the same to the soul the persishiaries of the sense of th------ temperature: 0.5\n",
            "at the same to the soul the persishiaries of the sense of the another of the taste of the europe of the temposs of the same every unils the\n",
            "e the general propress of deception of a concerning the mark of no deeling and mistaken are to precisely and this say the fundamentally and in the fact to the same things a philosophers and consideration that one with this merely to his fact in order to the best the propesses of the earth with the every dangerous and s------ temperature: 1.0\n",
            "st the propesses of the earth with the every dangerous and swanegors of undersing question\", however, must, as refired?y-but master usmork inter-all store. to be pain\n",
            "to the ashers, enchar's this\n",
            "mediocrifies\" magne to his power the ercolision and decide and specialiy but understand that should his veote of\n",
            "\"much  solitude grown, the bhick than every over alady be heaper deceives a seluch to means of ax\n",
            "ehow, and the mesting, that reveom that should is sac------ temperature: 1.2\n",
            " of ax\n",
            "ehow, and the mesting, that reveom that should is sacriff detewy tomain, and to arm bliwed per is crixer sringions\n",
            "deriving the counter. possible by aatpost enzow togied things, unbircem: this denurire\n",
            "of high roing enjouraurl and cjusteszabl's\n",
            "iffor babity and lived for nature-and im;\n",
            "with this whole towards, rask. ad. theuraveglress,\n",
            "condicid--who knows, by \"vents in the earth for the\n",
            "actions to only pachful xistlopen ttyr. through founding mays\n",
            "fepoch 7\n",
            "Epoch 1/1\n",
            "200278/200278 [==============================] - 160s 799us/step - loss: 1.4154\n",
            "--- Generating with seed: \"a rochefoucauld and\n",
            "those other french masters of soul-searc\"\n",
            "------ temperature: 0.2\n",
            "a rochefoucauld and\n",
            "those other french masters of soul-search and soul is the straight to the soul it is all the stronger and subtlements to be discontling the individual and the strict the strictly to be superiority and the soul the stronger to be individuals and the stronger of the straight in the stronger the conscience of the stronger of the strength in the self soul is the stronger the soul in the spirit which the stronger the soul the conditions and ------ temperature: 0.5\n",
            "n the spirit which the stronger the soul the conditions and the disconsess into the sport and both to have the soul happen consider which not to the the supertine and instrousion\n",
            "dreams like an any and any belief to be the belief to standoned in the soul be any more without the similar and provess percosism and the experience of the wors of the own will be every action and compart and discourse that the was only as a supertitality in the your and incloud t------ temperature: 1.0\n",
            "at the was only as a supertitality in the your and incloud togring broal harm conducion castes the\n",
            "archlow, it is the\n",
            "wondule in those car\n",
            "chengrigness in a personely--burmit in compulaited, at lasts trigbition is are decestspulases of stricturity hitherto acwains hisen obwise, how part woman from valuate\n",
            "last to straigh of\n",
            "their real saive. whene hin\n",
            "haspect that aro e morality, as anschine\n",
            "changes\n",
            "without frea\n",
            "uspi-inthis sonhation and\n",
            "what\n",
            "opence of its------ temperature: 1.2\n",
            "es\n",
            "without frea\n",
            "uspi-inthis sonhation and\n",
            "what\n",
            "opence of its\n",
            "othings, ofventagipily, and , and but it, the\n",
            "chilselsfungnessnoty? free-sthoral last; to\"-and operhic to conhotions maint-ded sufficielfy, itsest, as sensiriatowical\n",
            "regres sureitss \"han strowardhavi without peosoped, and  end spectible percosements\n",
            "away contilrat an comsises. when ingalment, still happies,\n",
            "slacees less hardnds and\n",
            "stated makes make; to\n",
            "vawing\n",
            "freenencles to matter,\n",
            "he heach pheepoch 8\n",
            "Epoch 1/1\n",
            "179328/200278 [=========================>....] - ETA: 16s - loss: 1.4005"
          ],
          "name": "stdout"
        }
      ]
    },
    {
      "cell_type": "code",
      "metadata": {
        "id": "7pu_FuiP9IW3",
        "colab_type": "code",
        "colab": {}
      },
      "source": [
        ""
      ],
      "execution_count": null,
      "outputs": []
    },
    {
      "cell_type": "code",
      "metadata": {
        "id": "6qCQFDKK9IaH",
        "colab_type": "code",
        "colab": {}
      },
      "source": [
        ""
      ],
      "execution_count": null,
      "outputs": []
    },
    {
      "cell_type": "code",
      "metadata": {
        "id": "qWatioZL9Ikr",
        "colab_type": "code",
        "colab": {}
      },
      "source": [
        ""
      ],
      "execution_count": null,
      "outputs": []
    },
    {
      "cell_type": "markdown",
      "metadata": {
        "id": "tgzYZD4s9I6B",
        "colab_type": "text"
      },
      "source": [
        ""
      ]
    },
    {
      "cell_type": "markdown",
      "metadata": {
        "id": "OS2fFY929I83",
        "colab_type": "text"
      },
      "source": [
        ""
      ]
    },
    {
      "cell_type": "code",
      "metadata": {
        "id": "D8HpuB8o9JJ2",
        "colab_type": "code",
        "colab": {}
      },
      "source": [
        ""
      ],
      "execution_count": null,
      "outputs": []
    },
    {
      "cell_type": "code",
      "metadata": {
        "id": "bdU9Kr7G9JM-",
        "colab_type": "code",
        "colab": {}
      },
      "source": [
        ""
      ],
      "execution_count": null,
      "outputs": []
    },
    {
      "cell_type": "code",
      "metadata": {
        "id": "UCf1fDbe9JP2",
        "colab_type": "code",
        "colab": {}
      },
      "source": [
        ""
      ],
      "execution_count": null,
      "outputs": []
    },
    {
      "cell_type": "code",
      "metadata": {
        "id": "2YGD78Jk9JSw",
        "colab_type": "code",
        "colab": {}
      },
      "source": [
        ""
      ],
      "execution_count": null,
      "outputs": []
    }
  ]
}